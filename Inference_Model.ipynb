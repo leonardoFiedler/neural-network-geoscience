{
 "metadata": {
  "language_info": {
   "codemirror_mode": {
    "name": "ipython",
    "version": 3
   },
   "file_extension": ".py",
   "mimetype": "text/x-python",
   "name": "python",
   "nbconvert_exporter": "python",
   "pygments_lexer": "ipython3",
   "version": "3.9.0"
  },
  "orig_nbformat": 2,
  "kernelspec": {
   "name": "pythonjvsc74a57bd0f57ac3dc69f9b6a7ca8341da2f49afa2cd89ab2c0cc6c1a8b4fb989970585386",
   "display_name": "Python 3.9.0 64-bit ('.venv': venv)"
  },
  "metadata": {
   "interpreter": {
    "hash": "f57ac3dc69f9b6a7ca8341da2f49afa2cd89ab2c0cc6c1a8b4fb989970585386"
   }
  }
 },
 "nbformat": 4,
 "nbformat_minor": 2,
 "cells": [
  {
   "cell_type": "code",
   "execution_count": 28,
   "metadata": {},
   "outputs": [],
   "source": [
    "import torch\n",
    "import pandas as pd\n",
    "import numpy as np\n",
    "from sklearn.model_selection import train_test_split\n",
    "from sklearn.preprocessing import MinMaxScaler\n",
    "import torch.nn as nn"
   ]
  },
  {
   "cell_type": "code",
   "execution_count": 41,
   "metadata": {},
   "outputs": [],
   "source": [
    "def class_num_to_name(i):\n",
    "    if i == 0: \n",
    "        return 86000.0\n",
    "    elif i == 1: \n",
    "        return 93000.0\n",
    "    elif i == 2: \n",
    "        return 70032.0\n",
    "    elif i == 3: \n",
    "        return 90000.0\n",
    "    elif i == 4: \n",
    "        return 74000.0\n",
    "    elif i == 5: \n",
    "        return 88000.0\n",
    "    elif i == 6: \n",
    "        return 70000.0\n",
    "    elif i == 7: \n",
    "        return 80000.0\n",
    "    elif i == 8: \n",
    "        return 30000.0\n",
    "    elif i == 9: \n",
    "        return 65030.0\n",
    "    elif i == 10: \n",
    "        return 65000.0\n",
    "    elif i == 11: \n",
    "        return 99000.0       "
   ]
  },
  {
   "cell_type": "code",
   "execution_count": 20,
   "metadata": {},
   "outputs": [
    {
     "output_type": "execute_result",
     "data": {
      "text/plain": [
       "   DEPTH_MD         X_LOC      Y_LOC       Z_LOC       CALI   RSHA      RMED  \\\n",
       "0   494.528  437641.96875  6470972.5 -469.501831  19.480835 -999.0  1.611410   \n",
       "1   494.680  437641.96875  6470972.5 -469.653809  19.468800 -999.0  1.618070   \n",
       "2   494.832  437641.96875  6470972.5 -469.805786  19.468800 -999.0  1.626459   \n",
       "3   494.984  437641.96875  6470972.5 -469.957794  19.459282 -999.0  1.621594   \n",
       "4   495.136  437641.96875  6470972.5 -470.109772  19.453100 -999.0  1.602679   \n",
       "\n",
       "       RDEP      RHOB         GR  ...  Carbon_Index  Normalized_RHOB  \\\n",
       "0  1.798681  1.884186  80.200851  ...     24.735691         0.314847   \n",
       "1  1.795641  1.889794  79.262886  ...     24.492376         0.318528   \n",
       "2  1.800733  1.896523  74.821999  ...     24.202299         0.322946   \n",
       "3  1.801517  1.891913  72.878922  ...     24.400797         0.319919   \n",
       "4  1.795299  1.880034  71.729141  ...     24.916765         0.312121   \n",
       "\n",
       "   Normalized_GR  Delta_DTC  Delta_RHOB  Delta_GR  Delta_DEPTH_MD  \\\n",
       "0       0.150172  -0.000000   -0.000000 -0.000000           0.000   \n",
       "1       0.148269   0.527710   -0.005608  0.937965           0.152   \n",
       "2       0.139258   0.429855   -0.006729  4.440887           0.152   \n",
       "3       0.135315   0.024185    0.004610  1.943077           0.152   \n",
       "4       0.132982   0.021088    0.011879  1.149780           0.152   \n",
       "\n",
       "   Delta_Carbon_Index  GROUP_encoded  FORMATION_encoded  \n",
       "0            0.000000              6                 68  \n",
       "1           -0.243315              6                 68  \n",
       "2           -0.290077              6                 68  \n",
       "3            0.198498              6                 68  \n",
       "4            0.515968              6                 68  \n",
       "\n",
       "[5 rows x 31 columns]"
      ],
      "text/html": "<div>\n<style scoped>\n    .dataframe tbody tr th:only-of-type {\n        vertical-align: middle;\n    }\n\n    .dataframe tbody tr th {\n        vertical-align: top;\n    }\n\n    .dataframe thead th {\n        text-align: right;\n    }\n</style>\n<table border=\"1\" class=\"dataframe\">\n  <thead>\n    <tr style=\"text-align: right;\">\n      <th></th>\n      <th>DEPTH_MD</th>\n      <th>X_LOC</th>\n      <th>Y_LOC</th>\n      <th>Z_LOC</th>\n      <th>CALI</th>\n      <th>RSHA</th>\n      <th>RMED</th>\n      <th>RDEP</th>\n      <th>RHOB</th>\n      <th>GR</th>\n      <th>...</th>\n      <th>Carbon_Index</th>\n      <th>Normalized_RHOB</th>\n      <th>Normalized_GR</th>\n      <th>Delta_DTC</th>\n      <th>Delta_RHOB</th>\n      <th>Delta_GR</th>\n      <th>Delta_DEPTH_MD</th>\n      <th>Delta_Carbon_Index</th>\n      <th>GROUP_encoded</th>\n      <th>FORMATION_encoded</th>\n    </tr>\n  </thead>\n  <tbody>\n    <tr>\n      <th>0</th>\n      <td>494.528</td>\n      <td>437641.96875</td>\n      <td>6470972.5</td>\n      <td>-469.501831</td>\n      <td>19.480835</td>\n      <td>-999.0</td>\n      <td>1.611410</td>\n      <td>1.798681</td>\n      <td>1.884186</td>\n      <td>80.200851</td>\n      <td>...</td>\n      <td>24.735691</td>\n      <td>0.314847</td>\n      <td>0.150172</td>\n      <td>-0.000000</td>\n      <td>-0.000000</td>\n      <td>-0.000000</td>\n      <td>0.000</td>\n      <td>0.000000</td>\n      <td>6</td>\n      <td>68</td>\n    </tr>\n    <tr>\n      <th>1</th>\n      <td>494.680</td>\n      <td>437641.96875</td>\n      <td>6470972.5</td>\n      <td>-469.653809</td>\n      <td>19.468800</td>\n      <td>-999.0</td>\n      <td>1.618070</td>\n      <td>1.795641</td>\n      <td>1.889794</td>\n      <td>79.262886</td>\n      <td>...</td>\n      <td>24.492376</td>\n      <td>0.318528</td>\n      <td>0.148269</td>\n      <td>0.527710</td>\n      <td>-0.005608</td>\n      <td>0.937965</td>\n      <td>0.152</td>\n      <td>-0.243315</td>\n      <td>6</td>\n      <td>68</td>\n    </tr>\n    <tr>\n      <th>2</th>\n      <td>494.832</td>\n      <td>437641.96875</td>\n      <td>6470972.5</td>\n      <td>-469.805786</td>\n      <td>19.468800</td>\n      <td>-999.0</td>\n      <td>1.626459</td>\n      <td>1.800733</td>\n      <td>1.896523</td>\n      <td>74.821999</td>\n      <td>...</td>\n      <td>24.202299</td>\n      <td>0.322946</td>\n      <td>0.139258</td>\n      <td>0.429855</td>\n      <td>-0.006729</td>\n      <td>4.440887</td>\n      <td>0.152</td>\n      <td>-0.290077</td>\n      <td>6</td>\n      <td>68</td>\n    </tr>\n    <tr>\n      <th>3</th>\n      <td>494.984</td>\n      <td>437641.96875</td>\n      <td>6470972.5</td>\n      <td>-469.957794</td>\n      <td>19.459282</td>\n      <td>-999.0</td>\n      <td>1.621594</td>\n      <td>1.801517</td>\n      <td>1.891913</td>\n      <td>72.878922</td>\n      <td>...</td>\n      <td>24.400797</td>\n      <td>0.319919</td>\n      <td>0.135315</td>\n      <td>0.024185</td>\n      <td>0.004610</td>\n      <td>1.943077</td>\n      <td>0.152</td>\n      <td>0.198498</td>\n      <td>6</td>\n      <td>68</td>\n    </tr>\n    <tr>\n      <th>4</th>\n      <td>495.136</td>\n      <td>437641.96875</td>\n      <td>6470972.5</td>\n      <td>-470.109772</td>\n      <td>19.453100</td>\n      <td>-999.0</td>\n      <td>1.602679</td>\n      <td>1.795299</td>\n      <td>1.880034</td>\n      <td>71.729141</td>\n      <td>...</td>\n      <td>24.916765</td>\n      <td>0.312121</td>\n      <td>0.132982</td>\n      <td>0.021088</td>\n      <td>0.011879</td>\n      <td>1.149780</td>\n      <td>0.152</td>\n      <td>0.515968</td>\n      <td>6</td>\n      <td>68</td>\n    </tr>\n  </tbody>\n</table>\n<p>5 rows × 31 columns</p>\n</div>"
     },
     "metadata": {},
     "execution_count": 20
    }
   ],
   "source": [
    "df_train = pd.read_csv('data/raw/lithology.csv', sep=';')\n",
    "df_train.head()"
   ]
  },
  {
   "cell_type": "code",
   "execution_count": 4,
   "metadata": {},
   "outputs": [
    {
     "output_type": "execute_result",
     "data": {
      "text/plain": [
       "         DEPTH_MD        X_LOC      Y_LOC        Z_LOC        CALI   RSHA  \\\n",
       "0       1518.2800  433906.7500  6460000.5 -1493.241821   15.506232 -999.0   \n",
       "1       1518.4320  433906.7500  6460000.5 -1493.393799   18.524611 -999.0   \n",
       "2       1518.5840  433906.7500  6460000.5 -1493.545776   18.855669 -999.0   \n",
       "3       1518.7360  433906.7500  6460000.5 -1493.697754   19.163353 -999.0   \n",
       "4       1518.8880  433906.7500  6460000.5 -1493.849609   18.489744 -999.0   \n",
       "...           ...          ...        ...          ...         ...    ...   \n",
       "122392  2973.2988  536096.0625  6793022.0 -2943.444580    8.276272 -999.0   \n",
       "122393  2973.4508  536096.0625  6793022.0 -2943.595947    8.267273 -999.0   \n",
       "122394  2973.6028  536096.0625  6793022.0 -2943.747559    8.250099 -999.0   \n",
       "122395  2973.7548  536096.0625  6793022.0 -2943.899170 -999.000000 -999.0   \n",
       "122396  2973.9068  536096.0625  6793022.0 -2944.050537 -999.000000 -999.0   \n",
       "\n",
       "              RMED      RDEP   RHOB          GR  ...  Carbon_Index  \\\n",
       "0      -999.000000  0.878615 -999.0  103.451515  ...        -999.0   \n",
       "1      -999.000000  0.874237 -999.0   94.124893  ...        -999.0   \n",
       "2      -999.000000  0.869858 -999.0   93.586487  ...        -999.0   \n",
       "3      -999.000000  0.865479 -999.0   91.113373  ...        -999.0   \n",
       "4         0.849849  0.863804 -999.0  100.228333  ...        -999.0   \n",
       "...            ...       ...    ...         ...  ...           ...   \n",
       "122392    2.820439  3.158570 -999.0   90.720284  ...        -999.0   \n",
       "122393    3.020778  3.332977 -999.0   87.062027  ...        -999.0   \n",
       "122394    2.795711  3.044179 -999.0   86.115921  ...        -999.0   \n",
       "122395    2.658694  2.847681 -999.0   89.497131  ...        -999.0   \n",
       "122396    2.802693  2.972499 -999.0  100.418251  ...        -999.0   \n",
       "\n",
       "        Normalized_RHOB  Normalized_GR  Delta_DTC  Delta_RHOB   Delta_GR  \\\n",
       "0                -999.0       0.229715  -0.000000      -999.0  -0.000000   \n",
       "1                -999.0       0.206369   1.616959      -999.0   9.326622   \n",
       "2                -999.0       0.205021   0.131363      -999.0   0.538406   \n",
       "3                -999.0       0.198831   1.637512      -999.0   2.473114   \n",
       "4                -999.0       0.221647   0.819153      -999.0  -9.114960   \n",
       "...                 ...            ...        ...         ...        ...   \n",
       "122392           -999.0       0.455601   0.591225      -999.0   1.536675   \n",
       "122393           -999.0       0.436064   0.392357      -999.0   3.658257   \n",
       "122394           -999.0       0.431012   0.020180      -999.0   0.946106   \n",
       "122395           -999.0       0.449069  -0.115906      -999.0  -3.381210   \n",
       "122396           -999.0       0.507392  -0.147377      -999.0 -10.921120   \n",
       "\n",
       "        Delta_DEPTH_MD  Delta_Carbon_Index  GROUP_encoded  FORMATION_encoded  \n",
       "0                0.000              -999.0              5                 51  \n",
       "1                0.152              -999.0              5                 51  \n",
       "2                0.152              -999.0              5                 51  \n",
       "3                0.152              -999.0              5                 51  \n",
       "4                0.152              -999.0              5                 51  \n",
       "...                ...                 ...            ...                ...  \n",
       "122392           0.152              -999.0              0                 16  \n",
       "122393           0.152              -999.0              0                 16  \n",
       "122394           0.152              -999.0              0                 16  \n",
       "122395           0.152              -999.0              0                 16  \n",
       "122396           0.152              -999.0              0                 16  \n",
       "\n",
       "[122397 rows x 30 columns]"
      ],
      "text/html": "<div>\n<style scoped>\n    .dataframe tbody tr th:only-of-type {\n        vertical-align: middle;\n    }\n\n    .dataframe tbody tr th {\n        vertical-align: top;\n    }\n\n    .dataframe thead th {\n        text-align: right;\n    }\n</style>\n<table border=\"1\" class=\"dataframe\">\n  <thead>\n    <tr style=\"text-align: right;\">\n      <th></th>\n      <th>DEPTH_MD</th>\n      <th>X_LOC</th>\n      <th>Y_LOC</th>\n      <th>Z_LOC</th>\n      <th>CALI</th>\n      <th>RSHA</th>\n      <th>RMED</th>\n      <th>RDEP</th>\n      <th>RHOB</th>\n      <th>GR</th>\n      <th>...</th>\n      <th>Carbon_Index</th>\n      <th>Normalized_RHOB</th>\n      <th>Normalized_GR</th>\n      <th>Delta_DTC</th>\n      <th>Delta_RHOB</th>\n      <th>Delta_GR</th>\n      <th>Delta_DEPTH_MD</th>\n      <th>Delta_Carbon_Index</th>\n      <th>GROUP_encoded</th>\n      <th>FORMATION_encoded</th>\n    </tr>\n  </thead>\n  <tbody>\n    <tr>\n      <th>0</th>\n      <td>1518.2800</td>\n      <td>433906.7500</td>\n      <td>6460000.5</td>\n      <td>-1493.241821</td>\n      <td>15.506232</td>\n      <td>-999.0</td>\n      <td>-999.000000</td>\n      <td>0.878615</td>\n      <td>-999.0</td>\n      <td>103.451515</td>\n      <td>...</td>\n      <td>-999.0</td>\n      <td>-999.0</td>\n      <td>0.229715</td>\n      <td>-0.000000</td>\n      <td>-999.0</td>\n      <td>-0.000000</td>\n      <td>0.000</td>\n      <td>-999.0</td>\n      <td>5</td>\n      <td>51</td>\n    </tr>\n    <tr>\n      <th>1</th>\n      <td>1518.4320</td>\n      <td>433906.7500</td>\n      <td>6460000.5</td>\n      <td>-1493.393799</td>\n      <td>18.524611</td>\n      <td>-999.0</td>\n      <td>-999.000000</td>\n      <td>0.874237</td>\n      <td>-999.0</td>\n      <td>94.124893</td>\n      <td>...</td>\n      <td>-999.0</td>\n      <td>-999.0</td>\n      <td>0.206369</td>\n      <td>1.616959</td>\n      <td>-999.0</td>\n      <td>9.326622</td>\n      <td>0.152</td>\n      <td>-999.0</td>\n      <td>5</td>\n      <td>51</td>\n    </tr>\n    <tr>\n      <th>2</th>\n      <td>1518.5840</td>\n      <td>433906.7500</td>\n      <td>6460000.5</td>\n      <td>-1493.545776</td>\n      <td>18.855669</td>\n      <td>-999.0</td>\n      <td>-999.000000</td>\n      <td>0.869858</td>\n      <td>-999.0</td>\n      <td>93.586487</td>\n      <td>...</td>\n      <td>-999.0</td>\n      <td>-999.0</td>\n      <td>0.205021</td>\n      <td>0.131363</td>\n      <td>-999.0</td>\n      <td>0.538406</td>\n      <td>0.152</td>\n      <td>-999.0</td>\n      <td>5</td>\n      <td>51</td>\n    </tr>\n    <tr>\n      <th>3</th>\n      <td>1518.7360</td>\n      <td>433906.7500</td>\n      <td>6460000.5</td>\n      <td>-1493.697754</td>\n      <td>19.163353</td>\n      <td>-999.0</td>\n      <td>-999.000000</td>\n      <td>0.865479</td>\n      <td>-999.0</td>\n      <td>91.113373</td>\n      <td>...</td>\n      <td>-999.0</td>\n      <td>-999.0</td>\n      <td>0.198831</td>\n      <td>1.637512</td>\n      <td>-999.0</td>\n      <td>2.473114</td>\n      <td>0.152</td>\n      <td>-999.0</td>\n      <td>5</td>\n      <td>51</td>\n    </tr>\n    <tr>\n      <th>4</th>\n      <td>1518.8880</td>\n      <td>433906.7500</td>\n      <td>6460000.5</td>\n      <td>-1493.849609</td>\n      <td>18.489744</td>\n      <td>-999.0</td>\n      <td>0.849849</td>\n      <td>0.863804</td>\n      <td>-999.0</td>\n      <td>100.228333</td>\n      <td>...</td>\n      <td>-999.0</td>\n      <td>-999.0</td>\n      <td>0.221647</td>\n      <td>0.819153</td>\n      <td>-999.0</td>\n      <td>-9.114960</td>\n      <td>0.152</td>\n      <td>-999.0</td>\n      <td>5</td>\n      <td>51</td>\n    </tr>\n    <tr>\n      <th>...</th>\n      <td>...</td>\n      <td>...</td>\n      <td>...</td>\n      <td>...</td>\n      <td>...</td>\n      <td>...</td>\n      <td>...</td>\n      <td>...</td>\n      <td>...</td>\n      <td>...</td>\n      <td>...</td>\n      <td>...</td>\n      <td>...</td>\n      <td>...</td>\n      <td>...</td>\n      <td>...</td>\n      <td>...</td>\n      <td>...</td>\n      <td>...</td>\n      <td>...</td>\n      <td>...</td>\n    </tr>\n    <tr>\n      <th>122392</th>\n      <td>2973.2988</td>\n      <td>536096.0625</td>\n      <td>6793022.0</td>\n      <td>-2943.444580</td>\n      <td>8.276272</td>\n      <td>-999.0</td>\n      <td>2.820439</td>\n      <td>3.158570</td>\n      <td>-999.0</td>\n      <td>90.720284</td>\n      <td>...</td>\n      <td>-999.0</td>\n      <td>-999.0</td>\n      <td>0.455601</td>\n      <td>0.591225</td>\n      <td>-999.0</td>\n      <td>1.536675</td>\n      <td>0.152</td>\n      <td>-999.0</td>\n      <td>0</td>\n      <td>16</td>\n    </tr>\n    <tr>\n      <th>122393</th>\n      <td>2973.4508</td>\n      <td>536096.0625</td>\n      <td>6793022.0</td>\n      <td>-2943.595947</td>\n      <td>8.267273</td>\n      <td>-999.0</td>\n      <td>3.020778</td>\n      <td>3.332977</td>\n      <td>-999.0</td>\n      <td>87.062027</td>\n      <td>...</td>\n      <td>-999.0</td>\n      <td>-999.0</td>\n      <td>0.436064</td>\n      <td>0.392357</td>\n      <td>-999.0</td>\n      <td>3.658257</td>\n      <td>0.152</td>\n      <td>-999.0</td>\n      <td>0</td>\n      <td>16</td>\n    </tr>\n    <tr>\n      <th>122394</th>\n      <td>2973.6028</td>\n      <td>536096.0625</td>\n      <td>6793022.0</td>\n      <td>-2943.747559</td>\n      <td>8.250099</td>\n      <td>-999.0</td>\n      <td>2.795711</td>\n      <td>3.044179</td>\n      <td>-999.0</td>\n      <td>86.115921</td>\n      <td>...</td>\n      <td>-999.0</td>\n      <td>-999.0</td>\n      <td>0.431012</td>\n      <td>0.020180</td>\n      <td>-999.0</td>\n      <td>0.946106</td>\n      <td>0.152</td>\n      <td>-999.0</td>\n      <td>0</td>\n      <td>16</td>\n    </tr>\n    <tr>\n      <th>122395</th>\n      <td>2973.7548</td>\n      <td>536096.0625</td>\n      <td>6793022.0</td>\n      <td>-2943.899170</td>\n      <td>-999.000000</td>\n      <td>-999.0</td>\n      <td>2.658694</td>\n      <td>2.847681</td>\n      <td>-999.0</td>\n      <td>89.497131</td>\n      <td>...</td>\n      <td>-999.0</td>\n      <td>-999.0</td>\n      <td>0.449069</td>\n      <td>-0.115906</td>\n      <td>-999.0</td>\n      <td>-3.381210</td>\n      <td>0.152</td>\n      <td>-999.0</td>\n      <td>0</td>\n      <td>16</td>\n    </tr>\n    <tr>\n      <th>122396</th>\n      <td>2973.9068</td>\n      <td>536096.0625</td>\n      <td>6793022.0</td>\n      <td>-2944.050537</td>\n      <td>-999.000000</td>\n      <td>-999.0</td>\n      <td>2.802693</td>\n      <td>2.972499</td>\n      <td>-999.0</td>\n      <td>100.418251</td>\n      <td>...</td>\n      <td>-999.0</td>\n      <td>-999.0</td>\n      <td>0.507392</td>\n      <td>-0.147377</td>\n      <td>-999.0</td>\n      <td>-10.921120</td>\n      <td>0.152</td>\n      <td>-999.0</td>\n      <td>0</td>\n      <td>16</td>\n    </tr>\n  </tbody>\n</table>\n<p>122397 rows × 30 columns</p>\n</div>"
     },
     "metadata": {},
     "execution_count": 4
    }
   ],
   "source": [
    "df_hidden = pd.read_csv('data/raw/hidden.csv', sep=';')\n",
    "df_hidden"
   ]
  },
  {
   "cell_type": "code",
   "execution_count": 26,
   "metadata": {},
   "outputs": [],
   "source": [
    "X_FEATURES = ['DEPTH_MD', 'X_LOC', 'Y_LOC', 'Z_LOC', 'CALI', 'RSHA', 'RMED', 'RDEP',\n",
    "    'RHOB', 'GR', 'NPHI', 'PEF','DTC', 'SP', 'BS', 'ROP', 'DCAL', 'DRHO',\n",
    "    'MUDWEIGHT', 'RMIC', 'Carbon_Index',\n",
    "    'Normalized_RHOB', 'Normalized_GR', 'Delta_DTC', 'Delta_RHOB',\n",
    "    'Delta_GR', 'Delta_DEPTH_MD', 'Delta_Carbon_Index', 'GROUP_encoded',\n",
    "    'FORMATION_encoded']\n",
    "Y_FEATURE = ['FORCE_2020_LITHOFACIES_LITHOLOGY']    "
   ]
  },
  {
   "cell_type": "code",
   "execution_count": 29,
   "metadata": {},
   "outputs": [],
   "source": [
    "X_lit = df_train[X_FEATURES]\n",
    "Y_lit = df_train[Y_FEATURE]\n",
    "\n",
    "X_hidden = df_hidden[X_FEATURES]\n",
    "\n",
    "X_train_val, X_test, y_train_val, y_test = train_test_split(X_lit, Y_lit,\n",
    "                                                    stratify=Y_lit, \n",
    "                                                    test_size=0.2,\n",
    "                                                    random_state=42)\n",
    "\n",
    "X_train, X_val, y_train, y_val = train_test_split(X_train_val, y_train_val,\n",
    "                                                    stratify=y_train_val, \n",
    "                                                    test_size=0.2,\n",
    "                                                    random_state=42)\n",
    "\n",
    "\n",
    "scl = MinMaxScaler()\n",
    "\n",
    "X_train_transform = scl.fit_transform(X_train)\n",
    "X_hidden_transform = scl.transform(X_hidden)"
   ]
  },
  {
   "cell_type": "code",
   "execution_count": 33,
   "metadata": {},
   "outputs": [
    {
     "output_type": "execute_result",
     "data": {
      "text/plain": [
       "tensor([[0.2607, 0.0481, 0.1186,  ..., 0.0000, 0.3846, 0.7429],\n",
       "        [0.2607, 0.0481, 0.1186,  ..., 0.0000, 0.3846, 0.7429],\n",
       "        [0.2607, 0.0481, 0.1186,  ..., 0.0000, 0.3846, 0.7429],\n",
       "        ...,\n",
       "        [0.5353, 0.7493, 0.8586,  ..., 0.0000, 0.0000, 0.2429],\n",
       "        [0.5353, 0.7493, 0.8586,  ..., 0.0000, 0.0000, 0.2429],\n",
       "        [0.5353, 0.7493, 0.8586,  ..., 0.0000, 0.0000, 0.2429]])"
      ]
     },
     "metadata": {},
     "execution_count": 33
    }
   ],
   "source": [
    "X_hidden_transform_tensor = torch.FloatTensor(X_hidden_transform)\n",
    "X_hidden_transform_tensor"
   ]
  },
  {
   "source": [
    "### Unbalanced Model - Test 5"
   ],
   "cell_type": "markdown",
   "metadata": {}
  },
  {
   "cell_type": "code",
   "execution_count": 42,
   "metadata": {},
   "outputs": [
    {
     "output_type": "execute_result",
     "data": {
      "text/plain": [
       "   lithology\n",
       "0          6\n",
       "1          6\n",
       "2          6\n",
       "3          6\n",
       "4          6"
      ],
      "text/html": "<div>\n<style scoped>\n    .dataframe tbody tr th:only-of-type {\n        vertical-align: middle;\n    }\n\n    .dataframe tbody tr th {\n        vertical-align: top;\n    }\n\n    .dataframe thead th {\n        text-align: right;\n    }\n</style>\n<table border=\"1\" class=\"dataframe\">\n  <thead>\n    <tr style=\"text-align: right;\">\n      <th></th>\n      <th>lithology</th>\n    </tr>\n  </thead>\n  <tbody>\n    <tr>\n      <th>0</th>\n      <td>6</td>\n    </tr>\n    <tr>\n      <th>1</th>\n      <td>6</td>\n    </tr>\n    <tr>\n      <th>2</th>\n      <td>6</td>\n    </tr>\n    <tr>\n      <th>3</th>\n      <td>6</td>\n    </tr>\n    <tr>\n      <th>4</th>\n      <td>6</td>\n    </tr>\n  </tbody>\n</table>\n</div>"
     },
     "metadata": {},
     "execution_count": 42
    }
   ],
   "source": [
    "unbalanced_model = torch.load('data/model/test_5.pth')\n",
    "\n",
    "with torch.no_grad():\n",
    "    unbalanced_model.eval()\n",
    "    y_hidden_pred = unbalanced_model(X_hidden_transform_tensor)\n",
    "    y_hidden_hat = np.argmax(y_hidden_pred, axis=1).flatten()\n",
    "\n",
    "df_hidden_pred = pd.DataFrame(y_hidden_hat.numpy(), columns=['lithology'])\n",
    "df_hidden_pred.head()"
   ]
  },
  {
   "cell_type": "code",
   "execution_count": 43,
   "metadata": {},
   "outputs": [
    {
     "output_type": "execute_result",
     "data": {
      "text/plain": [
       "   lithology\n",
       "0    70000.0\n",
       "1    70000.0\n",
       "2    70000.0\n",
       "3    70000.0\n",
       "4    70000.0"
      ],
      "text/html": "<div>\n<style scoped>\n    .dataframe tbody tr th:only-of-type {\n        vertical-align: middle;\n    }\n\n    .dataframe tbody tr th {\n        vertical-align: top;\n    }\n\n    .dataframe thead th {\n        text-align: right;\n    }\n</style>\n<table border=\"1\" class=\"dataframe\">\n  <thead>\n    <tr style=\"text-align: right;\">\n      <th></th>\n      <th>lithology</th>\n    </tr>\n  </thead>\n  <tbody>\n    <tr>\n      <th>0</th>\n      <td>70000.0</td>\n    </tr>\n    <tr>\n      <th>1</th>\n      <td>70000.0</td>\n    </tr>\n    <tr>\n      <th>2</th>\n      <td>70000.0</td>\n    </tr>\n    <tr>\n      <th>3</th>\n      <td>70000.0</td>\n    </tr>\n    <tr>\n      <th>4</th>\n      <td>70000.0</td>\n    </tr>\n  </tbody>\n</table>\n</div>"
     },
     "metadata": {},
     "execution_count": 43
    }
   ],
   "source": [
    "df_hidden_pred['lithology'] = df_hidden_pred['lithology'] .apply(lambda x: class_num_to_name(x))\n",
    "df_hidden_pred.head()"
   ]
  },
  {
   "cell_type": "code",
   "execution_count": 44,
   "metadata": {},
   "outputs": [
    {
     "output_type": "execute_result",
     "data": {
      "text/plain": [
       "70000.0    28492\n",
       "74000.0    19031\n",
       "80000.0    18047\n",
       "90000.0    17244\n",
       "65030.0    13846\n",
       "88000.0    12860\n",
       "99000.0    11494\n",
       "86000.0     1380\n",
       "65000.0        3\n",
       "Name: lithology, dtype: int64"
      ]
     },
     "metadata": {},
     "execution_count": 44
    }
   ],
   "source": [
    "df_hidden_pred.lithology.value_counts()"
   ]
  },
  {
   "cell_type": "code",
   "execution_count": 45,
   "metadata": {},
   "outputs": [
    {
     "output_type": "execute_result",
     "data": {
      "text/plain": [
       "<AxesSubplot:>"
      ]
     },
     "metadata": {},
     "execution_count": 45
    },
    {
     "output_type": "display_data",
     "data": {
      "text/plain": "<Figure size 432x288 with 1 Axes>",
      "image/svg+xml": "<?xml version=\"1.0\" encoding=\"utf-8\" standalone=\"no\"?>\n<!DOCTYPE svg PUBLIC \"-//W3C//DTD SVG 1.1//EN\"\n  \"http://www.w3.org/Graphics/SVG/1.1/DTD/svg11.dtd\">\n<svg height=\"248.518125pt\" version=\"1.1\" viewBox=\"0 0 397.553125 248.518125\" width=\"397.553125pt\" xmlns=\"http://www.w3.org/2000/svg\" xmlns:xlink=\"http://www.w3.org/1999/xlink\">\n <metadata>\n  <rdf:RDF xmlns:cc=\"http://creativecommons.org/ns#\" xmlns:dc=\"http://purl.org/dc/elements/1.1/\" xmlns:rdf=\"http://www.w3.org/1999/02/22-rdf-syntax-ns#\">\n   <cc:Work>\n    <dc:type rdf:resource=\"http://purl.org/dc/dcmitype/StillImage\"/>\n    <dc:date>2021-05-21T23:48:39.167026</dc:date>\n    <dc:format>image/svg+xml</dc:format>\n    <dc:creator>\n     <cc:Agent>\n      <dc:title>Matplotlib v3.4.1, https://matplotlib.org/</dc:title>\n     </cc:Agent>\n    </dc:creator>\n   </cc:Work>\n  </rdf:RDF>\n </metadata>\n <defs>\n  <style type=\"text/css\">*{stroke-linecap:butt;stroke-linejoin:round;}</style>\n </defs>\n <g id=\"figure_1\">\n  <g id=\"patch_1\">\n   <path d=\"M 0 248.518125 \nL 397.553125 248.518125 \nL 397.553125 0 \nL 0 0 \nz\n\" style=\"fill:none;\"/>\n  </g>\n  <g id=\"axes_1\">\n   <g id=\"patch_2\">\n    <path d=\"M 55.553125 224.64 \nL 390.353125 224.64 \nL 390.353125 7.2 \nL 55.553125 7.2 \nz\n\" style=\"fill:#ffffff;\"/>\n   </g>\n   <g id=\"patch_3\">\n    <path clip-path=\"url(#p807d6a90c1)\" d=\"M 55.553125 218.6 \nL 374.410268 218.6 \nL 374.410268 206.52 \nL 55.553125 206.52 \nz\n\" style=\"fill:#1f77b4;\"/>\n   </g>\n   <g id=\"patch_4\">\n    <path clip-path=\"url(#p807d6a90c1)\" d=\"M 55.553125 194.44 \nL 268.531164 194.44 \nL 268.531164 182.36 \nL 55.553125 182.36 \nz\n\" style=\"fill:#1f77b4;\"/>\n   </g>\n   <g id=\"patch_5\">\n    <path clip-path=\"url(#p807d6a90c1)\" d=\"M 55.553125 170.28 \nL 257.51911 170.28 \nL 257.51911 158.2 \nL 55.553125 158.2 \nz\n\" style=\"fill:#1f77b4;\"/>\n   </g>\n   <g id=\"patch_6\">\n    <path clip-path=\"url(#p807d6a90c1)\" d=\"M 55.553125 146.12 \nL 248.532648 146.12 \nL 248.532648 134.04 \nL 55.553125 134.04 \nz\n\" style=\"fill:#1f77b4;\"/>\n   </g>\n   <g id=\"patch_7\">\n    <path clip-path=\"url(#p807d6a90c1)\" d=\"M 55.553125 121.96 \nL 210.505252 121.96 \nL 210.505252 109.88 \nL 55.553125 109.88 \nz\n\" style=\"fill:#1f77b4;\"/>\n   </g>\n   <g id=\"patch_8\">\n    <path clip-path=\"url(#p807d6a90c1)\" d=\"M 55.553125 97.8 \nL 199.470816 97.8 \nL 199.470816 85.72 \nL 55.553125 85.72 \nz\n\" style=\"fill:#1f77b4;\"/>\n   </g>\n   <g id=\"patch_9\">\n    <path clip-path=\"url(#p807d6a90c1)\" d=\"M 55.553125 73.64 \nL 184.183758 73.64 \nL 184.183758 61.56 \nL 55.553125 61.56 \nz\n\" style=\"fill:#1f77b4;\"/>\n   </g>\n   <g id=\"patch_10\">\n    <path clip-path=\"url(#p807d6a90c1)\" d=\"M 55.553125 49.48 \nL 70.996859 49.48 \nL 70.996859 37.4 \nL 55.553125 37.4 \nz\n\" style=\"fill:#1f77b4;\"/>\n   </g>\n   <g id=\"patch_11\">\n    <path clip-path=\"url(#p807d6a90c1)\" d=\"M 55.553125 25.32 \nL 55.586698 25.32 \nL 55.586698 13.24 \nL 55.553125 13.24 \nz\n\" style=\"fill:#1f77b4;\"/>\n   </g>\n   <g id=\"matplotlib.axis_1\">\n    <g id=\"xtick_1\">\n     <g id=\"line2d_1\">\n      <defs>\n       <path d=\"M 0 0 \nL 0 3.5 \n\" id=\"m23cf066c9f\" style=\"stroke:#000000;stroke-width:0.8;\"/>\n      </defs>\n      <g>\n       <use style=\"stroke:#000000;stroke-width:0.8;\" x=\"55.553125\" xlink:href=\"#m23cf066c9f\" y=\"224.64\"/>\n      </g>\n     </g>\n     <g id=\"text_1\">\n      <!-- 0 -->\n      <g transform=\"translate(52.371875 239.238437)scale(0.1 -0.1)\">\n       <defs>\n        <path d=\"M 2034 4250 \nQ 1547 4250 1301 3770 \nQ 1056 3291 1056 2328 \nQ 1056 1369 1301 889 \nQ 1547 409 2034 409 \nQ 2525 409 2770 889 \nQ 3016 1369 3016 2328 \nQ 3016 3291 2770 3770 \nQ 2525 4250 2034 4250 \nz\nM 2034 4750 \nQ 2819 4750 3233 4129 \nQ 3647 3509 3647 2328 \nQ 3647 1150 3233 529 \nQ 2819 -91 2034 -91 \nQ 1250 -91 836 529 \nQ 422 1150 422 2328 \nQ 422 3509 836 4129 \nQ 1250 4750 2034 4750 \nz\n\" id=\"DejaVuSans-30\" transform=\"scale(0.015625)\"/>\n       </defs>\n       <use xlink:href=\"#DejaVuSans-30\"/>\n      </g>\n     </g>\n    </g>\n    <g id=\"xtick_2\">\n     <g id=\"line2d_2\">\n      <g>\n       <use style=\"stroke:#000000;stroke-width:0.8;\" x=\"111.508681\" xlink:href=\"#m23cf066c9f\" y=\"224.64\"/>\n      </g>\n     </g>\n     <g id=\"text_2\">\n      <!-- 5000 -->\n      <g transform=\"translate(98.783681 239.238437)scale(0.1 -0.1)\">\n       <defs>\n        <path d=\"M 691 4666 \nL 3169 4666 \nL 3169 4134 \nL 1269 4134 \nL 1269 2991 \nQ 1406 3038 1543 3061 \nQ 1681 3084 1819 3084 \nQ 2600 3084 3056 2656 \nQ 3513 2228 3513 1497 \nQ 3513 744 3044 326 \nQ 2575 -91 1722 -91 \nQ 1428 -91 1123 -41 \nQ 819 9 494 109 \nL 494 744 \nQ 775 591 1075 516 \nQ 1375 441 1709 441 \nQ 2250 441 2565 725 \nQ 2881 1009 2881 1497 \nQ 2881 1984 2565 2268 \nQ 2250 2553 1709 2553 \nQ 1456 2553 1204 2497 \nQ 953 2441 691 2322 \nL 691 4666 \nz\n\" id=\"DejaVuSans-35\" transform=\"scale(0.015625)\"/>\n       </defs>\n       <use xlink:href=\"#DejaVuSans-35\"/>\n       <use x=\"63.623047\" xlink:href=\"#DejaVuSans-30\"/>\n       <use x=\"127.246094\" xlink:href=\"#DejaVuSans-30\"/>\n       <use x=\"190.869141\" xlink:href=\"#DejaVuSans-30\"/>\n      </g>\n     </g>\n    </g>\n    <g id=\"xtick_3\">\n     <g id=\"line2d_3\">\n      <g>\n       <use style=\"stroke:#000000;stroke-width:0.8;\" x=\"167.464238\" xlink:href=\"#m23cf066c9f\" y=\"224.64\"/>\n      </g>\n     </g>\n     <g id=\"text_3\">\n      <!-- 10000 -->\n      <g transform=\"translate(151.557988 239.238437)scale(0.1 -0.1)\">\n       <defs>\n        <path d=\"M 794 531 \nL 1825 531 \nL 1825 4091 \nL 703 3866 \nL 703 4441 \nL 1819 4666 \nL 2450 4666 \nL 2450 531 \nL 3481 531 \nL 3481 0 \nL 794 0 \nL 794 531 \nz\n\" id=\"DejaVuSans-31\" transform=\"scale(0.015625)\"/>\n       </defs>\n       <use xlink:href=\"#DejaVuSans-31\"/>\n       <use x=\"63.623047\" xlink:href=\"#DejaVuSans-30\"/>\n       <use x=\"127.246094\" xlink:href=\"#DejaVuSans-30\"/>\n       <use x=\"190.869141\" xlink:href=\"#DejaVuSans-30\"/>\n       <use x=\"254.492188\" xlink:href=\"#DejaVuSans-30\"/>\n      </g>\n     </g>\n    </g>\n    <g id=\"xtick_4\">\n     <g id=\"line2d_4\">\n      <g>\n       <use style=\"stroke:#000000;stroke-width:0.8;\" x=\"223.419794\" xlink:href=\"#m23cf066c9f\" y=\"224.64\"/>\n      </g>\n     </g>\n     <g id=\"text_4\">\n      <!-- 15000 -->\n      <g transform=\"translate(207.513544 239.238437)scale(0.1 -0.1)\">\n       <use xlink:href=\"#DejaVuSans-31\"/>\n       <use x=\"63.623047\" xlink:href=\"#DejaVuSans-35\"/>\n       <use x=\"127.246094\" xlink:href=\"#DejaVuSans-30\"/>\n       <use x=\"190.869141\" xlink:href=\"#DejaVuSans-30\"/>\n       <use x=\"254.492188\" xlink:href=\"#DejaVuSans-30\"/>\n      </g>\n     </g>\n    </g>\n    <g id=\"xtick_5\">\n     <g id=\"line2d_5\">\n      <g>\n       <use style=\"stroke:#000000;stroke-width:0.8;\" x=\"279.375351\" xlink:href=\"#m23cf066c9f\" y=\"224.64\"/>\n      </g>\n     </g>\n     <g id=\"text_5\">\n      <!-- 20000 -->\n      <g transform=\"translate(263.469101 239.238437)scale(0.1 -0.1)\">\n       <defs>\n        <path d=\"M 1228 531 \nL 3431 531 \nL 3431 0 \nL 469 0 \nL 469 531 \nQ 828 903 1448 1529 \nQ 2069 2156 2228 2338 \nQ 2531 2678 2651 2914 \nQ 2772 3150 2772 3378 \nQ 2772 3750 2511 3984 \nQ 2250 4219 1831 4219 \nQ 1534 4219 1204 4116 \nQ 875 4013 500 3803 \nL 500 4441 \nQ 881 4594 1212 4672 \nQ 1544 4750 1819 4750 \nQ 2544 4750 2975 4387 \nQ 3406 4025 3406 3419 \nQ 3406 3131 3298 2873 \nQ 3191 2616 2906 2266 \nQ 2828 2175 2409 1742 \nQ 1991 1309 1228 531 \nz\n\" id=\"DejaVuSans-32\" transform=\"scale(0.015625)\"/>\n       </defs>\n       <use xlink:href=\"#DejaVuSans-32\"/>\n       <use x=\"63.623047\" xlink:href=\"#DejaVuSans-30\"/>\n       <use x=\"127.246094\" xlink:href=\"#DejaVuSans-30\"/>\n       <use x=\"190.869141\" xlink:href=\"#DejaVuSans-30\"/>\n       <use x=\"254.492188\" xlink:href=\"#DejaVuSans-30\"/>\n      </g>\n     </g>\n    </g>\n    <g id=\"xtick_6\">\n     <g id=\"line2d_6\">\n      <g>\n       <use style=\"stroke:#000000;stroke-width:0.8;\" x=\"335.330907\" xlink:href=\"#m23cf066c9f\" y=\"224.64\"/>\n      </g>\n     </g>\n     <g id=\"text_6\">\n      <!-- 25000 -->\n      <g transform=\"translate(319.424657 239.238437)scale(0.1 -0.1)\">\n       <use xlink:href=\"#DejaVuSans-32\"/>\n       <use x=\"63.623047\" xlink:href=\"#DejaVuSans-35\"/>\n       <use x=\"127.246094\" xlink:href=\"#DejaVuSans-30\"/>\n       <use x=\"190.869141\" xlink:href=\"#DejaVuSans-30\"/>\n       <use x=\"254.492188\" xlink:href=\"#DejaVuSans-30\"/>\n      </g>\n     </g>\n    </g>\n   </g>\n   <g id=\"matplotlib.axis_2\">\n    <g id=\"ytick_1\">\n     <g id=\"line2d_7\">\n      <defs>\n       <path d=\"M 0 0 \nL -3.5 0 \n\" id=\"m56b11f0975\" style=\"stroke:#000000;stroke-width:0.8;\"/>\n      </defs>\n      <g>\n       <use style=\"stroke:#000000;stroke-width:0.8;\" x=\"55.553125\" xlink:href=\"#m56b11f0975\" y=\"212.56\"/>\n      </g>\n     </g>\n     <g id=\"text_7\">\n      <!-- 70000.0 -->\n      <g transform=\"translate(7.2 216.359219)scale(0.1 -0.1)\">\n       <defs>\n        <path d=\"M 525 4666 \nL 3525 4666 \nL 3525 4397 \nL 1831 0 \nL 1172 0 \nL 2766 4134 \nL 525 4134 \nL 525 4666 \nz\n\" id=\"DejaVuSans-37\" transform=\"scale(0.015625)\"/>\n        <path d=\"M 684 794 \nL 1344 794 \nL 1344 0 \nL 684 0 \nL 684 794 \nz\n\" id=\"DejaVuSans-2e\" transform=\"scale(0.015625)\"/>\n       </defs>\n       <use xlink:href=\"#DejaVuSans-37\"/>\n       <use x=\"63.623047\" xlink:href=\"#DejaVuSans-30\"/>\n       <use x=\"127.246094\" xlink:href=\"#DejaVuSans-30\"/>\n       <use x=\"190.869141\" xlink:href=\"#DejaVuSans-30\"/>\n       <use x=\"254.492188\" xlink:href=\"#DejaVuSans-30\"/>\n       <use x=\"318.115234\" xlink:href=\"#DejaVuSans-2e\"/>\n       <use x=\"349.902344\" xlink:href=\"#DejaVuSans-30\"/>\n      </g>\n     </g>\n    </g>\n    <g id=\"ytick_2\">\n     <g id=\"line2d_8\">\n      <g>\n       <use style=\"stroke:#000000;stroke-width:0.8;\" x=\"55.553125\" xlink:href=\"#m56b11f0975\" y=\"188.4\"/>\n      </g>\n     </g>\n     <g id=\"text_8\">\n      <!-- 74000.0 -->\n      <g transform=\"translate(7.2 192.199219)scale(0.1 -0.1)\">\n       <defs>\n        <path d=\"M 2419 4116 \nL 825 1625 \nL 2419 1625 \nL 2419 4116 \nz\nM 2253 4666 \nL 3047 4666 \nL 3047 1625 \nL 3713 1625 \nL 3713 1100 \nL 3047 1100 \nL 3047 0 \nL 2419 0 \nL 2419 1100 \nL 313 1100 \nL 313 1709 \nL 2253 4666 \nz\n\" id=\"DejaVuSans-34\" transform=\"scale(0.015625)\"/>\n       </defs>\n       <use xlink:href=\"#DejaVuSans-37\"/>\n       <use x=\"63.623047\" xlink:href=\"#DejaVuSans-34\"/>\n       <use x=\"127.246094\" xlink:href=\"#DejaVuSans-30\"/>\n       <use x=\"190.869141\" xlink:href=\"#DejaVuSans-30\"/>\n       <use x=\"254.492188\" xlink:href=\"#DejaVuSans-30\"/>\n       <use x=\"318.115234\" xlink:href=\"#DejaVuSans-2e\"/>\n       <use x=\"349.902344\" xlink:href=\"#DejaVuSans-30\"/>\n      </g>\n     </g>\n    </g>\n    <g id=\"ytick_3\">\n     <g id=\"line2d_9\">\n      <g>\n       <use style=\"stroke:#000000;stroke-width:0.8;\" x=\"55.553125\" xlink:href=\"#m56b11f0975\" y=\"164.24\"/>\n      </g>\n     </g>\n     <g id=\"text_9\">\n      <!-- 80000.0 -->\n      <g transform=\"translate(7.2 168.039219)scale(0.1 -0.1)\">\n       <defs>\n        <path d=\"M 2034 2216 \nQ 1584 2216 1326 1975 \nQ 1069 1734 1069 1313 \nQ 1069 891 1326 650 \nQ 1584 409 2034 409 \nQ 2484 409 2743 651 \nQ 3003 894 3003 1313 \nQ 3003 1734 2745 1975 \nQ 2488 2216 2034 2216 \nz\nM 1403 2484 \nQ 997 2584 770 2862 \nQ 544 3141 544 3541 \nQ 544 4100 942 4425 \nQ 1341 4750 2034 4750 \nQ 2731 4750 3128 4425 \nQ 3525 4100 3525 3541 \nQ 3525 3141 3298 2862 \nQ 3072 2584 2669 2484 \nQ 3125 2378 3379 2068 \nQ 3634 1759 3634 1313 \nQ 3634 634 3220 271 \nQ 2806 -91 2034 -91 \nQ 1263 -91 848 271 \nQ 434 634 434 1313 \nQ 434 1759 690 2068 \nQ 947 2378 1403 2484 \nz\nM 1172 3481 \nQ 1172 3119 1398 2916 \nQ 1625 2713 2034 2713 \nQ 2441 2713 2670 2916 \nQ 2900 3119 2900 3481 \nQ 2900 3844 2670 4047 \nQ 2441 4250 2034 4250 \nQ 1625 4250 1398 4047 \nQ 1172 3844 1172 3481 \nz\n\" id=\"DejaVuSans-38\" transform=\"scale(0.015625)\"/>\n       </defs>\n       <use xlink:href=\"#DejaVuSans-38\"/>\n       <use x=\"63.623047\" xlink:href=\"#DejaVuSans-30\"/>\n       <use x=\"127.246094\" xlink:href=\"#DejaVuSans-30\"/>\n       <use x=\"190.869141\" xlink:href=\"#DejaVuSans-30\"/>\n       <use x=\"254.492188\" xlink:href=\"#DejaVuSans-30\"/>\n       <use x=\"318.115234\" xlink:href=\"#DejaVuSans-2e\"/>\n       <use x=\"349.902344\" xlink:href=\"#DejaVuSans-30\"/>\n      </g>\n     </g>\n    </g>\n    <g id=\"ytick_4\">\n     <g id=\"line2d_10\">\n      <g>\n       <use style=\"stroke:#000000;stroke-width:0.8;\" x=\"55.553125\" xlink:href=\"#m56b11f0975\" y=\"140.08\"/>\n      </g>\n     </g>\n     <g id=\"text_10\">\n      <!-- 90000.0 -->\n      <g transform=\"translate(7.2 143.879219)scale(0.1 -0.1)\">\n       <defs>\n        <path d=\"M 703 97 \nL 703 672 \nQ 941 559 1184 500 \nQ 1428 441 1663 441 \nQ 2288 441 2617 861 \nQ 2947 1281 2994 2138 \nQ 2813 1869 2534 1725 \nQ 2256 1581 1919 1581 \nQ 1219 1581 811 2004 \nQ 403 2428 403 3163 \nQ 403 3881 828 4315 \nQ 1253 4750 1959 4750 \nQ 2769 4750 3195 4129 \nQ 3622 3509 3622 2328 \nQ 3622 1225 3098 567 \nQ 2575 -91 1691 -91 \nQ 1453 -91 1209 -44 \nQ 966 3 703 97 \nz\nM 1959 2075 \nQ 2384 2075 2632 2365 \nQ 2881 2656 2881 3163 \nQ 2881 3666 2632 3958 \nQ 2384 4250 1959 4250 \nQ 1534 4250 1286 3958 \nQ 1038 3666 1038 3163 \nQ 1038 2656 1286 2365 \nQ 1534 2075 1959 2075 \nz\n\" id=\"DejaVuSans-39\" transform=\"scale(0.015625)\"/>\n       </defs>\n       <use xlink:href=\"#DejaVuSans-39\"/>\n       <use x=\"63.623047\" xlink:href=\"#DejaVuSans-30\"/>\n       <use x=\"127.246094\" xlink:href=\"#DejaVuSans-30\"/>\n       <use x=\"190.869141\" xlink:href=\"#DejaVuSans-30\"/>\n       <use x=\"254.492188\" xlink:href=\"#DejaVuSans-30\"/>\n       <use x=\"318.115234\" xlink:href=\"#DejaVuSans-2e\"/>\n       <use x=\"349.902344\" xlink:href=\"#DejaVuSans-30\"/>\n      </g>\n     </g>\n    </g>\n    <g id=\"ytick_5\">\n     <g id=\"line2d_11\">\n      <g>\n       <use style=\"stroke:#000000;stroke-width:0.8;\" x=\"55.553125\" xlink:href=\"#m56b11f0975\" y=\"115.92\"/>\n      </g>\n     </g>\n     <g id=\"text_11\">\n      <!-- 65030.0 -->\n      <g transform=\"translate(7.2 119.719219)scale(0.1 -0.1)\">\n       <defs>\n        <path d=\"M 2113 2584 \nQ 1688 2584 1439 2293 \nQ 1191 2003 1191 1497 \nQ 1191 994 1439 701 \nQ 1688 409 2113 409 \nQ 2538 409 2786 701 \nQ 3034 994 3034 1497 \nQ 3034 2003 2786 2293 \nQ 2538 2584 2113 2584 \nz\nM 3366 4563 \nL 3366 3988 \nQ 3128 4100 2886 4159 \nQ 2644 4219 2406 4219 \nQ 1781 4219 1451 3797 \nQ 1122 3375 1075 2522 \nQ 1259 2794 1537 2939 \nQ 1816 3084 2150 3084 \nQ 2853 3084 3261 2657 \nQ 3669 2231 3669 1497 \nQ 3669 778 3244 343 \nQ 2819 -91 2113 -91 \nQ 1303 -91 875 529 \nQ 447 1150 447 2328 \nQ 447 3434 972 4092 \nQ 1497 4750 2381 4750 \nQ 2619 4750 2861 4703 \nQ 3103 4656 3366 4563 \nz\n\" id=\"DejaVuSans-36\" transform=\"scale(0.015625)\"/>\n        <path d=\"M 2597 2516 \nQ 3050 2419 3304 2112 \nQ 3559 1806 3559 1356 \nQ 3559 666 3084 287 \nQ 2609 -91 1734 -91 \nQ 1441 -91 1130 -33 \nQ 819 25 488 141 \nL 488 750 \nQ 750 597 1062 519 \nQ 1375 441 1716 441 \nQ 2309 441 2620 675 \nQ 2931 909 2931 1356 \nQ 2931 1769 2642 2001 \nQ 2353 2234 1838 2234 \nL 1294 2234 \nL 1294 2753 \nL 1863 2753 \nQ 2328 2753 2575 2939 \nQ 2822 3125 2822 3475 \nQ 2822 3834 2567 4026 \nQ 2313 4219 1838 4219 \nQ 1578 4219 1281 4162 \nQ 984 4106 628 3988 \nL 628 4550 \nQ 988 4650 1302 4700 \nQ 1616 4750 1894 4750 \nQ 2613 4750 3031 4423 \nQ 3450 4097 3450 3541 \nQ 3450 3153 3228 2886 \nQ 3006 2619 2597 2516 \nz\n\" id=\"DejaVuSans-33\" transform=\"scale(0.015625)\"/>\n       </defs>\n       <use xlink:href=\"#DejaVuSans-36\"/>\n       <use x=\"63.623047\" xlink:href=\"#DejaVuSans-35\"/>\n       <use x=\"127.246094\" xlink:href=\"#DejaVuSans-30\"/>\n       <use x=\"190.869141\" xlink:href=\"#DejaVuSans-33\"/>\n       <use x=\"254.492188\" xlink:href=\"#DejaVuSans-30\"/>\n       <use x=\"318.115234\" xlink:href=\"#DejaVuSans-2e\"/>\n       <use x=\"349.902344\" xlink:href=\"#DejaVuSans-30\"/>\n      </g>\n     </g>\n    </g>\n    <g id=\"ytick_6\">\n     <g id=\"line2d_12\">\n      <g>\n       <use style=\"stroke:#000000;stroke-width:0.8;\" x=\"55.553125\" xlink:href=\"#m56b11f0975\" y=\"91.76\"/>\n      </g>\n     </g>\n     <g id=\"text_12\">\n      <!-- 88000.0 -->\n      <g transform=\"translate(7.2 95.559219)scale(0.1 -0.1)\">\n       <use xlink:href=\"#DejaVuSans-38\"/>\n       <use x=\"63.623047\" xlink:href=\"#DejaVuSans-38\"/>\n       <use x=\"127.246094\" xlink:href=\"#DejaVuSans-30\"/>\n       <use x=\"190.869141\" xlink:href=\"#DejaVuSans-30\"/>\n       <use x=\"254.492188\" xlink:href=\"#DejaVuSans-30\"/>\n       <use x=\"318.115234\" xlink:href=\"#DejaVuSans-2e\"/>\n       <use x=\"349.902344\" xlink:href=\"#DejaVuSans-30\"/>\n      </g>\n     </g>\n    </g>\n    <g id=\"ytick_7\">\n     <g id=\"line2d_13\">\n      <g>\n       <use style=\"stroke:#000000;stroke-width:0.8;\" x=\"55.553125\" xlink:href=\"#m56b11f0975\" y=\"67.6\"/>\n      </g>\n     </g>\n     <g id=\"text_13\">\n      <!-- 99000.0 -->\n      <g transform=\"translate(7.2 71.399219)scale(0.1 -0.1)\">\n       <use xlink:href=\"#DejaVuSans-39\"/>\n       <use x=\"63.623047\" xlink:href=\"#DejaVuSans-39\"/>\n       <use x=\"127.246094\" xlink:href=\"#DejaVuSans-30\"/>\n       <use x=\"190.869141\" xlink:href=\"#DejaVuSans-30\"/>\n       <use x=\"254.492188\" xlink:href=\"#DejaVuSans-30\"/>\n       <use x=\"318.115234\" xlink:href=\"#DejaVuSans-2e\"/>\n       <use x=\"349.902344\" xlink:href=\"#DejaVuSans-30\"/>\n      </g>\n     </g>\n    </g>\n    <g id=\"ytick_8\">\n     <g id=\"line2d_14\">\n      <g>\n       <use style=\"stroke:#000000;stroke-width:0.8;\" x=\"55.553125\" xlink:href=\"#m56b11f0975\" y=\"43.44\"/>\n      </g>\n     </g>\n     <g id=\"text_14\">\n      <!-- 86000.0 -->\n      <g transform=\"translate(7.2 47.239219)scale(0.1 -0.1)\">\n       <use xlink:href=\"#DejaVuSans-38\"/>\n       <use x=\"63.623047\" xlink:href=\"#DejaVuSans-36\"/>\n       <use x=\"127.246094\" xlink:href=\"#DejaVuSans-30\"/>\n       <use x=\"190.869141\" xlink:href=\"#DejaVuSans-30\"/>\n       <use x=\"254.492188\" xlink:href=\"#DejaVuSans-30\"/>\n       <use x=\"318.115234\" xlink:href=\"#DejaVuSans-2e\"/>\n       <use x=\"349.902344\" xlink:href=\"#DejaVuSans-30\"/>\n      </g>\n     </g>\n    </g>\n    <g id=\"ytick_9\">\n     <g id=\"line2d_15\">\n      <g>\n       <use style=\"stroke:#000000;stroke-width:0.8;\" x=\"55.553125\" xlink:href=\"#m56b11f0975\" y=\"19.28\"/>\n      </g>\n     </g>\n     <g id=\"text_15\">\n      <!-- 65000.0 -->\n      <g transform=\"translate(7.2 23.079219)scale(0.1 -0.1)\">\n       <use xlink:href=\"#DejaVuSans-36\"/>\n       <use x=\"63.623047\" xlink:href=\"#DejaVuSans-35\"/>\n       <use x=\"127.246094\" xlink:href=\"#DejaVuSans-30\"/>\n       <use x=\"190.869141\" xlink:href=\"#DejaVuSans-30\"/>\n       <use x=\"254.492188\" xlink:href=\"#DejaVuSans-30\"/>\n       <use x=\"318.115234\" xlink:href=\"#DejaVuSans-2e\"/>\n       <use x=\"349.902344\" xlink:href=\"#DejaVuSans-30\"/>\n      </g>\n     </g>\n    </g>\n   </g>\n   <g id=\"patch_12\">\n    <path d=\"M 55.553125 224.64 \nL 55.553125 7.2 \n\" style=\"fill:none;stroke:#000000;stroke-linecap:square;stroke-linejoin:miter;stroke-width:0.8;\"/>\n   </g>\n   <g id=\"patch_13\">\n    <path d=\"M 390.353125 224.64 \nL 390.353125 7.2 \n\" style=\"fill:none;stroke:#000000;stroke-linecap:square;stroke-linejoin:miter;stroke-width:0.8;\"/>\n   </g>\n   <g id=\"patch_14\">\n    <path d=\"M 55.553125 224.64 \nL 390.353125 224.64 \n\" style=\"fill:none;stroke:#000000;stroke-linecap:square;stroke-linejoin:miter;stroke-width:0.8;\"/>\n   </g>\n   <g id=\"patch_15\">\n    <path d=\"M 55.553125 7.2 \nL 390.353125 7.2 \n\" style=\"fill:none;stroke:#000000;stroke-linecap:square;stroke-linejoin:miter;stroke-width:0.8;\"/>\n   </g>\n  </g>\n </g>\n <defs>\n  <clipPath id=\"p807d6a90c1\">\n   <rect height=\"217.44\" width=\"334.8\" x=\"55.553125\" y=\"7.2\"/>\n  </clipPath>\n </defs>\n</svg>\n",
      "image/png": "[encoded data removed]"
     },
     "metadata": {
      "needs_background": "light"
     }
    }
   ],
   "source": [
    "df_hidden_pred.lithology.value_counts().plot.barh()"
   ]
  },
  {
   "source": [
    "Shale           65000.0         720803\n",
    "\n",
    "Sandstone       30000.0         168937\n",
    "\n",
    "Sandstone/Shale 65030.0         150455\n",
    "\n",
    "Limestone       70000.0         56320\n",
    "\n",
    "Marl            80000.0         33329\n",
    "\n",
    "Tuff            99000.0         15245\n",
    "\n",
    "Chalk           70032.0         10513\n",
    "\n",
    "Halite          88000.0         8213\n",
    "\n",
    "Coal            90000.0         3820\n",
    "\n",
    "Dolomite        74000.0         1688\n",
    "\n",
    "Anhydrite       86000.0         1085\n",
    "\n",
    "Basement        93000.0         103"
   ],
   "cell_type": "markdown",
   "metadata": {}
  },
  {
   "cell_type": "code",
   "execution_count": 46,
   "metadata": {},
   "outputs": [],
   "source": [
    "df_hidden_pred.to_csv('data/output/df_hidden_unbalanced.csv', index=False)"
   ]
  },
  {
   "source": [
    "### Balanced Model - Test 6"
   ],
   "cell_type": "markdown",
   "metadata": {}
  },
  {
   "cell_type": "code",
   "execution_count": 47,
   "metadata": {},
   "outputs": [
    {
     "output_type": "execute_result",
     "data": {
      "text/plain": [
       "   lithology\n",
       "0          9\n",
       "1          9\n",
       "2          9\n",
       "3          9\n",
       "4          6"
      ],
      "text/html": "<div>\n<style scoped>\n    .dataframe tbody tr th:only-of-type {\n        vertical-align: middle;\n    }\n\n    .dataframe tbody tr th {\n        vertical-align: top;\n    }\n\n    .dataframe thead th {\n        text-align: right;\n    }\n</style>\n<table border=\"1\" class=\"dataframe\">\n  <thead>\n    <tr style=\"text-align: right;\">\n      <th></th>\n      <th>lithology</th>\n    </tr>\n  </thead>\n  <tbody>\n    <tr>\n      <th>0</th>\n      <td>9</td>\n    </tr>\n    <tr>\n      <th>1</th>\n      <td>9</td>\n    </tr>\n    <tr>\n      <th>2</th>\n      <td>9</td>\n    </tr>\n    <tr>\n      <th>3</th>\n      <td>9</td>\n    </tr>\n    <tr>\n      <th>4</th>\n      <td>6</td>\n    </tr>\n  </tbody>\n</table>\n</div>"
     },
     "metadata": {},
     "execution_count": 47
    }
   ],
   "source": [
    "balanced_model = torch.load('data/model/test_6.pth')\n",
    "\n",
    "with torch.no_grad():\n",
    "    balanced_model.eval()\n",
    "    y_hidden_pred = balanced_model(X_hidden_transform_tensor)\n",
    "    y_hidden_hat = np.argmax(y_hidden_pred, axis=1).flatten()\n",
    "\n",
    "df_hidden_pred = pd.DataFrame(y_hidden_hat.numpy(), columns=['lithology'])\n",
    "df_hidden_pred.head()"
   ]
  },
  {
   "cell_type": "code",
   "execution_count": 48,
   "metadata": {},
   "outputs": [
    {
     "output_type": "execute_result",
     "data": {
      "text/plain": [
       "   lithology\n",
       "0    65030.0\n",
       "1    65030.0\n",
       "2    65030.0\n",
       "3    65030.0\n",
       "4    70000.0"
      ],
      "text/html": "<div>\n<style scoped>\n    .dataframe tbody tr th:only-of-type {\n        vertical-align: middle;\n    }\n\n    .dataframe tbody tr th {\n        vertical-align: top;\n    }\n\n    .dataframe thead th {\n        text-align: right;\n    }\n</style>\n<table border=\"1\" class=\"dataframe\">\n  <thead>\n    <tr style=\"text-align: right;\">\n      <th></th>\n      <th>lithology</th>\n    </tr>\n  </thead>\n  <tbody>\n    <tr>\n      <th>0</th>\n      <td>65030.0</td>\n    </tr>\n    <tr>\n      <th>1</th>\n      <td>65030.0</td>\n    </tr>\n    <tr>\n      <th>2</th>\n      <td>65030.0</td>\n    </tr>\n    <tr>\n      <th>3</th>\n      <td>65030.0</td>\n    </tr>\n    <tr>\n      <th>4</th>\n      <td>70000.0</td>\n    </tr>\n  </tbody>\n</table>\n</div>"
     },
     "metadata": {},
     "execution_count": 48
    }
   ],
   "source": [
    "df_hidden_pred['lithology'] = df_hidden_pred['lithology'] .apply(lambda x: class_num_to_name(x))\n",
    "df_hidden_pred.head()"
   ]
  },
  {
   "cell_type": "code",
   "execution_count": 49,
   "metadata": {},
   "outputs": [
    {
     "output_type": "execute_result",
     "data": {
      "text/plain": [
       "74000.0    30167\n",
       "70000.0    25873\n",
       "65030.0    21771\n",
       "99000.0    16993\n",
       "90000.0    13719\n",
       "80000.0     8487\n",
       "93000.0     3372\n",
       "88000.0     1265\n",
       "86000.0      554\n",
       "30000.0      191\n",
       "65000.0        5\n",
       "Name: lithology, dtype: int64"
      ]
     },
     "metadata": {},
     "execution_count": 49
    }
   ],
   "source": [
    "df_hidden_pred.lithology.value_counts()"
   ]
  },
  {
   "cell_type": "code",
   "execution_count": 50,
   "metadata": {},
   "outputs": [
    {
     "output_type": "execute_result",
     "data": {
      "text/plain": [
       "<AxesSubplot:>"
      ]
     },
     "metadata": {},
     "execution_count": 50
    },
    {
     "output_type": "display_data",
     "data": {
      "text/plain": "<Figure size 432x288 with 1 Axes>",
      "image/svg+xml": "<?xml version=\"1.0\" encoding=\"utf-8\" standalone=\"no\"?>\n<!DOCTYPE svg PUBLIC \"-//W3C//DTD SVG 1.1//EN\"\n  \"http://www.w3.org/Graphics/SVG/1.1/DTD/svg11.dtd\">\n<svg height=\"248.518125pt\" version=\"1.1\" viewBox=\"0 0 397.553125 248.518125\" width=\"397.553125pt\" xmlns=\"http://www.w3.org/2000/svg\" xmlns:xlink=\"http://www.w3.org/1999/xlink\">\n <metadata>\n  <rdf:RDF xmlns:cc=\"http://creativecommons.org/ns#\" xmlns:dc=\"http://purl.org/dc/elements/1.1/\" xmlns:rdf=\"http://www.w3.org/1999/02/22-rdf-syntax-ns#\">\n   <cc:Work>\n    <dc:type rdf:resource=\"http://purl.org/dc/dcmitype/StillImage\"/>\n    <dc:date>2021-05-21T23:57:09.655636</dc:date>\n    <dc:format>image/svg+xml</dc:format>\n    <dc:creator>\n     <cc:Agent>\n      <dc:title>Matplotlib v3.4.1, https://matplotlib.org/</dc:title>\n     </cc:Agent>\n    </dc:creator>\n   </cc:Work>\n  </rdf:RDF>\n </metadata>\n <defs>\n  <style type=\"text/css\">*{stroke-linecap:butt;stroke-linejoin:round;}</style>\n </defs>\n <g id=\"figure_1\">\n  <g id=\"patch_1\">\n   <path d=\"M 0 248.518125 \nL 397.553125 248.518125 \nL 397.553125 0 \nL 0 0 \nz\n\" style=\"fill:none;\"/>\n  </g>\n  <g id=\"axes_1\">\n   <g id=\"patch_2\">\n    <path d=\"M 55.553125 224.64 \nL 390.353125 224.64 \nL 390.353125 7.2 \nL 55.553125 7.2 \nz\n\" style=\"fill:#ffffff;\"/>\n   </g>\n   <g id=\"patch_3\">\n    <path clip-path=\"url(#pfb6befa779)\" d=\"M 55.553125 219.698182 \nL 374.410268 219.698182 \nL 374.410268 209.814545 \nL 55.553125 209.814545 \nz\n\" style=\"fill:#1f77b4;\"/>\n   </g>\n   <g id=\"patch_4\">\n    <path clip-path=\"url(#pfb6befa779)\" d=\"M 55.553125 199.930909 \nL 329.023833 199.930909 \nL 329.023833 190.047273 \nL 55.553125 190.047273 \nz\n\" style=\"fill:#1f77b4;\"/>\n   </g>\n   <g id=\"patch_5\">\n    <path clip-path=\"url(#pfb6befa779)\" d=\"M 55.553125 180.163636 \nL 285.666788 180.163636 \nL 285.666788 170.28 \nL 55.553125 170.28 \nz\n\" style=\"fill:#1f77b4;\"/>\n   </g>\n   <g id=\"patch_6\">\n    <path clip-path=\"url(#pfb6befa779)\" d=\"M 55.553125 160.396364 \nL 235.164602 160.396364 \nL 235.164602 150.512727 \nL 55.553125 150.512727 \nz\n\" style=\"fill:#1f77b4;\"/>\n   </g>\n   <g id=\"patch_7\">\n    <path clip-path=\"url(#pfb6befa779)\" d=\"M 55.553125 140.629091 \nL 200.559295 140.629091 \nL 200.559295 130.745455 \nL 55.553125 130.745455 \nz\n\" style=\"fill:#1f77b4;\"/>\n   </g>\n   <g id=\"patch_8\">\n    <path clip-path=\"url(#pfb6befa779)\" d=\"M 55.553125 120.861818 \nL 145.258451 120.861818 \nL 145.258451 110.978182 \nL 55.553125 110.978182 \nz\n\" style=\"fill:#1f77b4;\"/>\n   </g>\n   <g id=\"patch_9\">\n    <path clip-path=\"url(#pfb6befa779)\" d=\"M 55.553125 101.094545 \nL 91.194266 101.094545 \nL 91.194266 91.210909 \nL 55.553125 91.210909 \nz\n\" style=\"fill:#1f77b4;\"/>\n   </g>\n   <g id=\"patch_10\">\n    <path clip-path=\"url(#pfb6befa779)\" d=\"M 55.553125 81.327273 \nL 68.923838 81.327273 \nL 68.923838 71.443636 \nL 55.553125 71.443636 \nz\n\" style=\"fill:#1f77b4;\"/>\n   </g>\n   <g id=\"patch_11\">\n    <path clip-path=\"url(#pfb6befa779)\" d=\"M 55.553125 61.56 \nL 61.408757 61.56 \nL 61.408757 51.676364 \nL 55.553125 51.676364 \nz\n\" style=\"fill:#1f77b4;\"/>\n   </g>\n   <g id=\"patch_12\">\n    <path clip-path=\"url(#pfb6befa779)\" d=\"M 55.553125 41.792727 \nL 57.571944 41.792727 \nL 57.571944 31.909091 \nL 55.553125 31.909091 \nz\n\" style=\"fill:#1f77b4;\"/>\n   </g>\n   <g id=\"patch_13\">\n    <path clip-path=\"url(#pfb6befa779)\" d=\"M 55.553125 22.025455 \nL 55.605974 22.025455 \nL 55.605974 12.141818 \nL 55.553125 12.141818 \nz\n\" style=\"fill:#1f77b4;\"/>\n   </g>\n   <g id=\"matplotlib.axis_1\">\n    <g id=\"xtick_1\">\n     <g id=\"line2d_1\">\n      <defs>\n       <path d=\"M 0 0 \nL 0 3.5 \n\" id=\"ma8180c4819\" style=\"stroke:#000000;stroke-width:0.8;\"/>\n      </defs>\n      <g>\n       <use style=\"stroke:#000000;stroke-width:0.8;\" x=\"55.553125\" xlink:href=\"#ma8180c4819\" y=\"224.64\"/>\n      </g>\n     </g>\n     <g id=\"text_1\">\n      <!-- 0 -->\n      <g transform=\"translate(52.371875 239.238438)scale(0.1 -0.1)\">\n       <defs>\n        <path d=\"M 2034 4250 \nQ 1547 4250 1301 3770 \nQ 1056 3291 1056 2328 \nQ 1056 1369 1301 889 \nQ 1547 409 2034 409 \nQ 2525 409 2770 889 \nQ 3016 1369 3016 2328 \nQ 3016 3291 2770 3770 \nQ 2525 4250 2034 4250 \nz\nM 2034 4750 \nQ 2819 4750 3233 4129 \nQ 3647 3509 3647 2328 \nQ 3647 1150 3233 529 \nQ 2819 -91 2034 -91 \nQ 1250 -91 836 529 \nQ 422 1150 422 2328 \nQ 422 3509 836 4129 \nQ 1250 4750 2034 4750 \nz\n\" id=\"DejaVuSans-30\" transform=\"scale(0.015625)\"/>\n       </defs>\n       <use xlink:href=\"#DejaVuSans-30\"/>\n      </g>\n     </g>\n    </g>\n    <g id=\"xtick_2\">\n     <g id=\"line2d_2\">\n      <g>\n       <use style=\"stroke:#000000;stroke-width:0.8;\" x=\"108.401791\" xlink:href=\"#ma8180c4819\" y=\"224.64\"/>\n      </g>\n     </g>\n     <g id=\"text_2\">\n      <!-- 5000 -->\n      <g transform=\"translate(95.676791 239.238438)scale(0.1 -0.1)\">\n       <defs>\n        <path d=\"M 691 4666 \nL 3169 4666 \nL 3169 4134 \nL 1269 4134 \nL 1269 2991 \nQ 1406 3038 1543 3061 \nQ 1681 3084 1819 3084 \nQ 2600 3084 3056 2656 \nQ 3513 2228 3513 1497 \nQ 3513 744 3044 326 \nQ 2575 -91 1722 -91 \nQ 1428 -91 1123 -41 \nQ 819 9 494 109 \nL 494 744 \nQ 775 591 1075 516 \nQ 1375 441 1709 441 \nQ 2250 441 2565 725 \nQ 2881 1009 2881 1497 \nQ 2881 1984 2565 2268 \nQ 2250 2553 1709 2553 \nQ 1456 2553 1204 2497 \nQ 953 2441 691 2322 \nL 691 4666 \nz\n\" id=\"DejaVuSans-35\" transform=\"scale(0.015625)\"/>\n       </defs>\n       <use xlink:href=\"#DejaVuSans-35\"/>\n       <use x=\"63.623047\" xlink:href=\"#DejaVuSans-30\"/>\n       <use x=\"127.246094\" xlink:href=\"#DejaVuSans-30\"/>\n       <use x=\"190.869141\" xlink:href=\"#DejaVuSans-30\"/>\n      </g>\n     </g>\n    </g>\n    <g id=\"xtick_3\">\n     <g id=\"line2d_3\">\n      <g>\n       <use style=\"stroke:#000000;stroke-width:0.8;\" x=\"161.250457\" xlink:href=\"#ma8180c4819\" y=\"224.64\"/>\n      </g>\n     </g>\n     <g id=\"text_3\">\n      <!-- 10000 -->\n      <g transform=\"translate(145.344207 239.238438)scale(0.1 -0.1)\">\n       <defs>\n        <path d=\"M 794 531 \nL 1825 531 \nL 1825 4091 \nL 703 3866 \nL 703 4441 \nL 1819 4666 \nL 2450 4666 \nL 2450 531 \nL 3481 531 \nL 3481 0 \nL 794 0 \nL 794 531 \nz\n\" id=\"DejaVuSans-31\" transform=\"scale(0.015625)\"/>\n       </defs>\n       <use xlink:href=\"#DejaVuSans-31\"/>\n       <use x=\"63.623047\" xlink:href=\"#DejaVuSans-30\"/>\n       <use x=\"127.246094\" xlink:href=\"#DejaVuSans-30\"/>\n       <use x=\"190.869141\" xlink:href=\"#DejaVuSans-30\"/>\n       <use x=\"254.492188\" xlink:href=\"#DejaVuSans-30\"/>\n      </g>\n     </g>\n    </g>\n    <g id=\"xtick_4\">\n     <g id=\"line2d_4\">\n      <g>\n       <use style=\"stroke:#000000;stroke-width:0.8;\" x=\"214.099124\" xlink:href=\"#ma8180c4819\" y=\"224.64\"/>\n      </g>\n     </g>\n     <g id=\"text_4\">\n      <!-- 15000 -->\n      <g transform=\"translate(198.192874 239.238438)scale(0.1 -0.1)\">\n       <use xlink:href=\"#DejaVuSans-31\"/>\n       <use x=\"63.623047\" xlink:href=\"#DejaVuSans-35\"/>\n       <use x=\"127.246094\" xlink:href=\"#DejaVuSans-30\"/>\n       <use x=\"190.869141\" xlink:href=\"#DejaVuSans-30\"/>\n       <use x=\"254.492188\" xlink:href=\"#DejaVuSans-30\"/>\n      </g>\n     </g>\n    </g>\n    <g id=\"xtick_5\">\n     <g id=\"line2d_5\">\n      <g>\n       <use style=\"stroke:#000000;stroke-width:0.8;\" x=\"266.94779\" xlink:href=\"#ma8180c4819\" y=\"224.64\"/>\n      </g>\n     </g>\n     <g id=\"text_5\">\n      <!-- 20000 -->\n      <g transform=\"translate(251.04154 239.238438)scale(0.1 -0.1)\">\n       <defs>\n        <path d=\"M 1228 531 \nL 3431 531 \nL 3431 0 \nL 469 0 \nL 469 531 \nQ 828 903 1448 1529 \nQ 2069 2156 2228 2338 \nQ 2531 2678 2651 2914 \nQ 2772 3150 2772 3378 \nQ 2772 3750 2511 3984 \nQ 2250 4219 1831 4219 \nQ 1534 4219 1204 4116 \nQ 875 4013 500 3803 \nL 500 4441 \nQ 881 4594 1212 4672 \nQ 1544 4750 1819 4750 \nQ 2544 4750 2975 4387 \nQ 3406 4025 3406 3419 \nQ 3406 3131 3298 2873 \nQ 3191 2616 2906 2266 \nQ 2828 2175 2409 1742 \nQ 1991 1309 1228 531 \nz\n\" id=\"DejaVuSans-32\" transform=\"scale(0.015625)\"/>\n       </defs>\n       <use xlink:href=\"#DejaVuSans-32\"/>\n       <use x=\"63.623047\" xlink:href=\"#DejaVuSans-30\"/>\n       <use x=\"127.246094\" xlink:href=\"#DejaVuSans-30\"/>\n       <use x=\"190.869141\" xlink:href=\"#DejaVuSans-30\"/>\n       <use x=\"254.492188\" xlink:href=\"#DejaVuSans-30\"/>\n      </g>\n     </g>\n    </g>\n    <g id=\"xtick_6\">\n     <g id=\"line2d_6\">\n      <g>\n       <use style=\"stroke:#000000;stroke-width:0.8;\" x=\"319.796456\" xlink:href=\"#ma8180c4819\" y=\"224.64\"/>\n      </g>\n     </g>\n     <g id=\"text_6\">\n      <!-- 25000 -->\n      <g transform=\"translate(303.890206 239.238438)scale(0.1 -0.1)\">\n       <use xlink:href=\"#DejaVuSans-32\"/>\n       <use x=\"63.623047\" xlink:href=\"#DejaVuSans-35\"/>\n       <use x=\"127.246094\" xlink:href=\"#DejaVuSans-30\"/>\n       <use x=\"190.869141\" xlink:href=\"#DejaVuSans-30\"/>\n       <use x=\"254.492188\" xlink:href=\"#DejaVuSans-30\"/>\n      </g>\n     </g>\n    </g>\n    <g id=\"xtick_7\">\n     <g id=\"line2d_7\">\n      <g>\n       <use style=\"stroke:#000000;stroke-width:0.8;\" x=\"372.645122\" xlink:href=\"#ma8180c4819\" y=\"224.64\"/>\n      </g>\n     </g>\n     <g id=\"text_7\">\n      <!-- 30000 -->\n      <g transform=\"translate(356.738872 239.238438)scale(0.1 -0.1)\">\n       <defs>\n        <path d=\"M 2597 2516 \nQ 3050 2419 3304 2112 \nQ 3559 1806 3559 1356 \nQ 3559 666 3084 287 \nQ 2609 -91 1734 -91 \nQ 1441 -91 1130 -33 \nQ 819 25 488 141 \nL 488 750 \nQ 750 597 1062 519 \nQ 1375 441 1716 441 \nQ 2309 441 2620 675 \nQ 2931 909 2931 1356 \nQ 2931 1769 2642 2001 \nQ 2353 2234 1838 2234 \nL 1294 2234 \nL 1294 2753 \nL 1863 2753 \nQ 2328 2753 2575 2939 \nQ 2822 3125 2822 3475 \nQ 2822 3834 2567 4026 \nQ 2313 4219 1838 4219 \nQ 1578 4219 1281 4162 \nQ 984 4106 628 3988 \nL 628 4550 \nQ 988 4650 1302 4700 \nQ 1616 4750 1894 4750 \nQ 2613 4750 3031 4423 \nQ 3450 4097 3450 3541 \nQ 3450 3153 3228 2886 \nQ 3006 2619 2597 2516 \nz\n\" id=\"DejaVuSans-33\" transform=\"scale(0.015625)\"/>\n       </defs>\n       <use xlink:href=\"#DejaVuSans-33\"/>\n       <use x=\"63.623047\" xlink:href=\"#DejaVuSans-30\"/>\n       <use x=\"127.246094\" xlink:href=\"#DejaVuSans-30\"/>\n       <use x=\"190.869141\" xlink:href=\"#DejaVuSans-30\"/>\n       <use x=\"254.492188\" xlink:href=\"#DejaVuSans-30\"/>\n      </g>\n     </g>\n    </g>\n   </g>\n   <g id=\"matplotlib.axis_2\">\n    <g id=\"ytick_1\">\n     <g id=\"line2d_8\">\n      <defs>\n       <path d=\"M 0 0 \nL -3.5 0 \n\" id=\"maebe46b89c\" style=\"stroke:#000000;stroke-width:0.8;\"/>\n      </defs>\n      <g>\n       <use style=\"stroke:#000000;stroke-width:0.8;\" x=\"55.553125\" xlink:href=\"#maebe46b89c\" y=\"214.756364\"/>\n      </g>\n     </g>\n     <g id=\"text_8\">\n      <!-- 74000.0 -->\n      <g transform=\"translate(7.2 218.555582)scale(0.1 -0.1)\">\n       <defs>\n        <path d=\"M 525 4666 \nL 3525 4666 \nL 3525 4397 \nL 1831 0 \nL 1172 0 \nL 2766 4134 \nL 525 4134 \nL 525 4666 \nz\n\" id=\"DejaVuSans-37\" transform=\"scale(0.015625)\"/>\n        <path d=\"M 2419 4116 \nL 825 1625 \nL 2419 1625 \nL 2419 4116 \nz\nM 2253 4666 \nL 3047 4666 \nL 3047 1625 \nL 3713 1625 \nL 3713 1100 \nL 3047 1100 \nL 3047 0 \nL 2419 0 \nL 2419 1100 \nL 313 1100 \nL 313 1709 \nL 2253 4666 \nz\n\" id=\"DejaVuSans-34\" transform=\"scale(0.015625)\"/>\n        <path d=\"M 684 794 \nL 1344 794 \nL 1344 0 \nL 684 0 \nL 684 794 \nz\n\" id=\"DejaVuSans-2e\" transform=\"scale(0.015625)\"/>\n       </defs>\n       <use xlink:href=\"#DejaVuSans-37\"/>\n       <use x=\"63.623047\" xlink:href=\"#DejaVuSans-34\"/>\n       <use x=\"127.246094\" xlink:href=\"#DejaVuSans-30\"/>\n       <use x=\"190.869141\" xlink:href=\"#DejaVuSans-30\"/>\n       <use x=\"254.492188\" xlink:href=\"#DejaVuSans-30\"/>\n       <use x=\"318.115234\" xlink:href=\"#DejaVuSans-2e\"/>\n       <use x=\"349.902344\" xlink:href=\"#DejaVuSans-30\"/>\n      </g>\n     </g>\n    </g>\n    <g id=\"ytick_2\">\n     <g id=\"line2d_9\">\n      <g>\n       <use style=\"stroke:#000000;stroke-width:0.8;\" x=\"55.553125\" xlink:href=\"#maebe46b89c\" y=\"194.989091\"/>\n      </g>\n     </g>\n     <g id=\"text_9\">\n      <!-- 70000.0 -->\n      <g transform=\"translate(7.2 198.78831)scale(0.1 -0.1)\">\n       <use xlink:href=\"#DejaVuSans-37\"/>\n       <use x=\"63.623047\" xlink:href=\"#DejaVuSans-30\"/>\n       <use x=\"127.246094\" xlink:href=\"#DejaVuSans-30\"/>\n       <use x=\"190.869141\" xlink:href=\"#DejaVuSans-30\"/>\n       <use x=\"254.492188\" xlink:href=\"#DejaVuSans-30\"/>\n       <use x=\"318.115234\" xlink:href=\"#DejaVuSans-2e\"/>\n       <use x=\"349.902344\" xlink:href=\"#DejaVuSans-30\"/>\n      </g>\n     </g>\n    </g>\n    <g id=\"ytick_3\">\n     <g id=\"line2d_10\">\n      <g>\n       <use style=\"stroke:#000000;stroke-width:0.8;\" x=\"55.553125\" xlink:href=\"#maebe46b89c\" y=\"175.221818\"/>\n      </g>\n     </g>\n     <g id=\"text_10\">\n      <!-- 65030.0 -->\n      <g transform=\"translate(7.2 179.021037)scale(0.1 -0.1)\">\n       <defs>\n        <path d=\"M 2113 2584 \nQ 1688 2584 1439 2293 \nQ 1191 2003 1191 1497 \nQ 1191 994 1439 701 \nQ 1688 409 2113 409 \nQ 2538 409 2786 701 \nQ 3034 994 3034 1497 \nQ 3034 2003 2786 2293 \nQ 2538 2584 2113 2584 \nz\nM 3366 4563 \nL 3366 3988 \nQ 3128 4100 2886 4159 \nQ 2644 4219 2406 4219 \nQ 1781 4219 1451 3797 \nQ 1122 3375 1075 2522 \nQ 1259 2794 1537 2939 \nQ 1816 3084 2150 3084 \nQ 2853 3084 3261 2657 \nQ 3669 2231 3669 1497 \nQ 3669 778 3244 343 \nQ 2819 -91 2113 -91 \nQ 1303 -91 875 529 \nQ 447 1150 447 2328 \nQ 447 3434 972 4092 \nQ 1497 4750 2381 4750 \nQ 2619 4750 2861 4703 \nQ 3103 4656 3366 4563 \nz\n\" id=\"DejaVuSans-36\" transform=\"scale(0.015625)\"/>\n       </defs>\n       <use xlink:href=\"#DejaVuSans-36\"/>\n       <use x=\"63.623047\" xlink:href=\"#DejaVuSans-35\"/>\n       <use x=\"127.246094\" xlink:href=\"#DejaVuSans-30\"/>\n       <use x=\"190.869141\" xlink:href=\"#DejaVuSans-33\"/>\n       <use x=\"254.492188\" xlink:href=\"#DejaVuSans-30\"/>\n       <use x=\"318.115234\" xlink:href=\"#DejaVuSans-2e\"/>\n       <use x=\"349.902344\" xlink:href=\"#DejaVuSans-30\"/>\n      </g>\n     </g>\n    </g>\n    <g id=\"ytick_4\">\n     <g id=\"line2d_11\">\n      <g>\n       <use style=\"stroke:#000000;stroke-width:0.8;\" x=\"55.553125\" xlink:href=\"#maebe46b89c\" y=\"155.454545\"/>\n      </g>\n     </g>\n     <g id=\"text_11\">\n      <!-- 99000.0 -->\n      <g transform=\"translate(7.2 159.253764)scale(0.1 -0.1)\">\n       <defs>\n        <path d=\"M 703 97 \nL 703 672 \nQ 941 559 1184 500 \nQ 1428 441 1663 441 \nQ 2288 441 2617 861 \nQ 2947 1281 2994 2138 \nQ 2813 1869 2534 1725 \nQ 2256 1581 1919 1581 \nQ 1219 1581 811 2004 \nQ 403 2428 403 3163 \nQ 403 3881 828 4315 \nQ 1253 4750 1959 4750 \nQ 2769 4750 3195 4129 \nQ 3622 3509 3622 2328 \nQ 3622 1225 3098 567 \nQ 2575 -91 1691 -91 \nQ 1453 -91 1209 -44 \nQ 966 3 703 97 \nz\nM 1959 2075 \nQ 2384 2075 2632 2365 \nQ 2881 2656 2881 3163 \nQ 2881 3666 2632 3958 \nQ 2384 4250 1959 4250 \nQ 1534 4250 1286 3958 \nQ 1038 3666 1038 3163 \nQ 1038 2656 1286 2365 \nQ 1534 2075 1959 2075 \nz\n\" id=\"DejaVuSans-39\" transform=\"scale(0.015625)\"/>\n       </defs>\n       <use xlink:href=\"#DejaVuSans-39\"/>\n       <use x=\"63.623047\" xlink:href=\"#DejaVuSans-39\"/>\n       <use x=\"127.246094\" xlink:href=\"#DejaVuSans-30\"/>\n       <use x=\"190.869141\" xlink:href=\"#DejaVuSans-30\"/>\n       <use x=\"254.492188\" xlink:href=\"#DejaVuSans-30\"/>\n       <use x=\"318.115234\" xlink:href=\"#DejaVuSans-2e\"/>\n       <use x=\"349.902344\" xlink:href=\"#DejaVuSans-30\"/>\n      </g>\n     </g>\n    </g>\n    <g id=\"ytick_5\">\n     <g id=\"line2d_12\">\n      <g>\n       <use style=\"stroke:#000000;stroke-width:0.8;\" x=\"55.553125\" xlink:href=\"#maebe46b89c\" y=\"135.687273\"/>\n      </g>\n     </g>\n     <g id=\"text_12\">\n      <!-- 90000.0 -->\n      <g transform=\"translate(7.2 139.486491)scale(0.1 -0.1)\">\n       <use xlink:href=\"#DejaVuSans-39\"/>\n       <use x=\"63.623047\" xlink:href=\"#DejaVuSans-30\"/>\n       <use x=\"127.246094\" xlink:href=\"#DejaVuSans-30\"/>\n       <use x=\"190.869141\" xlink:href=\"#DejaVuSans-30\"/>\n       <use x=\"254.492188\" xlink:href=\"#DejaVuSans-30\"/>\n       <use x=\"318.115234\" xlink:href=\"#DejaVuSans-2e\"/>\n       <use x=\"349.902344\" xlink:href=\"#DejaVuSans-30\"/>\n      </g>\n     </g>\n    </g>\n    <g id=\"ytick_6\">\n     <g id=\"line2d_13\">\n      <g>\n       <use style=\"stroke:#000000;stroke-width:0.8;\" x=\"55.553125\" xlink:href=\"#maebe46b89c\" y=\"115.92\"/>\n      </g>\n     </g>\n     <g id=\"text_13\">\n      <!-- 80000.0 -->\n      <g transform=\"translate(7.2 119.719219)scale(0.1 -0.1)\">\n       <defs>\n        <path d=\"M 2034 2216 \nQ 1584 2216 1326 1975 \nQ 1069 1734 1069 1313 \nQ 1069 891 1326 650 \nQ 1584 409 2034 409 \nQ 2484 409 2743 651 \nQ 3003 894 3003 1313 \nQ 3003 1734 2745 1975 \nQ 2488 2216 2034 2216 \nz\nM 1403 2484 \nQ 997 2584 770 2862 \nQ 544 3141 544 3541 \nQ 544 4100 942 4425 \nQ 1341 4750 2034 4750 \nQ 2731 4750 3128 4425 \nQ 3525 4100 3525 3541 \nQ 3525 3141 3298 2862 \nQ 3072 2584 2669 2484 \nQ 3125 2378 3379 2068 \nQ 3634 1759 3634 1313 \nQ 3634 634 3220 271 \nQ 2806 -91 2034 -91 \nQ 1263 -91 848 271 \nQ 434 634 434 1313 \nQ 434 1759 690 2068 \nQ 947 2378 1403 2484 \nz\nM 1172 3481 \nQ 1172 3119 1398 2916 \nQ 1625 2713 2034 2713 \nQ 2441 2713 2670 2916 \nQ 2900 3119 2900 3481 \nQ 2900 3844 2670 4047 \nQ 2441 4250 2034 4250 \nQ 1625 4250 1398 4047 \nQ 1172 3844 1172 3481 \nz\n\" id=\"DejaVuSans-38\" transform=\"scale(0.015625)\"/>\n       </defs>\n       <use xlink:href=\"#DejaVuSans-38\"/>\n       <use x=\"63.623047\" xlink:href=\"#DejaVuSans-30\"/>\n       <use x=\"127.246094\" xlink:href=\"#DejaVuSans-30\"/>\n       <use x=\"190.869141\" xlink:href=\"#DejaVuSans-30\"/>\n       <use x=\"254.492188\" xlink:href=\"#DejaVuSans-30\"/>\n       <use x=\"318.115234\" xlink:href=\"#DejaVuSans-2e\"/>\n       <use x=\"349.902344\" xlink:href=\"#DejaVuSans-30\"/>\n      </g>\n     </g>\n    </g>\n    <g id=\"ytick_7\">\n     <g id=\"line2d_14\">\n      <g>\n       <use style=\"stroke:#000000;stroke-width:0.8;\" x=\"55.553125\" xlink:href=\"#maebe46b89c\" y=\"96.152727\"/>\n      </g>\n     </g>\n     <g id=\"text_14\">\n      <!-- 93000.0 -->\n      <g transform=\"translate(7.2 99.951946)scale(0.1 -0.1)\">\n       <use xlink:href=\"#DejaVuSans-39\"/>\n       <use x=\"63.623047\" xlink:href=\"#DejaVuSans-33\"/>\n       <use x=\"127.246094\" xlink:href=\"#DejaVuSans-30\"/>\n       <use x=\"190.869141\" xlink:href=\"#DejaVuSans-30\"/>\n       <use x=\"254.492188\" xlink:href=\"#DejaVuSans-30\"/>\n       <use x=\"318.115234\" xlink:href=\"#DejaVuSans-2e\"/>\n       <use x=\"349.902344\" xlink:href=\"#DejaVuSans-30\"/>\n      </g>\n     </g>\n    </g>\n    <g id=\"ytick_8\">\n     <g id=\"line2d_15\">\n      <g>\n       <use style=\"stroke:#000000;stroke-width:0.8;\" x=\"55.553125\" xlink:href=\"#maebe46b89c\" y=\"76.385455\"/>\n      </g>\n     </g>\n     <g id=\"text_15\">\n      <!-- 88000.0 -->\n      <g transform=\"translate(7.2 80.184673)scale(0.1 -0.1)\">\n       <use xlink:href=\"#DejaVuSans-38\"/>\n       <use x=\"63.623047\" xlink:href=\"#DejaVuSans-38\"/>\n       <use x=\"127.246094\" xlink:href=\"#DejaVuSans-30\"/>\n       <use x=\"190.869141\" xlink:href=\"#DejaVuSans-30\"/>\n       <use x=\"254.492188\" xlink:href=\"#DejaVuSans-30\"/>\n       <use x=\"318.115234\" xlink:href=\"#DejaVuSans-2e\"/>\n       <use x=\"349.902344\" xlink:href=\"#DejaVuSans-30\"/>\n      </g>\n     </g>\n    </g>\n    <g id=\"ytick_9\">\n     <g id=\"line2d_16\">\n      <g>\n       <use style=\"stroke:#000000;stroke-width:0.8;\" x=\"55.553125\" xlink:href=\"#maebe46b89c\" y=\"56.618182\"/>\n      </g>\n     </g>\n     <g id=\"text_16\">\n      <!-- 86000.0 -->\n      <g transform=\"translate(7.2 60.417401)scale(0.1 -0.1)\">\n       <use xlink:href=\"#DejaVuSans-38\"/>\n       <use x=\"63.623047\" xlink:href=\"#DejaVuSans-36\"/>\n       <use x=\"127.246094\" xlink:href=\"#DejaVuSans-30\"/>\n       <use x=\"190.869141\" xlink:href=\"#DejaVuSans-30\"/>\n       <use x=\"254.492188\" xlink:href=\"#DejaVuSans-30\"/>\n       <use x=\"318.115234\" xlink:href=\"#DejaVuSans-2e\"/>\n       <use x=\"349.902344\" xlink:href=\"#DejaVuSans-30\"/>\n      </g>\n     </g>\n    </g>\n    <g id=\"ytick_10\">\n     <g id=\"line2d_17\">\n      <g>\n       <use style=\"stroke:#000000;stroke-width:0.8;\" x=\"55.553125\" xlink:href=\"#maebe46b89c\" y=\"36.850909\"/>\n      </g>\n     </g>\n     <g id=\"text_17\">\n      <!-- 30000.0 -->\n      <g transform=\"translate(7.2 40.650128)scale(0.1 -0.1)\">\n       <use xlink:href=\"#DejaVuSans-33\"/>\n       <use x=\"63.623047\" xlink:href=\"#DejaVuSans-30\"/>\n       <use x=\"127.246094\" xlink:href=\"#DejaVuSans-30\"/>\n       <use x=\"190.869141\" xlink:href=\"#DejaVuSans-30\"/>\n       <use x=\"254.492188\" xlink:href=\"#DejaVuSans-30\"/>\n       <use x=\"318.115234\" xlink:href=\"#DejaVuSans-2e\"/>\n       <use x=\"349.902344\" xlink:href=\"#DejaVuSans-30\"/>\n      </g>\n     </g>\n    </g>\n    <g id=\"ytick_11\">\n     <g id=\"line2d_18\">\n      <g>\n       <use style=\"stroke:#000000;stroke-width:0.8;\" x=\"55.553125\" xlink:href=\"#maebe46b89c\" y=\"17.083636\"/>\n      </g>\n     </g>\n     <g id=\"text_18\">\n      <!-- 65000.0 -->\n      <g transform=\"translate(7.2 20.882855)scale(0.1 -0.1)\">\n       <use xlink:href=\"#DejaVuSans-36\"/>\n       <use x=\"63.623047\" xlink:href=\"#DejaVuSans-35\"/>\n       <use x=\"127.246094\" xlink:href=\"#DejaVuSans-30\"/>\n       <use x=\"190.869141\" xlink:href=\"#DejaVuSans-30\"/>\n       <use x=\"254.492188\" xlink:href=\"#DejaVuSans-30\"/>\n       <use x=\"318.115234\" xlink:href=\"#DejaVuSans-2e\"/>\n       <use x=\"349.902344\" xlink:href=\"#DejaVuSans-30\"/>\n      </g>\n     </g>\n    </g>\n   </g>\n   <g id=\"patch_14\">\n    <path d=\"M 55.553125 224.64 \nL 55.553125 7.2 \n\" style=\"fill:none;stroke:#000000;stroke-linecap:square;stroke-linejoin:miter;stroke-width:0.8;\"/>\n   </g>\n   <g id=\"patch_15\">\n    <path d=\"M 390.353125 224.64 \nL 390.353125 7.2 \n\" style=\"fill:none;stroke:#000000;stroke-linecap:square;stroke-linejoin:miter;stroke-width:0.8;\"/>\n   </g>\n   <g id=\"patch_16\">\n    <path d=\"M 55.553125 224.64 \nL 390.353125 224.64 \n\" style=\"fill:none;stroke:#000000;stroke-linecap:square;stroke-linejoin:miter;stroke-width:0.8;\"/>\n   </g>\n   <g id=\"patch_17\">\n    <path d=\"M 55.553125 7.2 \nL 390.353125 7.2 \n\" style=\"fill:none;stroke:#000000;stroke-linecap:square;stroke-linejoin:miter;stroke-width:0.8;\"/>\n   </g>\n  </g>\n </g>\n <defs>\n  <clipPath id=\"pfb6befa779\">\n   <rect height=\"217.44\" width=\"334.8\" x=\"55.553125\" y=\"7.2\"/>\n  </clipPath>\n </defs>\n</svg>\n",
      "image/png": "[encoded data removed]"
     },
     "metadata": {
      "needs_background": "light"
     }
    }
   ],
   "source": [
    "df_hidden_pred.lithology.value_counts().plot.barh()"
   ]
  },
  {
   "source": [
    "Shale           65000.0         720803\n",
    "\n",
    "Sandstone       30000.0         168937\n",
    "\n",
    "Sandstone/Shale 65030.0         150455\n",
    "\n",
    "Limestone       70000.0         56320\n",
    "\n",
    "Marl            80000.0         33329\n",
    "\n",
    "Tuff            99000.0         15245\n",
    "\n",
    "Chalk           70032.0         10513\n",
    "\n",
    "Halite          88000.0         8213\n",
    "\n",
    "Coal            90000.0         3820\n",
    "\n",
    "Dolomite        74000.0         1688\n",
    "\n",
    "Anhydrite       86000.0         1085\n",
    "\n",
    "Basement        93000.0         103"
   ],
   "cell_type": "markdown",
   "metadata": {}
  },
  {
   "cell_type": "code",
   "execution_count": 51,
   "metadata": {},
   "outputs": [],
   "source": [
    "df_hidden_pred.to_csv('data/output/df_hidden_balanced.csv', index=False)"
   ]
  }
 ]
}
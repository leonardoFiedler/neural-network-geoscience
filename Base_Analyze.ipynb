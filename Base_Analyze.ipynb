{
 "metadata": {
  "language_info": {
   "codemirror_mode": {
    "name": "ipython",
    "version": 3
   },
   "file_extension": ".py",
   "mimetype": "text/x-python",
   "name": "python",
   "nbconvert_exporter": "python",
   "pygments_lexer": "ipython3",
   "version": "3.9.0"
  },
  "orig_nbformat": 2,
  "kernelspec": {
   "name": "pythonjvsc74a57bd0f57ac3dc69f9b6a7ca8341da2f49afa2cd89ab2c0cc6c1a8b4fb989970585386",
   "display_name": "Python 3.9.0 64-bit ('.venv': venv)"
  },
  "metadata": {
   "interpreter": {
    "hash": "f57ac3dc69f9b6a7ca8341da2f49afa2cd89ab2c0cc6c1a8b4fb989970585386"
   }
  }
 },
 "nbformat": 4,
 "nbformat_minor": 2,
 "cells": [
  {
   "source": [
    "# Final Work: Neural Networks and Geoscience"
   ],
   "cell_type": "markdown",
   "metadata": {}
  },
  {
   "cell_type": "code",
   "execution_count": 4,
   "metadata": {},
   "outputs": [],
   "source": [
    "import pandas as pd\n",
    "import numpy as np\n",
    "import torch\n",
    "import torch.nn as nn\n",
    "import matplotlib.pyplot as plt"
   ]
  },
  {
   "source": [
    "## 1. Loading Data"
   ],
   "cell_type": "markdown",
   "metadata": {}
  },
  {
   "cell_type": "code",
   "execution_count": 5,
   "metadata": {},
   "outputs": [
    {
     "output_type": "execute_result",
     "data": {
      "text/plain": [
       "   DEPTH_MD         X_LOC      Y_LOC       Z_LOC       CALI   RSHA      RMED  \\\n",
       "0   494.528  437641.96875  6470972.5 -469.501831  19.480835 -999.0  1.611410   \n",
       "1   494.680  437641.96875  6470972.5 -469.653809  19.468800 -999.0  1.618070   \n",
       "2   494.832  437641.96875  6470972.5 -469.805786  19.468800 -999.0  1.626459   \n",
       "3   494.984  437641.96875  6470972.5 -469.957794  19.459282 -999.0  1.621594   \n",
       "4   495.136  437641.96875  6470972.5 -470.109772  19.453100 -999.0  1.602679   \n",
       "\n",
       "       RDEP      RHOB         GR  ...  Carbon_Index  Normalized_RHOB  \\\n",
       "0  1.798681  1.884186  80.200851  ...     24.735691         0.314847   \n",
       "1  1.795641  1.889794  79.262886  ...     24.492376         0.318528   \n",
       "2  1.800733  1.896523  74.821999  ...     24.202299         0.322946   \n",
       "3  1.801517  1.891913  72.878922  ...     24.400797         0.319919   \n",
       "4  1.795299  1.880034  71.729141  ...     24.916765         0.312121   \n",
       "\n",
       "   Normalized_GR  Delta_DTC  Delta_RHOB  Delta_GR  Delta_DEPTH_MD  \\\n",
       "0       0.150172  -0.000000   -0.000000 -0.000000           0.000   \n",
       "1       0.148269   0.527710   -0.005608  0.937965           0.152   \n",
       "2       0.139258   0.429855   -0.006729  4.440887           0.152   \n",
       "3       0.135315   0.024185    0.004610  1.943077           0.152   \n",
       "4       0.132982   0.021088    0.011879  1.149780           0.152   \n",
       "\n",
       "   Delta_Carbon_Index  GROUP_encoded  FORMATION_encoded  \n",
       "0            0.000000              6                 68  \n",
       "1           -0.243315              6                 68  \n",
       "2           -0.290077              6                 68  \n",
       "3            0.198498              6                 68  \n",
       "4            0.515968              6                 68  \n",
       "\n",
       "[5 rows x 31 columns]"
      ],
      "text/html": "<div>\n<style scoped>\n    .dataframe tbody tr th:only-of-type {\n        vertical-align: middle;\n    }\n\n    .dataframe tbody tr th {\n        vertical-align: top;\n    }\n\n    .dataframe thead th {\n        text-align: right;\n    }\n</style>\n<table border=\"1\" class=\"dataframe\">\n  <thead>\n    <tr style=\"text-align: right;\">\n      <th></th>\n      <th>DEPTH_MD</th>\n      <th>X_LOC</th>\n      <th>Y_LOC</th>\n      <th>Z_LOC</th>\n      <th>CALI</th>\n      <th>RSHA</th>\n      <th>RMED</th>\n      <th>RDEP</th>\n      <th>RHOB</th>\n      <th>GR</th>\n      <th>...</th>\n      <th>Carbon_Index</th>\n      <th>Normalized_RHOB</th>\n      <th>Normalized_GR</th>\n      <th>Delta_DTC</th>\n      <th>Delta_RHOB</th>\n      <th>Delta_GR</th>\n      <th>Delta_DEPTH_MD</th>\n      <th>Delta_Carbon_Index</th>\n      <th>GROUP_encoded</th>\n      <th>FORMATION_encoded</th>\n    </tr>\n  </thead>\n  <tbody>\n    <tr>\n      <th>0</th>\n      <td>494.528</td>\n      <td>437641.96875</td>\n      <td>6470972.5</td>\n      <td>-469.501831</td>\n      <td>19.480835</td>\n      <td>-999.0</td>\n      <td>1.611410</td>\n      <td>1.798681</td>\n      <td>1.884186</td>\n      <td>80.200851</td>\n      <td>...</td>\n      <td>24.735691</td>\n      <td>0.314847</td>\n      <td>0.150172</td>\n      <td>-0.000000</td>\n      <td>-0.000000</td>\n      <td>-0.000000</td>\n      <td>0.000</td>\n      <td>0.000000</td>\n      <td>6</td>\n      <td>68</td>\n    </tr>\n    <tr>\n      <th>1</th>\n      <td>494.680</td>\n      <td>437641.96875</td>\n      <td>6470972.5</td>\n      <td>-469.653809</td>\n      <td>19.468800</td>\n      <td>-999.0</td>\n      <td>1.618070</td>\n      <td>1.795641</td>\n      <td>1.889794</td>\n      <td>79.262886</td>\n      <td>...</td>\n      <td>24.492376</td>\n      <td>0.318528</td>\n      <td>0.148269</td>\n      <td>0.527710</td>\n      <td>-0.005608</td>\n      <td>0.937965</td>\n      <td>0.152</td>\n      <td>-0.243315</td>\n      <td>6</td>\n      <td>68</td>\n    </tr>\n    <tr>\n      <th>2</th>\n      <td>494.832</td>\n      <td>437641.96875</td>\n      <td>6470972.5</td>\n      <td>-469.805786</td>\n      <td>19.468800</td>\n      <td>-999.0</td>\n      <td>1.626459</td>\n      <td>1.800733</td>\n      <td>1.896523</td>\n      <td>74.821999</td>\n      <td>...</td>\n      <td>24.202299</td>\n      <td>0.322946</td>\n      <td>0.139258</td>\n      <td>0.429855</td>\n      <td>-0.006729</td>\n      <td>4.440887</td>\n      <td>0.152</td>\n      <td>-0.290077</td>\n      <td>6</td>\n      <td>68</td>\n    </tr>\n    <tr>\n      <th>3</th>\n      <td>494.984</td>\n      <td>437641.96875</td>\n      <td>6470972.5</td>\n      <td>-469.957794</td>\n      <td>19.459282</td>\n      <td>-999.0</td>\n      <td>1.621594</td>\n      <td>1.801517</td>\n      <td>1.891913</td>\n      <td>72.878922</td>\n      <td>...</td>\n      <td>24.400797</td>\n      <td>0.319919</td>\n      <td>0.135315</td>\n      <td>0.024185</td>\n      <td>0.004610</td>\n      <td>1.943077</td>\n      <td>0.152</td>\n      <td>0.198498</td>\n      <td>6</td>\n      <td>68</td>\n    </tr>\n    <tr>\n      <th>4</th>\n      <td>495.136</td>\n      <td>437641.96875</td>\n      <td>6470972.5</td>\n      <td>-470.109772</td>\n      <td>19.453100</td>\n      <td>-999.0</td>\n      <td>1.602679</td>\n      <td>1.795299</td>\n      <td>1.880034</td>\n      <td>71.729141</td>\n      <td>...</td>\n      <td>24.916765</td>\n      <td>0.312121</td>\n      <td>0.132982</td>\n      <td>0.021088</td>\n      <td>0.011879</td>\n      <td>1.149780</td>\n      <td>0.152</td>\n      <td>0.515968</td>\n      <td>6</td>\n      <td>68</td>\n    </tr>\n  </tbody>\n</table>\n<p>5 rows × 31 columns</p>\n</div>"
     },
     "metadata": {},
     "execution_count": 5
    }
   ],
   "source": [
    "df_train = pd.read_csv('lithology.csv', sep=';')\n",
    "df_train.head()"
   ]
  },
  {
   "source": [
    "## 2. Exploratory Data Analisys"
   ],
   "cell_type": "markdown",
   "metadata": {}
  },
  {
   "cell_type": "code",
   "execution_count": 6,
   "metadata": {},
   "outputs": [
    {
     "output_type": "execute_result",
     "data": {
      "text/plain": [
       "Index(['DEPTH_MD', 'X_LOC', 'Y_LOC', 'Z_LOC', 'CALI', 'RSHA', 'RMED', 'RDEP',\n",
       "       'RHOB', 'GR', 'NPHI', 'PEF', 'DTC', 'SP', 'BS', 'ROP', 'DCAL', 'DRHO',\n",
       "       'MUDWEIGHT', 'RMIC', 'FORCE_2020_LITHOFACIES_LITHOLOGY', 'Carbon_Index',\n",
       "       'Normalized_RHOB', 'Normalized_GR', 'Delta_DTC', 'Delta_RHOB',\n",
       "       'Delta_GR', 'Delta_DEPTH_MD', 'Delta_Carbon_Index', 'GROUP_encoded',\n",
       "       'FORMATION_encoded'],\n",
       "      dtype='object')"
      ]
     },
     "metadata": {},
     "execution_count": 6
    }
   ],
   "source": [
    "df_train.columns"
   ]
  },
  {
   "cell_type": "code",
   "execution_count": 7,
   "metadata": {},
   "outputs": [
    {
     "output_type": "execute_result",
     "data": {
      "text/plain": [
       "65000.0    720803\n",
       "30000.0    168937\n",
       "65030.0    150455\n",
       "70000.0     56320\n",
       "80000.0     33329\n",
       "99000.0     15245\n",
       "70032.0     10513\n",
       "88000.0      8213\n",
       "90000.0      3820\n",
       "74000.0      1688\n",
       "86000.0      1085\n",
       "93000.0       103\n",
       "Name: FORCE_2020_LITHOFACIES_LITHOLOGY, dtype: int64"
      ]
     },
     "metadata": {},
     "execution_count": 7
    }
   ],
   "source": [
    "df_train.FORCE_2020_LITHOFACIES_LITHOLOGY.value_counts()"
   ]
  },
  {
   "cell_type": "code",
   "execution_count": 8,
   "metadata": {},
   "outputs": [
    {
     "output_type": "execute_result",
     "data": {
      "text/plain": [
       "   DEPTH_MD         X_LOC      Y_LOC       Z_LOC       CALI   RSHA      RMED  \\\n",
       "0   494.528  437641.96875  6470972.5 -469.501831  19.480835 -999.0  1.611410   \n",
       "1   494.680  437641.96875  6470972.5 -469.653809  19.468800 -999.0  1.618070   \n",
       "2   494.832  437641.96875  6470972.5 -469.805786  19.468800 -999.0  1.626459   \n",
       "3   494.984  437641.96875  6470972.5 -469.957794  19.459282 -999.0  1.621594   \n",
       "4   495.136  437641.96875  6470972.5 -470.109772  19.453100 -999.0  1.602679   \n",
       "\n",
       "       RDEP      RHOB         GR  ...  Normalized_RHOB  Normalized_GR  \\\n",
       "0  1.798681  1.884186  80.200851  ...         0.314847       0.150172   \n",
       "1  1.795641  1.889794  79.262886  ...         0.318528       0.148269   \n",
       "2  1.800733  1.896523  74.821999  ...         0.322946       0.139258   \n",
       "3  1.801517  1.891913  72.878922  ...         0.319919       0.135315   \n",
       "4  1.795299  1.880034  71.729141  ...         0.312121       0.132982   \n",
       "\n",
       "   Delta_DTC  Delta_RHOB  Delta_GR  Delta_DEPTH_MD  Delta_Carbon_Index  \\\n",
       "0  -0.000000   -0.000000 -0.000000           0.000            0.000000   \n",
       "1   0.527710   -0.005608  0.937965           0.152           -0.243315   \n",
       "2   0.429855   -0.006729  4.440887           0.152           -0.290077   \n",
       "3   0.024185    0.004610  1.943077           0.152            0.198498   \n",
       "4   0.021088    0.011879  1.149780           0.152            0.515968   \n",
       "\n",
       "   GROUP_encoded  FORMATION_encoded  FORCE_2020_LITHOFACIES_LITHOLOGY_CAT  \n",
       "0              6                 68                                 Shale  \n",
       "1              6                 68                                 Shale  \n",
       "2              6                 68                                 Shale  \n",
       "3              6                 68                                 Shale  \n",
       "4              6                 68                                 Shale  \n",
       "\n",
       "[5 rows x 32 columns]"
      ],
      "text/html": "<div>\n<style scoped>\n    .dataframe tbody tr th:only-of-type {\n        vertical-align: middle;\n    }\n\n    .dataframe tbody tr th {\n        vertical-align: top;\n    }\n\n    .dataframe thead th {\n        text-align: right;\n    }\n</style>\n<table border=\"1\" class=\"dataframe\">\n  <thead>\n    <tr style=\"text-align: right;\">\n      <th></th>\n      <th>DEPTH_MD</th>\n      <th>X_LOC</th>\n      <th>Y_LOC</th>\n      <th>Z_LOC</th>\n      <th>CALI</th>\n      <th>RSHA</th>\n      <th>RMED</th>\n      <th>RDEP</th>\n      <th>RHOB</th>\n      <th>GR</th>\n      <th>...</th>\n      <th>Normalized_RHOB</th>\n      <th>Normalized_GR</th>\n      <th>Delta_DTC</th>\n      <th>Delta_RHOB</th>\n      <th>Delta_GR</th>\n      <th>Delta_DEPTH_MD</th>\n      <th>Delta_Carbon_Index</th>\n      <th>GROUP_encoded</th>\n      <th>FORMATION_encoded</th>\n      <th>FORCE_2020_LITHOFACIES_LITHOLOGY_CAT</th>\n    </tr>\n  </thead>\n  <tbody>\n    <tr>\n      <th>0</th>\n      <td>494.528</td>\n      <td>437641.96875</td>\n      <td>6470972.5</td>\n      <td>-469.501831</td>\n      <td>19.480835</td>\n      <td>-999.0</td>\n      <td>1.611410</td>\n      <td>1.798681</td>\n      <td>1.884186</td>\n      <td>80.200851</td>\n      <td>...</td>\n      <td>0.314847</td>\n      <td>0.150172</td>\n      <td>-0.000000</td>\n      <td>-0.000000</td>\n      <td>-0.000000</td>\n      <td>0.000</td>\n      <td>0.000000</td>\n      <td>6</td>\n      <td>68</td>\n      <td>Shale</td>\n    </tr>\n    <tr>\n      <th>1</th>\n      <td>494.680</td>\n      <td>437641.96875</td>\n      <td>6470972.5</td>\n      <td>-469.653809</td>\n      <td>19.468800</td>\n      <td>-999.0</td>\n      <td>1.618070</td>\n      <td>1.795641</td>\n      <td>1.889794</td>\n      <td>79.262886</td>\n      <td>...</td>\n      <td>0.318528</td>\n      <td>0.148269</td>\n      <td>0.527710</td>\n      <td>-0.005608</td>\n      <td>0.937965</td>\n      <td>0.152</td>\n      <td>-0.243315</td>\n      <td>6</td>\n      <td>68</td>\n      <td>Shale</td>\n    </tr>\n    <tr>\n      <th>2</th>\n      <td>494.832</td>\n      <td>437641.96875</td>\n      <td>6470972.5</td>\n      <td>-469.805786</td>\n      <td>19.468800</td>\n      <td>-999.0</td>\n      <td>1.626459</td>\n      <td>1.800733</td>\n      <td>1.896523</td>\n      <td>74.821999</td>\n      <td>...</td>\n      <td>0.322946</td>\n      <td>0.139258</td>\n      <td>0.429855</td>\n      <td>-0.006729</td>\n      <td>4.440887</td>\n      <td>0.152</td>\n      <td>-0.290077</td>\n      <td>6</td>\n      <td>68</td>\n      <td>Shale</td>\n    </tr>\n    <tr>\n      <th>3</th>\n      <td>494.984</td>\n      <td>437641.96875</td>\n      <td>6470972.5</td>\n      <td>-469.957794</td>\n      <td>19.459282</td>\n      <td>-999.0</td>\n      <td>1.621594</td>\n      <td>1.801517</td>\n      <td>1.891913</td>\n      <td>72.878922</td>\n      <td>...</td>\n      <td>0.319919</td>\n      <td>0.135315</td>\n      <td>0.024185</td>\n      <td>0.004610</td>\n      <td>1.943077</td>\n      <td>0.152</td>\n      <td>0.198498</td>\n      <td>6</td>\n      <td>68</td>\n      <td>Shale</td>\n    </tr>\n    <tr>\n      <th>4</th>\n      <td>495.136</td>\n      <td>437641.96875</td>\n      <td>6470972.5</td>\n      <td>-470.109772</td>\n      <td>19.453100</td>\n      <td>-999.0</td>\n      <td>1.602679</td>\n      <td>1.795299</td>\n      <td>1.880034</td>\n      <td>71.729141</td>\n      <td>...</td>\n      <td>0.312121</td>\n      <td>0.132982</td>\n      <td>0.021088</td>\n      <td>0.011879</td>\n      <td>1.149780</td>\n      <td>0.152</td>\n      <td>0.515968</td>\n      <td>6</td>\n      <td>68</td>\n      <td>Shale</td>\n    </tr>\n  </tbody>\n</table>\n<p>5 rows × 32 columns</p>\n</div>"
     },
     "metadata": {},
     "execution_count": 8
    }
   ],
   "source": [
    "def lithology_number_to_name(x):\n",
    "    if x == 30000.0:\n",
    "        return 'Sandstone'\n",
    "    elif x == 65030.0:\n",
    "        return 'Sandstone/Shale'\n",
    "    elif x == 65000.0:\n",
    "        return 'Shale'\n",
    "    elif x == 80000.0:\n",
    "        return 'Marl'\n",
    "    elif x == 74000.0:\n",
    "        return 'Dolomite'\n",
    "    elif x == 70000.0:\n",
    "        return 'Limestone'\n",
    "    elif x == 70032.0:\n",
    "        return 'Chalk'\n",
    "    elif x == 88000.0:\n",
    "        return 'Halite'\n",
    "    elif x == 86000.0:\n",
    "        return 'Anhydrite'\n",
    "    elif x == 99000.0:\n",
    "        return 'Tuff'\n",
    "    elif x == 90000.0:\n",
    "        return 'Coal'\n",
    "    elif x == 93000.0:\n",
    "        return 'Basement'\n",
    "    else: raise ValueError('Category Not Found')\n",
    "\n",
    "df_train = df_train.assign(FORCE_2020_LITHOFACIES_LITHOLOGY_CAT = df_train.FORCE_2020_LITHOFACIES_LITHOLOGY.apply(lambda x: lithology_number_to_name(x)))\n",
    "\n",
    "df_train.head()"
   ]
  },
  {
   "cell_type": "code",
   "execution_count": 9,
   "metadata": {},
   "outputs": [
    {
     "output_type": "execute_result",
     "data": {
      "text/plain": [
       "           DEPTH_MD         X_LOC         Y_LOC         Z_LOC          CALI  \\\n",
       "count  1.170511e+06  1.170511e+06  1.170511e+06  1.170511e+06  1.170511e+06   \n",
       "mean   2.184087e+03  4.856292e+05  6.679845e+06 -2.128037e+03 -6.280493e+01   \n",
       "std    9.971821e+02  3.445166e+04  1.290797e+05  9.725712e+02  2.667498e+02   \n",
       "min    1.360860e+02  4.268988e+05  6.406641e+06 -5.395563e+03 -9.990000e+02   \n",
       "25%    1.418597e+03  4.548018e+05  6.591140e+06 -2.804552e+03  8.874150e+00   \n",
       "50%    2.076605e+03  4.769078e+05  6.732205e+06 -2.030516e+03  1.242991e+01   \n",
       "75%    2.864393e+03  5.201532e+05  6.784878e+06 -1.373344e+03  1.574931e+01   \n",
       "max    5.436632e+03  5.726328e+05  6.856661e+06 -1.110860e+02  2.827900e+01   \n",
       "\n",
       "               RSHA          RMED          RDEP          RHOB            GR  \\\n",
       "count  1.170511e+06  1.170511e+06  1.170511e+06  1.170511e+06  1.170511e+06   \n",
       "mean  -4.549949e+02 -2.845864e+01  1.189409e+00 -1.356686e+02  7.091370e+01   \n",
       "std    5.087190e+02  1.880157e+02  1.495506e+02  3.451085e+02  3.423149e+01   \n",
       "min   -9.990000e+02 -9.990000e+02 -9.990000e+02 -9.990000e+02  1.092843e-01   \n",
       "25%   -9.990000e+02  8.711777e-01  8.963877e-01  2.000454e+00  4.762722e+01   \n",
       "50%    5.516068e-01  1.400712e+00  1.428157e+00  2.243782e+00  6.836763e+01   \n",
       "75%    1.510922e+00  2.587100e+00  2.537876e+00  2.462978e+00  8.903551e+01   \n",
       "max    2.193905e+03  1.988616e+03  1.999887e+03  3.457820e+00  1.076964e+03   \n",
       "\n",
       "               NPHI           PEF  \n",
       "count  1.170511e+06  1.170511e+06  \n",
       "mean  -3.455267e+02 -4.221022e+02  \n",
       "std    4.754047e+02  4.972170e+02  \n",
       "min   -9.990000e+02 -9.990000e+02  \n",
       "25%   -9.990000e+02 -9.990000e+02  \n",
       "50%    2.352654e-01  2.899809e+00  \n",
       "75%    3.653732e-01  4.619021e+00  \n",
       "max    9.995703e-01  3.831300e+02  "
      ],
      "text/html": "<div>\n<style scoped>\n    .dataframe tbody tr th:only-of-type {\n        vertical-align: middle;\n    }\n\n    .dataframe tbody tr th {\n        vertical-align: top;\n    }\n\n    .dataframe thead th {\n        text-align: right;\n    }\n</style>\n<table border=\"1\" class=\"dataframe\">\n  <thead>\n    <tr style=\"text-align: right;\">\n      <th></th>\n      <th>DEPTH_MD</th>\n      <th>X_LOC</th>\n      <th>Y_LOC</th>\n      <th>Z_LOC</th>\n      <th>CALI</th>\n      <th>RSHA</th>\n      <th>RMED</th>\n      <th>RDEP</th>\n      <th>RHOB</th>\n      <th>GR</th>\n      <th>NPHI</th>\n      <th>PEF</th>\n    </tr>\n  </thead>\n  <tbody>\n    <tr>\n      <th>count</th>\n      <td>1.170511e+06</td>\n      <td>1.170511e+06</td>\n      <td>1.170511e+06</td>\n      <td>1.170511e+06</td>\n      <td>1.170511e+06</td>\n      <td>1.170511e+06</td>\n      <td>1.170511e+06</td>\n      <td>1.170511e+06</td>\n      <td>1.170511e+06</td>\n      <td>1.170511e+06</td>\n      <td>1.170511e+06</td>\n      <td>1.170511e+06</td>\n    </tr>\n    <tr>\n      <th>mean</th>\n      <td>2.184087e+03</td>\n      <td>4.856292e+05</td>\n      <td>6.679845e+06</td>\n      <td>-2.128037e+03</td>\n      <td>-6.280493e+01</td>\n      <td>-4.549949e+02</td>\n      <td>-2.845864e+01</td>\n      <td>1.189409e+00</td>\n      <td>-1.356686e+02</td>\n      <td>7.091370e+01</td>\n      <td>-3.455267e+02</td>\n      <td>-4.221022e+02</td>\n    </tr>\n    <tr>\n      <th>std</th>\n      <td>9.971821e+02</td>\n      <td>3.445166e+04</td>\n      <td>1.290797e+05</td>\n      <td>9.725712e+02</td>\n      <td>2.667498e+02</td>\n      <td>5.087190e+02</td>\n      <td>1.880157e+02</td>\n      <td>1.495506e+02</td>\n      <td>3.451085e+02</td>\n      <td>3.423149e+01</td>\n      <td>4.754047e+02</td>\n      <td>4.972170e+02</td>\n    </tr>\n    <tr>\n      <th>min</th>\n      <td>1.360860e+02</td>\n      <td>4.268988e+05</td>\n      <td>6.406641e+06</td>\n      <td>-5.395563e+03</td>\n      <td>-9.990000e+02</td>\n      <td>-9.990000e+02</td>\n      <td>-9.990000e+02</td>\n      <td>-9.990000e+02</td>\n      <td>-9.990000e+02</td>\n      <td>1.092843e-01</td>\n      <td>-9.990000e+02</td>\n      <td>-9.990000e+02</td>\n    </tr>\n    <tr>\n      <th>25%</th>\n      <td>1.418597e+03</td>\n      <td>4.548018e+05</td>\n      <td>6.591140e+06</td>\n      <td>-2.804552e+03</td>\n      <td>8.874150e+00</td>\n      <td>-9.990000e+02</td>\n      <td>8.711777e-01</td>\n      <td>8.963877e-01</td>\n      <td>2.000454e+00</td>\n      <td>4.762722e+01</td>\n      <td>-9.990000e+02</td>\n      <td>-9.990000e+02</td>\n    </tr>\n    <tr>\n      <th>50%</th>\n      <td>2.076605e+03</td>\n      <td>4.769078e+05</td>\n      <td>6.732205e+06</td>\n      <td>-2.030516e+03</td>\n      <td>1.242991e+01</td>\n      <td>5.516068e-01</td>\n      <td>1.400712e+00</td>\n      <td>1.428157e+00</td>\n      <td>2.243782e+00</td>\n      <td>6.836763e+01</td>\n      <td>2.352654e-01</td>\n      <td>2.899809e+00</td>\n    </tr>\n    <tr>\n      <th>75%</th>\n      <td>2.864393e+03</td>\n      <td>5.201532e+05</td>\n      <td>6.784878e+06</td>\n      <td>-1.373344e+03</td>\n      <td>1.574931e+01</td>\n      <td>1.510922e+00</td>\n      <td>2.587100e+00</td>\n      <td>2.537876e+00</td>\n      <td>2.462978e+00</td>\n      <td>8.903551e+01</td>\n      <td>3.653732e-01</td>\n      <td>4.619021e+00</td>\n    </tr>\n    <tr>\n      <th>max</th>\n      <td>5.436632e+03</td>\n      <td>5.726328e+05</td>\n      <td>6.856661e+06</td>\n      <td>-1.110860e+02</td>\n      <td>2.827900e+01</td>\n      <td>2.193905e+03</td>\n      <td>1.988616e+03</td>\n      <td>1.999887e+03</td>\n      <td>3.457820e+00</td>\n      <td>1.076964e+03</td>\n      <td>9.995703e-01</td>\n      <td>3.831300e+02</td>\n    </tr>\n  </tbody>\n</table>\n</div>"
     },
     "metadata": {},
     "execution_count": 9
    }
   ],
   "source": [
    "df_train[['DEPTH_MD', 'X_LOC', 'Y_LOC', 'Z_LOC', 'CALI', 'RSHA', 'RMED', 'RDEP',\n",
    "       'RHOB', 'GR', 'NPHI', 'PEF']].describe()"
   ]
  },
  {
   "cell_type": "code",
   "execution_count": 10,
   "metadata": {},
   "outputs": [
    {
     "output_type": "execute_result",
     "data": {
      "text/plain": [
       "                DTC            SP            BS           ROP          DCAL  \\\n",
       "count  1.170511e+06  1.170511e+06  1.170511e+06  1.170511e+06  1.170511e+06   \n",
       "mean   7.842011e+01 -2.171530e+02  1.187501e+01 -4.795367e+02 -8.728321e+01   \n",
       "std    2.045332e+02  4.701992e+02  3.052529e+00  1.184783e+03  2.841910e+02   \n",
       "min   -9.990000e+02 -9.990000e+02  6.000000e+00 -9.990000e+02 -9.990000e+02   \n",
       "25%    8.526329e+01 -9.990000e+02  8.500000e+00 -9.990000e+02 -5.335999e-02   \n",
       "50%    1.069366e+02  4.044000e+01  1.225000e+01 -9.990000e+02  3.736696e-01   \n",
       "75%    1.401350e+02  7.039606e+01  1.225000e+01  1.502688e+01  1.693081e+00   \n",
       "max    1.555313e+03  5.265473e+02  2.600000e+01  4.701512e+04  7.999847e+00   \n",
       "\n",
       "               DRHO     MUDWEIGHT          RMIC  Carbon_Index  \\\n",
       "count  1.170511e+06  1.170511e+06  1.170511e+06  1.170511e+06   \n",
       "mean  -1.612117e+02 -7.288450e+02 -8.474787e+02 -1.279143e+02   \n",
       "std    3.675140e+02  4.441372e+02  3.616692e+02  3.482977e+02   \n",
       "min   -9.990000e+02 -9.990000e+02 -9.990000e+02 -9.990000e+02   \n",
       "25%   -2.112656e-02 -9.990000e+02 -9.990000e+02  2.852751e+00   \n",
       "50%   -2.317054e-03 -9.990000e+02 -9.990000e+02  7.653391e+00   \n",
       "75%    1.489764e-02  1.330073e-01 -9.990000e+02  1.550824e+01   \n",
       "max    1.467912e+00  1.857309e+02  1.000000e+04  1.570291e+02   \n",
       "\n",
       "       Normalized_RHOB  Normalized_GR     Delta_DTC    Delta_RHOB  \\\n",
       "count     1.170511e+06   1.170511e+06  1.170511e+06  1.170511e+06   \n",
       "mean     -1.371562e+02   2.641028e-01 -3.303349e+01 -1.377378e+02   \n",
       "std       3.445138e+02   1.806016e-01  1.786926e+02  3.444248e+02   \n",
       "min      -9.990000e+02   0.000000e+00 -9.990000e+02 -9.990000e+02   \n",
       "25%       3.509227e-01   1.209661e-01 -7.185020e-01 -1.644254e-02   \n",
       "50%       5.256773e-01   2.238263e-01 -1.633453e-02 -2.060652e-03   \n",
       "75%       6.792460e-01   3.778281e-01  5.912170e-01  5.912662e-03   \n",
       "max       1.000000e+00   1.000000e+00  7.596500e+02  1.120613e+00   \n",
       "\n",
       "           Delta_GR  Delta_DEPTH_MD  Delta_Carbon_Index  GROUP_encoded  \\\n",
       "count  1.170511e+06    1.170511e+06        1.170511e+06   1.170511e+06   \n",
       "mean  -7.344170e-04    1.530734e-01       -1.377387e+02   6.627583e+00   \n",
       "std    3.516985e+00    3.212288e-01        3.444257e+02   3.125934e+00   \n",
       "min   -2.685117e+02    0.000000e+00       -9.990000e+02   0.000000e+00   \n",
       "25%   -1.380630e+00    1.520000e-01       -5.005838e-01   5.000000e+00   \n",
       "50%   -1.548767e-03    1.520000e-01       -6.042549e-02   6.000000e+00   \n",
       "75%    1.371843e+00    1.520000e-01        1.740417e-01   9.000000e+00   \n",
       "max    2.665444e+02    2.693440e+02        1.107053e+02   1.300000e+01   \n",
       "\n",
       "       FORMATION_encoded  \n",
       "count       1.170511e+06  \n",
       "mean        4.129572e+01  \n",
       "std         2.282790e+01  \n",
       "min        -1.000000e+00  \n",
       "25%         2.400000e+01  \n",
       "50%         3.900000e+01  \n",
       "75%         6.600000e+01  \n",
       "max         6.900000e+01  "
      ],
      "text/html": "<div>\n<style scoped>\n    .dataframe tbody tr th:only-of-type {\n        vertical-align: middle;\n    }\n\n    .dataframe tbody tr th {\n        vertical-align: top;\n    }\n\n    .dataframe thead th {\n        text-align: right;\n    }\n</style>\n<table border=\"1\" class=\"dataframe\">\n  <thead>\n    <tr style=\"text-align: right;\">\n      <th></th>\n      <th>DTC</th>\n      <th>SP</th>\n      <th>BS</th>\n      <th>ROP</th>\n      <th>DCAL</th>\n      <th>DRHO</th>\n      <th>MUDWEIGHT</th>\n      <th>RMIC</th>\n      <th>Carbon_Index</th>\n      <th>Normalized_RHOB</th>\n      <th>Normalized_GR</th>\n      <th>Delta_DTC</th>\n      <th>Delta_RHOB</th>\n      <th>Delta_GR</th>\n      <th>Delta_DEPTH_MD</th>\n      <th>Delta_Carbon_Index</th>\n      <th>GROUP_encoded</th>\n      <th>FORMATION_encoded</th>\n    </tr>\n  </thead>\n  <tbody>\n    <tr>\n      <th>count</th>\n      <td>1.170511e+06</td>\n      <td>1.170511e+06</td>\n      <td>1.170511e+06</td>\n      <td>1.170511e+06</td>\n      <td>1.170511e+06</td>\n      <td>1.170511e+06</td>\n      <td>1.170511e+06</td>\n      <td>1.170511e+06</td>\n      <td>1.170511e+06</td>\n      <td>1.170511e+06</td>\n      <td>1.170511e+06</td>\n      <td>1.170511e+06</td>\n      <td>1.170511e+06</td>\n      <td>1.170511e+06</td>\n      <td>1.170511e+06</td>\n      <td>1.170511e+06</td>\n      <td>1.170511e+06</td>\n      <td>1.170511e+06</td>\n    </tr>\n    <tr>\n      <th>mean</th>\n      <td>7.842011e+01</td>\n      <td>-2.171530e+02</td>\n      <td>1.187501e+01</td>\n      <td>-4.795367e+02</td>\n      <td>-8.728321e+01</td>\n      <td>-1.612117e+02</td>\n      <td>-7.288450e+02</td>\n      <td>-8.474787e+02</td>\n      <td>-1.279143e+02</td>\n      <td>-1.371562e+02</td>\n      <td>2.641028e-01</td>\n      <td>-3.303349e+01</td>\n      <td>-1.377378e+02</td>\n      <td>-7.344170e-04</td>\n      <td>1.530734e-01</td>\n      <td>-1.377387e+02</td>\n      <td>6.627583e+00</td>\n      <td>4.129572e+01</td>\n    </tr>\n    <tr>\n      <th>std</th>\n      <td>2.045332e+02</td>\n      <td>4.701992e+02</td>\n      <td>3.052529e+00</td>\n      <td>1.184783e+03</td>\n      <td>2.841910e+02</td>\n      <td>3.675140e+02</td>\n      <td>4.441372e+02</td>\n      <td>3.616692e+02</td>\n      <td>3.482977e+02</td>\n      <td>3.445138e+02</td>\n      <td>1.806016e-01</td>\n      <td>1.786926e+02</td>\n      <td>3.444248e+02</td>\n      <td>3.516985e+00</td>\n      <td>3.212288e-01</td>\n      <td>3.444257e+02</td>\n      <td>3.125934e+00</td>\n      <td>2.282790e+01</td>\n    </tr>\n    <tr>\n      <th>min</th>\n      <td>-9.990000e+02</td>\n      <td>-9.990000e+02</td>\n      <td>6.000000e+00</td>\n      <td>-9.990000e+02</td>\n      <td>-9.990000e+02</td>\n      <td>-9.990000e+02</td>\n      <td>-9.990000e+02</td>\n      <td>-9.990000e+02</td>\n      <td>-9.990000e+02</td>\n      <td>-9.990000e+02</td>\n      <td>0.000000e+00</td>\n      <td>-9.990000e+02</td>\n      <td>-9.990000e+02</td>\n      <td>-2.685117e+02</td>\n      <td>0.000000e+00</td>\n      <td>-9.990000e+02</td>\n      <td>0.000000e+00</td>\n      <td>-1.000000e+00</td>\n    </tr>\n    <tr>\n      <th>25%</th>\n      <td>8.526329e+01</td>\n      <td>-9.990000e+02</td>\n      <td>8.500000e+00</td>\n      <td>-9.990000e+02</td>\n      <td>-5.335999e-02</td>\n      <td>-2.112656e-02</td>\n      <td>-9.990000e+02</td>\n      <td>-9.990000e+02</td>\n      <td>2.852751e+00</td>\n      <td>3.509227e-01</td>\n      <td>1.209661e-01</td>\n      <td>-7.185020e-01</td>\n      <td>-1.644254e-02</td>\n      <td>-1.380630e+00</td>\n      <td>1.520000e-01</td>\n      <td>-5.005838e-01</td>\n      <td>5.000000e+00</td>\n      <td>2.400000e+01</td>\n    </tr>\n    <tr>\n      <th>50%</th>\n      <td>1.069366e+02</td>\n      <td>4.044000e+01</td>\n      <td>1.225000e+01</td>\n      <td>-9.990000e+02</td>\n      <td>3.736696e-01</td>\n      <td>-2.317054e-03</td>\n      <td>-9.990000e+02</td>\n      <td>-9.990000e+02</td>\n      <td>7.653391e+00</td>\n      <td>5.256773e-01</td>\n      <td>2.238263e-01</td>\n      <td>-1.633453e-02</td>\n      <td>-2.060652e-03</td>\n      <td>-1.548767e-03</td>\n      <td>1.520000e-01</td>\n      <td>-6.042549e-02</td>\n      <td>6.000000e+00</td>\n      <td>3.900000e+01</td>\n    </tr>\n    <tr>\n      <th>75%</th>\n      <td>1.401350e+02</td>\n      <td>7.039606e+01</td>\n      <td>1.225000e+01</td>\n      <td>1.502688e+01</td>\n      <td>1.693081e+00</td>\n      <td>1.489764e-02</td>\n      <td>1.330073e-01</td>\n      <td>-9.990000e+02</td>\n      <td>1.550824e+01</td>\n      <td>6.792460e-01</td>\n      <td>3.778281e-01</td>\n      <td>5.912170e-01</td>\n      <td>5.912662e-03</td>\n      <td>1.371843e+00</td>\n      <td>1.520000e-01</td>\n      <td>1.740417e-01</td>\n      <td>9.000000e+00</td>\n      <td>6.600000e+01</td>\n    </tr>\n    <tr>\n      <th>max</th>\n      <td>1.555313e+03</td>\n      <td>5.265473e+02</td>\n      <td>2.600000e+01</td>\n      <td>4.701512e+04</td>\n      <td>7.999847e+00</td>\n      <td>1.467912e+00</td>\n      <td>1.857309e+02</td>\n      <td>1.000000e+04</td>\n      <td>1.570291e+02</td>\n      <td>1.000000e+00</td>\n      <td>1.000000e+00</td>\n      <td>7.596500e+02</td>\n      <td>1.120613e+00</td>\n      <td>2.665444e+02</td>\n      <td>2.693440e+02</td>\n      <td>1.107053e+02</td>\n      <td>1.300000e+01</td>\n      <td>6.900000e+01</td>\n    </tr>\n  </tbody>\n</table>\n</div>"
     },
     "metadata": {},
     "execution_count": 10
    }
   ],
   "source": [
    "df_train[['DTC', 'SP', 'BS', 'ROP', 'DCAL', 'DRHO',\n",
    "       'MUDWEIGHT', 'RMIC', 'Carbon_Index',\n",
    "       'Normalized_RHOB', 'Normalized_GR', 'Delta_DTC', 'Delta_RHOB',\n",
    "       'Delta_GR', 'Delta_DEPTH_MD', 'Delta_Carbon_Index', 'GROUP_encoded',\n",
    "       'FORMATION_encoded']].describe()"
   ]
  },
  {
   "cell_type": "code",
   "execution_count": 11,
   "metadata": {},
   "outputs": [
    {
     "output_type": "execute_result",
     "data": {
      "text/plain": [
       "FORCE_2020_LITHOFACIES_LITHOLOGY_CAT\n",
       "Anhydrite          AxesSubplot(0.125,0.125;0.775x0.755)\n",
       "Basement           AxesSubplot(0.125,0.125;0.775x0.755)\n",
       "Chalk              AxesSubplot(0.125,0.125;0.775x0.755)\n",
       "Coal               AxesSubplot(0.125,0.125;0.775x0.755)\n",
       "Dolomite           AxesSubplot(0.125,0.125;0.775x0.755)\n",
       "Halite             AxesSubplot(0.125,0.125;0.775x0.755)\n",
       "Limestone          AxesSubplot(0.125,0.125;0.775x0.755)\n",
       "Marl               AxesSubplot(0.125,0.125;0.775x0.755)\n",
       "Sandstone          AxesSubplot(0.125,0.125;0.775x0.755)\n",
       "Sandstone/Shale    AxesSubplot(0.125,0.125;0.775x0.755)\n",
       "Shale              AxesSubplot(0.125,0.125;0.775x0.755)\n",
       "Tuff               AxesSubplot(0.125,0.125;0.775x0.755)\n",
       "Name: DEPTH_MD, dtype: object"
      ]
     },
     "metadata": {},
     "execution_count": 11
    },
    {
     "output_type": "display_data",
     "data": {
      "text/plain": "<Figure size 432x288 with 1 Axes>",
      "image/svg+xml": "<?xml version=\"1.0\" encoding=\"utf-8\" standalone=\"no\"?>\n<!DOCTYPE svg PUBLIC \"-//W3C//DTD SVG 1.1//EN\"\n  \"http://www.w3.org/Graphics/SVG/1.1/DTD/svg11.dtd\">\n<svg height=\"248.518125pt\" version=\"1.1\" viewBox=\"0 0 408.053125 248.518125\" width=\"408.053125pt\" xmlns=\"http://www.w3.org/2000/svg\" xmlns:xlink=\"http://www.w3.org/1999/xlink\">\n <metadata>\n  <rdf:RDF xmlns:cc=\"http://creativecommons.org/ns#\" xmlns:dc=\"http://purl.org/dc/elements/1.1/\" xmlns:rdf=\"http://www.w3.org/1999/02/22-rdf-syntax-ns#\">\n   <cc:Work>\n    <dc:type rdf:resource=\"http://purl.org/dc/dcmitype/StillImage\"/>\n    <dc:date>2021-05-17T00:03:25.914939</dc:date>\n    <dc:format>image/svg+xml</dc:format>\n    <dc:creator>\n     <cc:Agent>\n      <dc:title>Matplotlib v3.4.1, https://matplotlib.org/</dc:title>\n     </cc:Agent>\n    </dc:creator>\n   </cc:Work>\n  </rdf:RDF>\n </metadata>\n <defs>\n  <style type=\"text/css\">*{stroke-linecap:butt;stroke-linejoin:round;}</style>\n </defs>\n <g id=\"figure_1\">\n  <g id=\"patch_1\">\n   <path d=\"M 0 248.518125 \nL 408.053125 248.518125 \nL 408.053125 0 \nL 0 0 \nz\n\" style=\"fill:none;\"/>\n  </g>\n  <g id=\"axes_1\">\n   <g id=\"patch_2\">\n    <path d=\"M 66.053125 224.64 \nL 400.853125 224.64 \nL 400.853125 7.2 \nL 66.053125 7.2 \nz\n\" style=\"fill:#ffffff;\"/>\n   </g>\n   <g id=\"patch_3\">\n    <path clip-path=\"url(#p37462c6360)\" d=\"M 193.351972 224.64 \nL 200.651035 224.64 \nL 200.651035 224.540493 \nL 193.351972 224.540493 \nz\n\" style=\"fill:#1f77b4;\"/>\n   </g>\n   <g id=\"patch_4\">\n    <path clip-path=\"url(#p37462c6360)\" d=\"M 200.651035 224.64 \nL 207.950098 224.64 \nL 207.950098 224.301915 \nL 200.651035 224.301915 \nz\n\" style=\"fill:#1f77b4;\"/>\n   </g>\n   <g id=\"patch_5\">\n    <path clip-path=\"url(#p37462c6360)\" d=\"M 207.950098 224.64 \nL 215.249161 224.64 \nL 215.249161 224.39303 \nL 207.950098 224.39303 \nz\n\" style=\"fill:#1f77b4;\"/>\n   </g>\n   <g id=\"patch_6\">\n    <path clip-path=\"url(#p37462c6360)\" d=\"M 215.249161 224.64 \nL 222.548224 224.64 \nL 222.548224 224.235976 \nL 215.249161 224.235976 \nz\n\" style=\"fill:#1f77b4;\"/>\n   </g>\n   <g id=\"patch_7\">\n    <path clip-path=\"url(#p37462c6360)\" d=\"M 222.548224 224.64 \nL 229.847287 224.64 \nL 229.847287 224.54289 \nL 222.548224 224.54289 \nz\n\" style=\"fill:#1f77b4;\"/>\n   </g>\n   <g id=\"patch_8\">\n    <path clip-path=\"url(#p37462c6360)\" d=\"M 229.847287 224.64 \nL 237.14635 224.64 \nL 237.14635 224.592045 \nL 229.847287 224.592045 \nz\n\" style=\"fill:#1f77b4;\"/>\n   </g>\n   <g id=\"patch_9\">\n    <path clip-path=\"url(#p37462c6360)\" d=\"M 237.14635 224.64 \nL 244.445413 224.64 \nL 244.445413 224.630409 \nL 237.14635 224.630409 \nz\n\" style=\"fill:#1f77b4;\"/>\n   </g>\n   <g id=\"patch_10\">\n    <path clip-path=\"url(#p37462c6360)\" d=\"M 244.445413 224.64 \nL 251.744476 224.64 \nL 251.744476 224.64 \nL 244.445413 224.64 \nz\n\" style=\"fill:#1f77b4;\"/>\n   </g>\n   <g id=\"patch_11\">\n    <path clip-path=\"url(#p37462c6360)\" d=\"M 251.744476 224.64 \nL 259.043539 224.64 \nL 259.043539 224.608829 \nL 251.744476 224.608829 \nz\n\" style=\"fill:#1f77b4;\"/>\n   </g>\n   <g id=\"patch_12\">\n    <path clip-path=\"url(#p37462c6360)\" d=\"M 259.043539 224.64 \nL 266.342602 224.64 \nL 266.342602 224.613625 \nL 259.043539 224.613625 \nz\n\" style=\"fill:#1f77b4;\"/>\n   </g>\n   <g id=\"patch_13\">\n    <path clip-path=\"url(#p37462c6360)\" d=\"M 239.157265 224.64 \nL 239.246291 224.64 \nL 239.246291 224.626812 \nL 239.157265 224.626812 \nz\n\" style=\"fill:#ff7f0e;\"/>\n   </g>\n   <g id=\"patch_14\">\n    <path clip-path=\"url(#p37462c6360)\" d=\"M 239.246291 224.64 \nL 239.335317 224.64 \nL 239.335317 224.628011 \nL 239.246291 224.628011 \nz\n\" style=\"fill:#ff7f0e;\"/>\n   </g>\n   <g id=\"patch_15\">\n    <path clip-path=\"url(#p37462c6360)\" d=\"M 239.335317 224.64 \nL 239.424343 224.64 \nL 239.424343 224.628011 \nL 239.335317 224.628011 \nz\n\" style=\"fill:#ff7f0e;\"/>\n   </g>\n   <g id=\"patch_16\">\n    <path clip-path=\"url(#p37462c6360)\" d=\"M 239.424343 224.64 \nL 239.513369 224.64 \nL 239.513369 224.628011 \nL 239.424343 224.628011 \nz\n\" style=\"fill:#ff7f0e;\"/>\n   </g>\n   <g id=\"patch_17\">\n    <path clip-path=\"url(#p37462c6360)\" d=\"M 239.513369 224.64 \nL 239.602394 224.64 \nL 239.602394 224.628011 \nL 239.513369 224.628011 \nz\n\" style=\"fill:#ff7f0e;\"/>\n   </g>\n   <g id=\"patch_18\">\n    <path clip-path=\"url(#p37462c6360)\" d=\"M 239.602394 224.64 \nL 239.69142 224.64 \nL 239.69142 224.626812 \nL 239.602394 224.626812 \nz\n\" style=\"fill:#ff7f0e;\"/>\n   </g>\n   <g id=\"patch_19\">\n    <path clip-path=\"url(#p37462c6360)\" d=\"M 239.69142 224.64 \nL 239.780446 224.64 \nL 239.780446 224.628011 \nL 239.69142 224.628011 \nz\n\" style=\"fill:#ff7f0e;\"/>\n   </g>\n   <g id=\"patch_20\">\n    <path clip-path=\"url(#p37462c6360)\" d=\"M 239.780446 224.64 \nL 239.869472 224.64 \nL 239.869472 224.628011 \nL 239.780446 224.628011 \nz\n\" style=\"fill:#ff7f0e;\"/>\n   </g>\n   <g id=\"patch_21\">\n    <path clip-path=\"url(#p37462c6360)\" d=\"M 239.869472 224.64 \nL 239.958498 224.64 \nL 239.958498 224.628011 \nL 239.869472 224.628011 \nz\n\" style=\"fill:#ff7f0e;\"/>\n   </g>\n   <g id=\"patch_22\">\n    <path clip-path=\"url(#p37462c6360)\" d=\"M 239.958498 224.64 \nL 240.047523 224.64 \nL 240.047523 224.626812 \nL 239.958498 224.626812 \nz\n\" style=\"fill:#ff7f0e;\"/>\n   </g>\n   <g id=\"patch_23\">\n    <path clip-path=\"url(#p37462c6360)\" d=\"M 132.036861 224.64 \nL 142.102888 224.64 \nL 142.102888 223.419536 \nL 132.036861 223.419536 \nz\n\" style=\"fill:#2ca02c;\"/>\n   </g>\n   <g id=\"patch_24\">\n    <path clip-path=\"url(#p37462c6360)\" d=\"M 142.102888 224.64 \nL 152.168915 224.64 \nL 152.168915 223.376376 \nL 142.102888 223.376376 \nz\n\" style=\"fill:#2ca02c;\"/>\n   </g>\n   <g id=\"patch_25\">\n    <path clip-path=\"url(#p37462c6360)\" d=\"M 152.168915 224.64 \nL 162.234942 224.64 \nL 162.234942 223.972221 \nL 152.168915 223.972221 \nz\n\" style=\"fill:#2ca02c;\"/>\n   </g>\n   <g id=\"patch_26\">\n    <path clip-path=\"url(#p37462c6360)\" d=\"M 162.234942 224.64 \nL 172.300968 224.64 \nL 172.300968 223.690483 \nL 162.234942 223.690483 \nz\n\" style=\"fill:#2ca02c;\"/>\n   </g>\n   <g id=\"patch_27\">\n    <path clip-path=\"url(#p37462c6360)\" d=\"M 172.300968 224.64 \nL 182.366995 224.64 \nL 182.366995 222.73737 \nL 172.300968 222.73737 \nz\n\" style=\"fill:#2ca02c;\"/>\n   </g>\n   <g id=\"patch_28\">\n    <path clip-path=\"url(#p37462c6360)\" d=\"M 182.366995 224.64 \nL 192.433022 224.64 \nL 192.433022 223.563402 \nL 182.366995 223.563402 \nz\n\" style=\"fill:#2ca02c;\"/>\n   </g>\n   <g id=\"patch_29\">\n    <path clip-path=\"url(#p37462c6360)\" d=\"M 192.433022 224.64 \nL 202.499049 224.64 \nL 202.499049 223.781599 \nL 192.433022 223.781599 \nz\n\" style=\"fill:#2ca02c;\"/>\n   </g>\n   <g id=\"patch_30\">\n    <path clip-path=\"url(#p37462c6360)\" d=\"M 202.499049 224.64 \nL 212.565076 224.64 \nL 212.565076 223.029898 \nL 202.499049 223.029898 \nz\n\" style=\"fill:#2ca02c;\"/>\n   </g>\n   <g id=\"patch_31\">\n    <path clip-path=\"url(#p37462c6360)\" d=\"M 212.565076 224.64 \nL 222.631102 224.64 \nL 222.631102 222.03962 \nL 212.565076 222.03962 \nz\n\" style=\"fill:#2ca02c;\"/>\n   </g>\n   <g id=\"patch_32\">\n    <path clip-path=\"url(#p37462c6360)\" d=\"M 222.631102 224.64 \nL 232.697129 224.64 \nL 232.697129 224.185623 \nL 222.631102 224.185623 \nz\n\" style=\"fill:#2ca02c;\"/>\n   </g>\n   <g id=\"patch_33\">\n    <path clip-path=\"url(#p37462c6360)\" d=\"M 104.974083 224.64 \nL 129.592877 224.64 \nL 129.592877 224.108894 \nL 104.974083 224.108894 \nz\n\" style=\"fill:#d62728;\"/>\n   </g>\n   <g id=\"patch_34\">\n    <path clip-path=\"url(#p37462c6360)\" d=\"M 129.592877 224.64 \nL 154.211671 224.64 \nL 154.211671 224.64 \nL 129.592877 224.64 \nz\n\" style=\"fill:#d62728;\"/>\n   </g>\n   <g id=\"patch_35\">\n    <path clip-path=\"url(#p37462c6360)\" d=\"M 154.211671 224.64 \nL 178.830464 224.64 \nL 178.830464 224.589647 \nL 154.211671 224.589647 \nz\n\" style=\"fill:#d62728;\"/>\n   </g>\n   <g id=\"patch_36\">\n    <path clip-path=\"url(#p37462c6360)\" d=\"M 178.830464 224.64 \nL 203.449258 224.64 \nL 203.449258 224.365455 \nL 178.830464 224.365455 \nz\n\" style=\"fill:#d62728;\"/>\n   </g>\n   <g id=\"patch_37\">\n    <path clip-path=\"url(#p37462c6360)\" d=\"M 203.449258 224.64 \nL 228.068051 224.64 \nL 228.068051 224.086115 \nL 203.449258 224.086115 \nz\n\" style=\"fill:#d62728;\"/>\n   </g>\n   <g id=\"patch_38\">\n    <path clip-path=\"url(#p37462c6360)\" d=\"M 228.068051 224.64 \nL 252.686845 224.64 \nL 252.686845 223.861924 \nL 228.068051 223.861924 \nz\n\" style=\"fill:#d62728;\"/>\n   </g>\n   <g id=\"patch_39\">\n    <path clip-path=\"url(#p37462c6360)\" d=\"M 252.686845 224.64 \nL 277.305639 224.64 \nL 277.305639 223.60776 \nL 252.686845 223.60776 \nz\n\" style=\"fill:#d62728;\"/>\n   </g>\n   <g id=\"patch_40\">\n    <path clip-path=\"url(#p37462c6360)\" d=\"M 277.305639 224.64 \nL 301.924432 224.64 \nL 301.924432 223.992602 \nL 277.305639 223.992602 \nz\n\" style=\"fill:#d62728;\"/>\n   </g>\n   <g id=\"patch_41\">\n    <path clip-path=\"url(#p37462c6360)\" d=\"M 301.924432 224.64 \nL 326.543226 224.64 \nL 326.543226 224.261153 \nL 301.924432 224.261153 \nz\n\" style=\"fill:#d62728;\"/>\n   </g>\n   <g id=\"patch_42\">\n    <path clip-path=\"url(#p37462c6360)\" d=\"M 326.543226 224.64 \nL 351.162019 224.64 \nL 351.162019 224.30671 \nL 326.543226 224.30671 \nz\n\" style=\"fill:#d62728;\"/>\n   </g>\n   <g id=\"patch_43\">\n    <path clip-path=\"url(#p37462c6360)\" d=\"M 118.195827 224.64 \nL 136.260104 224.64 \nL 136.260104 224.608829 \nL 118.195827 224.608829 \nz\n\" style=\"fill:#9467bd;\"/>\n   </g>\n   <g id=\"patch_44\">\n    <path clip-path=\"url(#p37462c6360)\" d=\"M 136.260104 224.64 \nL 154.324381 224.64 \nL 154.324381 224.467361 \nL 136.260104 224.467361 \nz\n\" style=\"fill:#9467bd;\"/>\n   </g>\n   <g id=\"patch_45\">\n    <path clip-path=\"url(#p37462c6360)\" d=\"M 154.324381 224.64 \nL 172.388658 224.64 \nL 172.388658 224.286329 \nL 154.324381 224.286329 \nz\n\" style=\"fill:#9467bd;\"/>\n   </g>\n   <g id=\"patch_46\">\n    <path clip-path=\"url(#p37462c6360)\" d=\"M 172.388658 224.64 \nL 190.452936 224.64 \nL 190.452936 224.268346 \nL 172.388658 224.268346 \nz\n\" style=\"fill:#9467bd;\"/>\n   </g>\n   <g id=\"patch_47\">\n    <path clip-path=\"url(#p37462c6360)\" d=\"M 190.452936 224.64 \nL 208.517213 224.64 \nL 208.517213 224.347472 \nL 190.452936 224.347472 \nz\n\" style=\"fill:#9467bd;\"/>\n   </g>\n   <g id=\"patch_48\">\n    <path clip-path=\"url(#p37462c6360)\" d=\"M 208.517213 224.64 \nL 226.58149 224.64 \nL 226.58149 224.24197 \nL 208.517213 224.24197 \nz\n\" style=\"fill:#9467bd;\"/>\n   </g>\n   <g id=\"patch_49\">\n    <path clip-path=\"url(#p37462c6360)\" d=\"M 226.58149 224.64 \nL 244.645767 224.64 \nL 244.645767 224.430195 \nL 226.58149 224.430195 \nz\n\" style=\"fill:#9467bd;\"/>\n   </g>\n   <g id=\"patch_50\">\n    <path clip-path=\"url(#p37462c6360)\" d=\"M 244.645767 224.64 \nL 262.710044 224.64 \nL 262.710044 224.550084 \nL 244.645767 224.550084 \nz\n\" style=\"fill:#9467bd;\"/>\n   </g>\n   <g id=\"patch_51\">\n    <path clip-path=\"url(#p37462c6360)\" d=\"M 262.710044 224.64 \nL 280.774321 224.64 \nL 280.774321 224.581255 \nL 262.710044 224.581255 \nz\n\" style=\"fill:#9467bd;\"/>\n   </g>\n   <g id=\"patch_52\">\n    <path clip-path=\"url(#p37462c6360)\" d=\"M 280.774321 224.64 \nL 298.838599 224.64 \nL 298.838599 224.594442 \nL 280.774321 224.594442 \nz\n\" style=\"fill:#9467bd;\"/>\n   </g>\n   <g id=\"patch_53\">\n    <path clip-path=\"url(#p37462c6360)\" d=\"M 205.57182 224.64 \nL 210.955997 224.64 \nL 210.955997 223.900288 \nL 205.57182 223.900288 \nz\n\" style=\"fill:#8c564b;\"/>\n   </g>\n   <g id=\"patch_54\">\n    <path clip-path=\"url(#p37462c6360)\" d=\"M 210.955997 224.64 \nL 216.340174 224.64 \nL 216.340174 223.900288 \nL 210.955997 223.900288 \nz\n\" style=\"fill:#8c564b;\"/>\n   </g>\n   <g id=\"patch_55\">\n    <path clip-path=\"url(#p37462c6360)\" d=\"M 216.340174 224.64 \nL 221.724351 224.64 \nL 221.724351 223.531032 \nL 216.340174 223.531032 \nz\n\" style=\"fill:#8c564b;\"/>\n   </g>\n   <g id=\"patch_56\">\n    <path clip-path=\"url(#p37462c6360)\" d=\"M 221.724351 224.64 \nL 227.108528 224.64 \nL 227.108528 223.455502 \nL 221.724351 223.455502 \nz\n\" style=\"fill:#8c564b;\"/>\n   </g>\n   <g id=\"patch_57\">\n    <path clip-path=\"url(#p37462c6360)\" d=\"M 227.108528 224.64 \nL 232.492704 224.64 \nL 232.492704 223.427928 \nL 227.108528 223.427928 \nz\n\" style=\"fill:#8c564b;\"/>\n   </g>\n   <g id=\"patch_58\">\n    <path clip-path=\"url(#p37462c6360)\" d=\"M 232.492704 224.64 \nL 237.876881 224.64 \nL 237.876881 223.180958 \nL 232.492704 223.180958 \nz\n\" style=\"fill:#8c564b;\"/>\n   </g>\n   <g id=\"patch_59\">\n    <path clip-path=\"url(#p37462c6360)\" d=\"M 237.876881 224.64 \nL 243.261058 224.64 \nL 243.261058 223.191748 \nL 237.876881 223.191748 \nz\n\" style=\"fill:#8c564b;\"/>\n   </g>\n   <g id=\"patch_60\">\n    <path clip-path=\"url(#p37462c6360)\" d=\"M 243.261058 224.64 \nL 248.645235 224.64 \nL 248.645235 223.90868 \nL 243.261058 223.90868 \nz\n\" style=\"fill:#8c564b;\"/>\n   </g>\n   <g id=\"patch_61\">\n    <path clip-path=\"url(#p37462c6360)\" d=\"M 248.645235 224.64 \nL 254.029412 224.64 \nL 254.029412 223.876311 \nL 248.645235 223.876311 \nz\n\" style=\"fill:#8c564b;\"/>\n   </g>\n   <g id=\"patch_62\">\n    <path clip-path=\"url(#p37462c6360)\" d=\"M 254.029412 224.64 \nL 259.413589 224.64 \nL 259.413589 224.180827 \nL 254.029412 224.180827 \nz\n\" style=\"fill:#8c564b;\"/>\n   </g>\n   <g id=\"patch_63\">\n    <path clip-path=\"url(#p37462c6360)\" d=\"M 101.464213 224.64 \nL 124.961195 224.64 \nL 124.961195 224.363058 \nL 101.464213 224.363058 \nz\n\" style=\"fill:#e377c2;\"/>\n   </g>\n   <g id=\"patch_64\">\n    <path clip-path=\"url(#p37462c6360)\" d=\"M 124.961195 224.64 \nL 148.458178 224.64 \nL 148.458178 222.799712 \nL 124.961195 222.799712 \nz\n\" style=\"fill:#e377c2;\"/>\n   </g>\n   <g id=\"patch_65\">\n    <path clip-path=\"url(#p37462c6360)\" d=\"M 148.458178 224.64 \nL 171.95516 224.64 \nL 171.95516 216.925178 \nL 148.458178 216.925178 \nz\n\" style=\"fill:#e377c2;\"/>\n   </g>\n   <g id=\"patch_66\">\n    <path clip-path=\"url(#p37462c6360)\" d=\"M 171.95516 224.64 \nL 195.452142 224.64 \nL 195.452142 213.261387 \nL 171.95516 213.261387 \nz\n\" style=\"fill:#e377c2;\"/>\n   </g>\n   <g id=\"patch_67\">\n    <path clip-path=\"url(#p37462c6360)\" d=\"M 195.452142 224.64 \nL 218.949124 224.64 \nL 218.949124 210.380468 \nL 195.452142 210.380468 \nz\n\" style=\"fill:#e377c2;\"/>\n   </g>\n   <g id=\"patch_68\">\n    <path clip-path=\"url(#p37462c6360)\" d=\"M 218.949124 224.64 \nL 242.446107 224.64 \nL 242.446107 205.162923 \nL 218.949124 205.162923 \nz\n\" style=\"fill:#e377c2;\"/>\n   </g>\n   <g id=\"patch_69\">\n    <path clip-path=\"url(#p37462c6360)\" d=\"M 242.446107 224.64 \nL 265.943089 224.64 \nL 265.943089 218.651572 \nL 242.446107 218.651572 \nz\n\" style=\"fill:#e377c2;\"/>\n   </g>\n   <g id=\"patch_70\">\n    <path clip-path=\"url(#p37462c6360)\" d=\"M 265.943089 224.64 \nL 289.440071 224.64 \nL 289.440071 219.340931 \nL 265.943089 219.340931 \nz\n\" style=\"fill:#e377c2;\"/>\n   </g>\n   <g id=\"patch_71\">\n    <path clip-path=\"url(#p37462c6360)\" d=\"M 289.440071 224.64 \nL 312.937053 224.64 \nL 312.937053 223.785195 \nL 289.440071 223.785195 \nz\n\" style=\"fill:#e377c2;\"/>\n   </g>\n   <g id=\"patch_72\">\n    <path clip-path=\"url(#p37462c6360)\" d=\"M 312.937053 224.64 \nL 336.434036 224.64 \nL 336.434036 224.208402 \nL 312.937053 224.208402 \nz\n\" style=\"fill:#e377c2;\"/>\n   </g>\n   <g id=\"patch_73\">\n    <path clip-path=\"url(#p37462c6360)\" d=\"M 107.467484 224.64 \nL 129.320374 224.64 \nL 129.320374 224.432593 \nL 107.467484 224.432593 \nz\n\" style=\"fill:#7f7f7f;\"/>\n   </g>\n   <g id=\"patch_74\">\n    <path clip-path=\"url(#p37462c6360)\" d=\"M 129.320374 224.64 \nL 151.173264 224.64 \nL 151.173264 222.386097 \nL 129.320374 222.386097 \nz\n\" style=\"fill:#7f7f7f;\"/>\n   </g>\n   <g id=\"patch_75\">\n    <path clip-path=\"url(#p37462c6360)\" d=\"M 151.173264 224.64 \nL 173.026153 224.64 \nL 173.026153 221.593635 \nL 151.173264 221.593635 \nz\n\" style=\"fill:#7f7f7f;\"/>\n   </g>\n   <g id=\"patch_76\">\n    <path clip-path=\"url(#p37462c6360)\" d=\"M 173.026153 224.64 \nL 194.879043 224.64 \nL 194.879043 214.11859 \nL 173.026153 214.11859 \nz\n\" style=\"fill:#7f7f7f;\"/>\n   </g>\n   <g id=\"patch_77\">\n    <path clip-path=\"url(#p37462c6360)\" d=\"M 194.879043 224.64 \nL 216.731933 224.64 \nL 216.731933 220.253282 \nL 194.879043 220.253282 \nz\n\" style=\"fill:#7f7f7f;\"/>\n   </g>\n   <g id=\"patch_78\">\n    <path clip-path=\"url(#p37462c6360)\" d=\"M 216.731933 224.64 \nL 238.584822 224.64 \nL 238.584822 215.768255 \nL 216.731933 215.768255 \nz\n\" style=\"fill:#7f7f7f;\"/>\n   </g>\n   <g id=\"patch_79\">\n    <path clip-path=\"url(#p37462c6360)\" d=\"M 238.584822 224.64 \nL 260.437712 224.64 \nL 260.437712 217.785977 \nL 238.584822 217.785977 \nz\n\" style=\"fill:#7f7f7f;\"/>\n   </g>\n   <g id=\"patch_80\">\n    <path clip-path=\"url(#p37462c6360)\" d=\"M 260.437712 224.64 \nL 282.290602 224.64 \nL 282.290602 221.527696 \nL 260.437712 221.527696 \nz\n\" style=\"fill:#7f7f7f;\"/>\n   </g>\n   <g id=\"patch_81\">\n    <path clip-path=\"url(#p37462c6360)\" d=\"M 282.290602 224.64 \nL 304.143491 224.64 \nL 304.143491 224.147258 \nL 282.290602 224.147258 \nz\n\" style=\"fill:#7f7f7f;\"/>\n   </g>\n   <g id=\"patch_82\">\n    <path clip-path=\"url(#p37462c6360)\" d=\"M 304.143491 224.64 \nL 325.996381 224.64 \nL 325.996381 224.428996 \nL 304.143491 224.428996 \nz\n\" style=\"fill:#7f7f7f;\"/>\n   </g>\n   <g id=\"patch_83\">\n    <path clip-path=\"url(#p37462c6360)\" d=\"M 81.480779 224.64 \nL 111.702434 224.64 \nL 111.702434 214.824733 \nL 81.480779 214.824733 \nz\n\" style=\"fill:#bcbd22;\"/>\n   </g>\n   <g id=\"patch_84\">\n    <path clip-path=\"url(#p37462c6360)\" d=\"M 111.702434 224.64 \nL 141.924088 224.64 \nL 141.924088 186.489098 \nL 111.702434 186.489098 \nz\n\" style=\"fill:#bcbd22;\"/>\n   </g>\n   <g id=\"patch_85\">\n    <path clip-path=\"url(#p37462c6360)\" d=\"M 141.924088 224.64 \nL 172.145742 224.64 \nL 172.145742 202.000265 \nL 141.924088 202.000265 \nz\n\" style=\"fill:#bcbd22;\"/>\n   </g>\n   <g id=\"patch_86\">\n    <path clip-path=\"url(#p37462c6360)\" d=\"M 172.145742 224.64 \nL 202.367397 224.64 \nL 202.367397 190.133707 \nL 172.145742 190.133707 \nz\n\" style=\"fill:#bcbd22;\"/>\n   </g>\n   <g id=\"patch_87\">\n    <path clip-path=\"url(#p37462c6360)\" d=\"M 202.367397 224.64 \nL 232.589051 224.64 \nL 232.589051 191.386541 \nL 202.367397 191.386541 \nz\n\" style=\"fill:#bcbd22;\"/>\n   </g>\n   <g id=\"patch_88\">\n    <path clip-path=\"url(#p37462c6360)\" d=\"M 232.589051 224.64 \nL 262.810705 224.64 \nL 262.810705 194.802163 \nL 232.589051 194.802163 \nz\n\" style=\"fill:#bcbd22;\"/>\n   </g>\n   <g id=\"patch_89\">\n    <path clip-path=\"url(#p37462c6360)\" d=\"M 262.810705 224.64 \nL 293.03236 224.64 \nL 293.03236 208.230868 \nL 262.810705 208.230868 \nz\n\" style=\"fill:#bcbd22;\"/>\n   </g>\n   <g id=\"patch_90\">\n    <path clip-path=\"url(#p37462c6360)\" d=\"M 293.03236 224.64 \nL 323.254014 224.64 \nL 323.254014 214.108999 \nL 293.03236 214.108999 \nz\n\" style=\"fill:#bcbd22;\"/>\n   </g>\n   <g id=\"patch_91\">\n    <path clip-path=\"url(#p37462c6360)\" d=\"M 323.254014 224.64 \nL 353.475668 224.64 \nL 353.475668 218.037743 \nL 323.254014 218.037743 \nz\n\" style=\"fill:#bcbd22;\"/>\n   </g>\n   <g id=\"patch_92\">\n    <path clip-path=\"url(#p37462c6360)\" d=\"M 353.475668 224.64 \nL 383.697323 224.64 \nL 383.697323 223.849935 \nL 353.475668 223.849935 \nz\n\" style=\"fill:#bcbd22;\"/>\n   </g>\n   <g id=\"patch_93\">\n    <path clip-path=\"url(#p37462c6360)\" d=\"M 81.271307 224.64 \nL 111.263414 224.64 \nL 111.263414 214.306815 \nL 81.271307 214.306815 \nz\n\" style=\"fill:#17becf;\"/>\n   </g>\n   <g id=\"patch_94\">\n    <path clip-path=\"url(#p37462c6360)\" d=\"M 111.263414 224.64 \nL 141.255522 224.64 \nL 141.255522 204.767291 \nL 111.263414 204.767291 \nz\n\" style=\"fill:#17becf;\"/>\n   </g>\n   <g id=\"patch_95\">\n    <path clip-path=\"url(#p37462c6360)\" d=\"M 141.255522 224.64 \nL 171.247629 224.64 \nL 171.247629 204.583862 \nL 141.255522 204.583862 \nz\n\" style=\"fill:#17becf;\"/>\n   </g>\n   <g id=\"patch_96\">\n    <path clip-path=\"url(#p37462c6360)\" d=\"M 171.247629 224.64 \nL 201.239736 224.64 \nL 201.239736 195.340462 \nL 171.247629 195.340462 \nz\n\" style=\"fill:#17becf;\"/>\n   </g>\n   <g id=\"patch_97\">\n    <path clip-path=\"url(#p37462c6360)\" d=\"M 201.239736 224.64 \nL 231.231844 224.64 \nL 231.231844 199.20087 \nL 201.239736 199.20087 \nz\n\" style=\"fill:#17becf;\"/>\n   </g>\n   <g id=\"patch_98\">\n    <path clip-path=\"url(#p37462c6360)\" d=\"M 231.231844 224.64 \nL 261.223951 224.64 \nL 261.223951 193.482191 \nL 231.231844 193.482191 \nz\n\" style=\"fill:#17becf;\"/>\n   </g>\n   <g id=\"patch_99\">\n    <path clip-path=\"url(#p37462c6360)\" d=\"M 261.223951 224.64 \nL 291.216059 224.64 \nL 291.216059 204.597049 \nL 261.223951 204.597049 \nz\n\" style=\"fill:#17becf;\"/>\n   </g>\n   <g id=\"patch_100\">\n    <path clip-path=\"url(#p37462c6360)\" d=\"M 291.216059 224.64 \nL 321.208166 224.64 \nL 321.208166 209.850561 \nL 291.216059 209.850561 \nz\n\" style=\"fill:#17becf;\"/>\n   </g>\n   <g id=\"patch_101\">\n    <path clip-path=\"url(#p37462c6360)\" d=\"M 321.208166 224.64 \nL 351.200273 224.64 \nL 351.200273 216.814881 \nL 321.208166 216.814881 \nz\n\" style=\"fill:#17becf;\"/>\n   </g>\n   <g id=\"patch_102\">\n    <path clip-path=\"url(#p37462c6360)\" d=\"M 351.200273 224.64 \nL 381.192381 224.64 \nL 381.192381 223.077854 \nL 351.200273 223.077854 \nz\n\" style=\"fill:#17becf;\"/>\n   </g>\n   <g id=\"patch_103\">\n    <path clip-path=\"url(#p37462c6360)\" d=\"M 82.928253 224.64 \nL 113.198922 224.64 \nL 113.198922 182.044833 \nL 82.928253 182.044833 \nz\n\" style=\"fill:#1f77b4;\"/>\n   </g>\n   <g id=\"patch_104\">\n    <path clip-path=\"url(#p37462c6360)\" d=\"M 113.198922 224.64 \nL 143.469591 224.64 \nL 143.469591 104.695204 \nL 113.198922 104.695204 \nz\n\" style=\"fill:#1f77b4;\"/>\n   </g>\n   <g id=\"patch_105\">\n    <path clip-path=\"url(#p37462c6360)\" d=\"M 143.469591 224.64 \nL 173.74026 224.64 \nL 173.74026 17.554286 \nL 143.469591 17.554286 \nz\n\" style=\"fill:#1f77b4;\"/>\n   </g>\n   <g id=\"patch_106\">\n    <path clip-path=\"url(#p37462c6360)\" d=\"M 173.74026 224.64 \nL 204.010929 224.64 \nL 204.010929 57.845196 \nL 173.74026 57.845196 \nz\n\" style=\"fill:#1f77b4;\"/>\n   </g>\n   <g id=\"patch_107\">\n    <path clip-path=\"url(#p37462c6360)\" d=\"M 204.010929 224.64 \nL 234.281598 224.64 \nL 234.281598 103.191803 \nL 204.010929 103.191803 \nz\n\" style=\"fill:#1f77b4;\"/>\n   </g>\n   <g id=\"patch_108\">\n    <path clip-path=\"url(#p37462c6360)\" d=\"M 234.281598 224.64 \nL 264.552267 224.64 \nL 264.552267 128.840738 \nL 234.281598 128.840738 \nz\n\" style=\"fill:#1f77b4;\"/>\n   </g>\n   <g id=\"patch_109\">\n    <path clip-path=\"url(#p37462c6360)\" d=\"M 264.552267 224.64 \nL 294.822936 224.64 \nL 294.822936 165.097402 \nL 264.552267 165.097402 \nz\n\" style=\"fill:#1f77b4;\"/>\n   </g>\n   <g id=\"patch_110\">\n    <path clip-path=\"url(#p37462c6360)\" d=\"M 294.822936 224.64 \nL 325.093605 224.64 \nL 325.093605 187.322323 \nL 294.822936 187.322323 \nz\n\" style=\"fill:#1f77b4;\"/>\n   </g>\n   <g id=\"patch_111\">\n    <path clip-path=\"url(#p37462c6360)\" d=\"M 325.093605 224.64 \nL 355.364274 224.64 \nL 355.364274 213.695384 \nL 325.093605 213.695384 \nz\n\" style=\"fill:#1f77b4;\"/>\n   </g>\n   <g id=\"patch_112\">\n    <path clip-path=\"url(#p37462c6360)\" d=\"M 355.364274 224.64 \nL 385.634943 224.64 \nL 385.634943 221.9533 \nL 355.364274 221.9533 \nz\n\" style=\"fill:#1f77b4;\"/>\n   </g>\n   <g id=\"patch_113\">\n    <path clip-path=\"url(#p37462c6360)\" d=\"M 120.729825 224.64 \nL 129.238135 224.64 \nL 129.238135 222.724183 \nL 120.729825 222.724183 \nz\n\" style=\"fill:#ff7f0e;\"/>\n   </g>\n   <g id=\"patch_114\">\n    <path clip-path=\"url(#p37462c6360)\" d=\"M 129.238135 224.64 \nL 137.746444 224.64 \nL 137.746444 223.406348 \nL 129.238135 223.406348 \nz\n\" style=\"fill:#ff7f0e;\"/>\n   </g>\n   <g id=\"patch_115\">\n    <path clip-path=\"url(#p37462c6360)\" d=\"M 137.746444 224.64 \nL 146.254754 224.64 \nL 146.254754 223.538225 \nL 137.746444 223.538225 \nz\n\" style=\"fill:#ff7f0e;\"/>\n   </g>\n   <g id=\"patch_116\">\n    <path clip-path=\"url(#p37462c6360)\" d=\"M 146.254754 224.64 \nL 154.763063 224.64 \nL 154.763063 223.739638 \nL 146.254754 223.739638 \nz\n\" style=\"fill:#ff7f0e;\"/>\n   </g>\n   <g id=\"patch_117\">\n    <path clip-path=\"url(#p37462c6360)\" d=\"M 154.763063 224.64 \nL 163.271373 224.64 \nL 163.271373 223.469889 \nL 154.763063 223.469889 \nz\n\" style=\"fill:#ff7f0e;\"/>\n   </g>\n   <g id=\"patch_118\">\n    <path clip-path=\"url(#p37462c6360)\" d=\"M 163.271373 224.64 \nL 171.779682 224.64 \nL 171.779682 222.863253 \nL 163.271373 222.863253 \nz\n\" style=\"fill:#ff7f0e;\"/>\n   </g>\n   <g id=\"patch_119\">\n    <path clip-path=\"url(#p37462c6360)\" d=\"M 171.779682 224.64 \nL 180.287992 224.64 \nL 180.287992 221.467752 \nL 171.779682 221.467752 \nz\n\" style=\"fill:#ff7f0e;\"/>\n   </g>\n   <g id=\"patch_120\">\n    <path clip-path=\"url(#p37462c6360)\" d=\"M 180.287992 224.64 \nL 188.796301 224.64 \nL 188.796301 221.627203 \nL 180.287992 221.627203 \nz\n\" style=\"fill:#ff7f0e;\"/>\n   </g>\n   <g id=\"patch_121\">\n    <path clip-path=\"url(#p37462c6360)\" d=\"M 188.796301 224.64 \nL 197.304611 224.64 \nL 197.304611 222.489201 \nL 188.796301 222.489201 \nz\n\" style=\"fill:#ff7f0e;\"/>\n   </g>\n   <g id=\"patch_122\">\n    <path clip-path=\"url(#p37462c6360)\" d=\"M 197.304611 224.64 \nL 205.81292 224.64 \nL 205.81292 222.797315 \nL 197.304611 222.797315 \nz\n\" style=\"fill:#ff7f0e;\"/>\n   </g>\n   <g id=\"matplotlib.axis_1\">\n    <g id=\"xtick_1\">\n     <g id=\"line2d_1\">\n      <defs>\n       <path d=\"M 0 0 \nL 0 3.5 \n\" id=\"m1e443a8d8b\" style=\"stroke:#000000;stroke-width:0.8;\"/>\n      </defs>\n      <g>\n       <use style=\"stroke:#000000;stroke-width:0.8;\" x=\"73.457087\" xlink:href=\"#m1e443a8d8b\" y=\"224.64\"/>\n      </g>\n     </g>\n     <g id=\"text_1\">\n      <!-- 0 -->\n      <g transform=\"translate(70.275837 239.238437)scale(0.1 -0.1)\">\n       <defs>\n        <path d=\"M 2034 4250 \nQ 1547 4250 1301 3770 \nQ 1056 3291 1056 2328 \nQ 1056 1369 1301 889 \nQ 1547 409 2034 409 \nQ 2525 409 2770 889 \nQ 3016 1369 3016 2328 \nQ 3016 3291 2770 3770 \nQ 2525 4250 2034 4250 \nz\nM 2034 4750 \nQ 2819 4750 3233 4129 \nQ 3647 3509 3647 2328 \nQ 3647 1150 3233 529 \nQ 2819 -91 2034 -91 \nQ 1250 -91 836 529 \nQ 422 1150 422 2328 \nQ 422 3509 836 4129 \nQ 1250 4750 2034 4750 \nz\n\" id=\"DejaVuSans-30\" transform=\"scale(0.015625)\"/>\n       </defs>\n       <use xlink:href=\"#DejaVuSans-30\"/>\n      </g>\n     </g>\n    </g>\n    <g id=\"xtick_2\">\n     <g id=\"line2d_2\">\n      <g>\n       <use style=\"stroke:#000000;stroke-width:0.8;\" x=\"130.878273\" xlink:href=\"#m1e443a8d8b\" y=\"224.64\"/>\n      </g>\n     </g>\n     <g id=\"text_2\">\n      <!-- 1000 -->\n      <g transform=\"translate(118.153273 239.238437)scale(0.1 -0.1)\">\n       <defs>\n        <path d=\"M 794 531 \nL 1825 531 \nL 1825 4091 \nL 703 3866 \nL 703 4441 \nL 1819 4666 \nL 2450 4666 \nL 2450 531 \nL 3481 531 \nL 3481 0 \nL 794 0 \nL 794 531 \nz\n\" id=\"DejaVuSans-31\" transform=\"scale(0.015625)\"/>\n       </defs>\n       <use xlink:href=\"#DejaVuSans-31\"/>\n       <use x=\"63.623047\" xlink:href=\"#DejaVuSans-30\"/>\n       <use x=\"127.246094\" xlink:href=\"#DejaVuSans-30\"/>\n       <use x=\"190.869141\" xlink:href=\"#DejaVuSans-30\"/>\n      </g>\n     </g>\n    </g>\n    <g id=\"xtick_3\">\n     <g id=\"line2d_3\">\n      <g>\n       <use style=\"stroke:#000000;stroke-width:0.8;\" x=\"188.299459\" xlink:href=\"#m1e443a8d8b\" y=\"224.64\"/>\n      </g>\n     </g>\n     <g id=\"text_3\">\n      <!-- 2000 -->\n      <g transform=\"translate(175.574459 239.238437)scale(0.1 -0.1)\">\n       <defs>\n        <path d=\"M 1228 531 \nL 3431 531 \nL 3431 0 \nL 469 0 \nL 469 531 \nQ 828 903 1448 1529 \nQ 2069 2156 2228 2338 \nQ 2531 2678 2651 2914 \nQ 2772 3150 2772 3378 \nQ 2772 3750 2511 3984 \nQ 2250 4219 1831 4219 \nQ 1534 4219 1204 4116 \nQ 875 4013 500 3803 \nL 500 4441 \nQ 881 4594 1212 4672 \nQ 1544 4750 1819 4750 \nQ 2544 4750 2975 4387 \nQ 3406 4025 3406 3419 \nQ 3406 3131 3298 2873 \nQ 3191 2616 2906 2266 \nQ 2828 2175 2409 1742 \nQ 1991 1309 1228 531 \nz\n\" id=\"DejaVuSans-32\" transform=\"scale(0.015625)\"/>\n       </defs>\n       <use xlink:href=\"#DejaVuSans-32\"/>\n       <use x=\"63.623047\" xlink:href=\"#DejaVuSans-30\"/>\n       <use x=\"127.246094\" xlink:href=\"#DejaVuSans-30\"/>\n       <use x=\"190.869141\" xlink:href=\"#DejaVuSans-30\"/>\n      </g>\n     </g>\n    </g>\n    <g id=\"xtick_4\">\n     <g id=\"line2d_4\">\n      <g>\n       <use style=\"stroke:#000000;stroke-width:0.8;\" x=\"245.720645\" xlink:href=\"#m1e443a8d8b\" y=\"224.64\"/>\n      </g>\n     </g>\n     <g id=\"text_4\">\n      <!-- 3000 -->\n      <g transform=\"translate(232.995645 239.238437)scale(0.1 -0.1)\">\n       <defs>\n        <path d=\"M 2597 2516 \nQ 3050 2419 3304 2112 \nQ 3559 1806 3559 1356 \nQ 3559 666 3084 287 \nQ 2609 -91 1734 -91 \nQ 1441 -91 1130 -33 \nQ 819 25 488 141 \nL 488 750 \nQ 750 597 1062 519 \nQ 1375 441 1716 441 \nQ 2309 441 2620 675 \nQ 2931 909 2931 1356 \nQ 2931 1769 2642 2001 \nQ 2353 2234 1838 2234 \nL 1294 2234 \nL 1294 2753 \nL 1863 2753 \nQ 2328 2753 2575 2939 \nQ 2822 3125 2822 3475 \nQ 2822 3834 2567 4026 \nQ 2313 4219 1838 4219 \nQ 1578 4219 1281 4162 \nQ 984 4106 628 3988 \nL 628 4550 \nQ 988 4650 1302 4700 \nQ 1616 4750 1894 4750 \nQ 2613 4750 3031 4423 \nQ 3450 4097 3450 3541 \nQ 3450 3153 3228 2886 \nQ 3006 2619 2597 2516 \nz\n\" id=\"DejaVuSans-33\" transform=\"scale(0.015625)\"/>\n       </defs>\n       <use xlink:href=\"#DejaVuSans-33\"/>\n       <use x=\"63.623047\" xlink:href=\"#DejaVuSans-30\"/>\n       <use x=\"127.246094\" xlink:href=\"#DejaVuSans-30\"/>\n       <use x=\"190.869141\" xlink:href=\"#DejaVuSans-30\"/>\n      </g>\n     </g>\n    </g>\n    <g id=\"xtick_5\">\n     <g id=\"line2d_5\">\n      <g>\n       <use style=\"stroke:#000000;stroke-width:0.8;\" x=\"303.14183\" xlink:href=\"#m1e443a8d8b\" y=\"224.64\"/>\n      </g>\n     </g>\n     <g id=\"text_5\">\n      <!-- 4000 -->\n      <g transform=\"translate(290.41683 239.238437)scale(0.1 -0.1)\">\n       <defs>\n        <path d=\"M 2419 4116 \nL 825 1625 \nL 2419 1625 \nL 2419 4116 \nz\nM 2253 4666 \nL 3047 4666 \nL 3047 1625 \nL 3713 1625 \nL 3713 1100 \nL 3047 1100 \nL 3047 0 \nL 2419 0 \nL 2419 1100 \nL 313 1100 \nL 313 1709 \nL 2253 4666 \nz\n\" id=\"DejaVuSans-34\" transform=\"scale(0.015625)\"/>\n       </defs>\n       <use xlink:href=\"#DejaVuSans-34\"/>\n       <use x=\"63.623047\" xlink:href=\"#DejaVuSans-30\"/>\n       <use x=\"127.246094\" xlink:href=\"#DejaVuSans-30\"/>\n       <use x=\"190.869141\" xlink:href=\"#DejaVuSans-30\"/>\n      </g>\n     </g>\n    </g>\n    <g id=\"xtick_6\">\n     <g id=\"line2d_6\">\n      <g>\n       <use style=\"stroke:#000000;stroke-width:0.8;\" x=\"360.563016\" xlink:href=\"#m1e443a8d8b\" y=\"224.64\"/>\n      </g>\n     </g>\n     <g id=\"text_6\">\n      <!-- 5000 -->\n      <g transform=\"translate(347.838016 239.238437)scale(0.1 -0.1)\">\n       <defs>\n        <path d=\"M 691 4666 \nL 3169 4666 \nL 3169 4134 \nL 1269 4134 \nL 1269 2991 \nQ 1406 3038 1543 3061 \nQ 1681 3084 1819 3084 \nQ 2600 3084 3056 2656 \nQ 3513 2228 3513 1497 \nQ 3513 744 3044 326 \nQ 2575 -91 1722 -91 \nQ 1428 -91 1123 -41 \nQ 819 9 494 109 \nL 494 744 \nQ 775 591 1075 516 \nQ 1375 441 1709 441 \nQ 2250 441 2565 725 \nQ 2881 1009 2881 1497 \nQ 2881 1984 2565 2268 \nQ 2250 2553 1709 2553 \nQ 1456 2553 1204 2497 \nQ 953 2441 691 2322 \nL 691 4666 \nz\n\" id=\"DejaVuSans-35\" transform=\"scale(0.015625)\"/>\n       </defs>\n       <use xlink:href=\"#DejaVuSans-35\"/>\n       <use x=\"63.623047\" xlink:href=\"#DejaVuSans-30\"/>\n       <use x=\"127.246094\" xlink:href=\"#DejaVuSans-30\"/>\n       <use x=\"190.869141\" xlink:href=\"#DejaVuSans-30\"/>\n      </g>\n     </g>\n    </g>\n   </g>\n   <g id=\"matplotlib.axis_2\">\n    <g id=\"ytick_1\">\n     <g id=\"line2d_7\">\n      <defs>\n       <path d=\"M 0 0 \nL -3.5 0 \n\" id=\"m63c828e4d3\" style=\"stroke:#000000;stroke-width:0.8;\"/>\n      </defs>\n      <g>\n       <use style=\"stroke:#000000;stroke-width:0.8;\" x=\"66.053125\" xlink:href=\"#m63c828e4d3\" y=\"224.64\"/>\n      </g>\n     </g>\n     <g id=\"text_7\">\n      <!-- 0 -->\n      <g transform=\"translate(52.690625 228.439219)scale(0.1 -0.1)\">\n       <use xlink:href=\"#DejaVuSans-30\"/>\n      </g>\n     </g>\n    </g>\n    <g id=\"ytick_2\">\n     <g id=\"line2d_8\">\n      <g>\n       <use style=\"stroke:#000000;stroke-width:0.8;\" x=\"66.053125\" xlink:href=\"#m63c828e4d3\" y=\"194.667888\"/>\n      </g>\n     </g>\n     <g id=\"text_8\">\n      <!-- 25000 -->\n      <g transform=\"translate(27.240625 198.467107)scale(0.1 -0.1)\">\n       <use xlink:href=\"#DejaVuSans-32\"/>\n       <use x=\"63.623047\" xlink:href=\"#DejaVuSans-35\"/>\n       <use x=\"127.246094\" xlink:href=\"#DejaVuSans-30\"/>\n       <use x=\"190.869141\" xlink:href=\"#DejaVuSans-30\"/>\n       <use x=\"254.492188\" xlink:href=\"#DejaVuSans-30\"/>\n      </g>\n     </g>\n    </g>\n    <g id=\"ytick_3\">\n     <g id=\"line2d_9\">\n      <g>\n       <use style=\"stroke:#000000;stroke-width:0.8;\" x=\"66.053125\" xlink:href=\"#m63c828e4d3\" y=\"164.695776\"/>\n      </g>\n     </g>\n     <g id=\"text_9\">\n      <!-- 50000 -->\n      <g transform=\"translate(27.240625 168.494995)scale(0.1 -0.1)\">\n       <use xlink:href=\"#DejaVuSans-35\"/>\n       <use x=\"63.623047\" xlink:href=\"#DejaVuSans-30\"/>\n       <use x=\"127.246094\" xlink:href=\"#DejaVuSans-30\"/>\n       <use x=\"190.869141\" xlink:href=\"#DejaVuSans-30\"/>\n       <use x=\"254.492188\" xlink:href=\"#DejaVuSans-30\"/>\n      </g>\n     </g>\n    </g>\n    <g id=\"ytick_4\">\n     <g id=\"line2d_10\">\n      <g>\n       <use style=\"stroke:#000000;stroke-width:0.8;\" x=\"66.053125\" xlink:href=\"#m63c828e4d3\" y=\"134.723664\"/>\n      </g>\n     </g>\n     <g id=\"text_10\">\n      <!-- 75000 -->\n      <g transform=\"translate(27.240625 138.522883)scale(0.1 -0.1)\">\n       <defs>\n        <path d=\"M 525 4666 \nL 3525 4666 \nL 3525 4397 \nL 1831 0 \nL 1172 0 \nL 2766 4134 \nL 525 4134 \nL 525 4666 \nz\n\" id=\"DejaVuSans-37\" transform=\"scale(0.015625)\"/>\n       </defs>\n       <use xlink:href=\"#DejaVuSans-37\"/>\n       <use x=\"63.623047\" xlink:href=\"#DejaVuSans-35\"/>\n       <use x=\"127.246094\" xlink:href=\"#DejaVuSans-30\"/>\n       <use x=\"190.869141\" xlink:href=\"#DejaVuSans-30\"/>\n       <use x=\"254.492188\" xlink:href=\"#DejaVuSans-30\"/>\n      </g>\n     </g>\n    </g>\n    <g id=\"ytick_5\">\n     <g id=\"line2d_11\">\n      <g>\n       <use style=\"stroke:#000000;stroke-width:0.8;\" x=\"66.053125\" xlink:href=\"#m63c828e4d3\" y=\"104.751552\"/>\n      </g>\n     </g>\n     <g id=\"text_11\">\n      <!-- 100000 -->\n      <g transform=\"translate(20.878125 108.550771)scale(0.1 -0.1)\">\n       <use xlink:href=\"#DejaVuSans-31\"/>\n       <use x=\"63.623047\" xlink:href=\"#DejaVuSans-30\"/>\n       <use x=\"127.246094\" xlink:href=\"#DejaVuSans-30\"/>\n       <use x=\"190.869141\" xlink:href=\"#DejaVuSans-30\"/>\n       <use x=\"254.492188\" xlink:href=\"#DejaVuSans-30\"/>\n       <use x=\"318.115234\" xlink:href=\"#DejaVuSans-30\"/>\n      </g>\n     </g>\n    </g>\n    <g id=\"ytick_6\">\n     <g id=\"line2d_12\">\n      <g>\n       <use style=\"stroke:#000000;stroke-width:0.8;\" x=\"66.053125\" xlink:href=\"#m63c828e4d3\" y=\"74.77944\"/>\n      </g>\n     </g>\n     <g id=\"text_12\">\n      <!-- 125000 -->\n      <g transform=\"translate(20.878125 78.578659)scale(0.1 -0.1)\">\n       <use xlink:href=\"#DejaVuSans-31\"/>\n       <use x=\"63.623047\" xlink:href=\"#DejaVuSans-32\"/>\n       <use x=\"127.246094\" xlink:href=\"#DejaVuSans-35\"/>\n       <use x=\"190.869141\" xlink:href=\"#DejaVuSans-30\"/>\n       <use x=\"254.492188\" xlink:href=\"#DejaVuSans-30\"/>\n       <use x=\"318.115234\" xlink:href=\"#DejaVuSans-30\"/>\n      </g>\n     </g>\n    </g>\n    <g id=\"ytick_7\">\n     <g id=\"line2d_13\">\n      <g>\n       <use style=\"stroke:#000000;stroke-width:0.8;\" x=\"66.053125\" xlink:href=\"#m63c828e4d3\" y=\"44.807328\"/>\n      </g>\n     </g>\n     <g id=\"text_13\">\n      <!-- 150000 -->\n      <g transform=\"translate(20.878125 48.606547)scale(0.1 -0.1)\">\n       <use xlink:href=\"#DejaVuSans-31\"/>\n       <use x=\"63.623047\" xlink:href=\"#DejaVuSans-35\"/>\n       <use x=\"127.246094\" xlink:href=\"#DejaVuSans-30\"/>\n       <use x=\"190.869141\" xlink:href=\"#DejaVuSans-30\"/>\n       <use x=\"254.492188\" xlink:href=\"#DejaVuSans-30\"/>\n       <use x=\"318.115234\" xlink:href=\"#DejaVuSans-30\"/>\n      </g>\n     </g>\n    </g>\n    <g id=\"ytick_8\">\n     <g id=\"line2d_14\">\n      <g>\n       <use style=\"stroke:#000000;stroke-width:0.8;\" x=\"66.053125\" xlink:href=\"#m63c828e4d3\" y=\"14.835216\"/>\n      </g>\n     </g>\n     <g id=\"text_14\">\n      <!-- 175000 -->\n      <g transform=\"translate(20.878125 18.634434)scale(0.1 -0.1)\">\n       <use xlink:href=\"#DejaVuSans-31\"/>\n       <use x=\"63.623047\" xlink:href=\"#DejaVuSans-37\"/>\n       <use x=\"127.246094\" xlink:href=\"#DejaVuSans-35\"/>\n       <use x=\"190.869141\" xlink:href=\"#DejaVuSans-30\"/>\n       <use x=\"254.492188\" xlink:href=\"#DejaVuSans-30\"/>\n       <use x=\"318.115234\" xlink:href=\"#DejaVuSans-30\"/>\n      </g>\n     </g>\n    </g>\n    <g id=\"text_15\">\n     <!-- Frequency -->\n     <g transform=\"translate(14.798438 141.749687)rotate(-90)scale(0.1 -0.1)\">\n      <defs>\n       <path d=\"M 628 4666 \nL 3309 4666 \nL 3309 4134 \nL 1259 4134 \nL 1259 2759 \nL 3109 2759 \nL 3109 2228 \nL 1259 2228 \nL 1259 0 \nL 628 0 \nL 628 4666 \nz\n\" id=\"DejaVuSans-46\" transform=\"scale(0.015625)\"/>\n       <path d=\"M 2631 2963 \nQ 2534 3019 2420 3045 \nQ 2306 3072 2169 3072 \nQ 1681 3072 1420 2755 \nQ 1159 2438 1159 1844 \nL 1159 0 \nL 581 0 \nL 581 3500 \nL 1159 3500 \nL 1159 2956 \nQ 1341 3275 1631 3429 \nQ 1922 3584 2338 3584 \nQ 2397 3584 2469 3576 \nQ 2541 3569 2628 3553 \nL 2631 2963 \nz\n\" id=\"DejaVuSans-72\" transform=\"scale(0.015625)\"/>\n       <path d=\"M 3597 1894 \nL 3597 1613 \nL 953 1613 \nQ 991 1019 1311 708 \nQ 1631 397 2203 397 \nQ 2534 397 2845 478 \nQ 3156 559 3463 722 \nL 3463 178 \nQ 3153 47 2828 -22 \nQ 2503 -91 2169 -91 \nQ 1331 -91 842 396 \nQ 353 884 353 1716 \nQ 353 2575 817 3079 \nQ 1281 3584 2069 3584 \nQ 2775 3584 3186 3129 \nQ 3597 2675 3597 1894 \nz\nM 3022 2063 \nQ 3016 2534 2758 2815 \nQ 2500 3097 2075 3097 \nQ 1594 3097 1305 2825 \nQ 1016 2553 972 2059 \nL 3022 2063 \nz\n\" id=\"DejaVuSans-65\" transform=\"scale(0.015625)\"/>\n       <path d=\"M 947 1747 \nQ 947 1113 1208 752 \nQ 1469 391 1925 391 \nQ 2381 391 2643 752 \nQ 2906 1113 2906 1747 \nQ 2906 2381 2643 2742 \nQ 2381 3103 1925 3103 \nQ 1469 3103 1208 2742 \nQ 947 2381 947 1747 \nz\nM 2906 525 \nQ 2725 213 2448 61 \nQ 2172 -91 1784 -91 \nQ 1150 -91 751 415 \nQ 353 922 353 1747 \nQ 353 2572 751 3078 \nQ 1150 3584 1784 3584 \nQ 2172 3584 2448 3432 \nQ 2725 3281 2906 2969 \nL 2906 3500 \nL 3481 3500 \nL 3481 -1331 \nL 2906 -1331 \nL 2906 525 \nz\n\" id=\"DejaVuSans-71\" transform=\"scale(0.015625)\"/>\n       <path d=\"M 544 1381 \nL 544 3500 \nL 1119 3500 \nL 1119 1403 \nQ 1119 906 1312 657 \nQ 1506 409 1894 409 \nQ 2359 409 2629 706 \nQ 2900 1003 2900 1516 \nL 2900 3500 \nL 3475 3500 \nL 3475 0 \nL 2900 0 \nL 2900 538 \nQ 2691 219 2414 64 \nQ 2138 -91 1772 -91 \nQ 1169 -91 856 284 \nQ 544 659 544 1381 \nz\nM 1991 3584 \nL 1991 3584 \nz\n\" id=\"DejaVuSans-75\" transform=\"scale(0.015625)\"/>\n       <path d=\"M 3513 2113 \nL 3513 0 \nL 2938 0 \nL 2938 2094 \nQ 2938 2591 2744 2837 \nQ 2550 3084 2163 3084 \nQ 1697 3084 1428 2787 \nQ 1159 2491 1159 1978 \nL 1159 0 \nL 581 0 \nL 581 3500 \nL 1159 3500 \nL 1159 2956 \nQ 1366 3272 1645 3428 \nQ 1925 3584 2291 3584 \nQ 2894 3584 3203 3211 \nQ 3513 2838 3513 2113 \nz\n\" id=\"DejaVuSans-6e\" transform=\"scale(0.015625)\"/>\n       <path d=\"M 3122 3366 \nL 3122 2828 \nQ 2878 2963 2633 3030 \nQ 2388 3097 2138 3097 \nQ 1578 3097 1268 2742 \nQ 959 2388 959 1747 \nQ 959 1106 1268 751 \nQ 1578 397 2138 397 \nQ 2388 397 2633 464 \nQ 2878 531 3122 666 \nL 3122 134 \nQ 2881 22 2623 -34 \nQ 2366 -91 2075 -91 \nQ 1284 -91 818 406 \nQ 353 903 353 1747 \nQ 353 2603 823 3093 \nQ 1294 3584 2113 3584 \nQ 2378 3584 2631 3529 \nQ 2884 3475 3122 3366 \nz\n\" id=\"DejaVuSans-63\" transform=\"scale(0.015625)\"/>\n       <path d=\"M 2059 -325 \nQ 1816 -950 1584 -1140 \nQ 1353 -1331 966 -1331 \nL 506 -1331 \nL 506 -850 \nL 844 -850 \nQ 1081 -850 1212 -737 \nQ 1344 -625 1503 -206 \nL 1606 56 \nL 191 3500 \nL 800 3500 \nL 1894 763 \nL 2988 3500 \nL 3597 3500 \nL 2059 -325 \nz\n\" id=\"DejaVuSans-79\" transform=\"scale(0.015625)\"/>\n      </defs>\n      <use xlink:href=\"#DejaVuSans-46\"/>\n      <use x=\"50.269531\" xlink:href=\"#DejaVuSans-72\"/>\n      <use x=\"89.132812\" xlink:href=\"#DejaVuSans-65\"/>\n      <use x=\"150.65625\" xlink:href=\"#DejaVuSans-71\"/>\n      <use x=\"214.132812\" xlink:href=\"#DejaVuSans-75\"/>\n      <use x=\"277.511719\" xlink:href=\"#DejaVuSans-65\"/>\n      <use x=\"339.035156\" xlink:href=\"#DejaVuSans-6e\"/>\n      <use x=\"402.414062\" xlink:href=\"#DejaVuSans-63\"/>\n      <use x=\"457.394531\" xlink:href=\"#DejaVuSans-79\"/>\n     </g>\n    </g>\n   </g>\n   <g id=\"patch_123\">\n    <path d=\"M 66.053125 224.64 \nL 66.053125 7.2 \n\" style=\"fill:none;stroke:#000000;stroke-linecap:square;stroke-linejoin:miter;stroke-width:0.8;\"/>\n   </g>\n   <g id=\"patch_124\">\n    <path d=\"M 400.853125 224.64 \nL 400.853125 7.2 \n\" style=\"fill:none;stroke:#000000;stroke-linecap:square;stroke-linejoin:miter;stroke-width:0.8;\"/>\n   </g>\n   <g id=\"patch_125\">\n    <path d=\"M 66.053125 224.64 \nL 400.853125 224.64 \n\" style=\"fill:none;stroke:#000000;stroke-linecap:square;stroke-linejoin:miter;stroke-width:0.8;\"/>\n   </g>\n   <g id=\"patch_126\">\n    <path d=\"M 66.053125 7.2 \nL 400.853125 7.2 \n\" style=\"fill:none;stroke:#000000;stroke-linecap:square;stroke-linejoin:miter;stroke-width:0.8;\"/>\n   </g>\n  </g>\n </g>\n <defs>\n  <clipPath id=\"p37462c6360\">\n   <rect height=\"217.44\" width=\"334.8\" x=\"66.053125\" y=\"7.2\"/>\n  </clipPath>\n </defs>\n</svg>\n",
      "image/png": "[encoded data removed]"
     },
     "metadata": {
      "needs_background": "light"
     }
    }
   ],
   "source": [
    "df_train.groupby(['FORCE_2020_LITHOFACIES_LITHOLOGY_CAT']).DEPTH_MD.plot(kind='hist')"
   ]
  },
  {
   "cell_type": "code",
   "execution_count": 12,
   "metadata": {},
   "outputs": [
    {
     "output_type": "execute_result",
     "data": {
      "text/plain": [
       "<AxesSubplot:ylabel='Frequency'>"
      ]
     },
     "metadata": {},
     "execution_count": 12
    },
    {
     "output_type": "display_data",
     "data": {
      "text/plain": "<Figure size 432x288 with 1 Axes>",
      "image/svg+xml": "<?xml version=\"1.0\" encoding=\"utf-8\" standalone=\"no\"?>\n<!DOCTYPE svg PUBLIC \"-//W3C//DTD SVG 1.1//EN\"\n  \"http://www.w3.org/Graphics/SVG/1.1/DTD/svg11.dtd\">\n<svg height=\"248.518125pt\" version=\"1.1\" viewBox=\"0 0 408.053125 248.518125\" width=\"408.053125pt\" xmlns=\"http://www.w3.org/2000/svg\" xmlns:xlink=\"http://www.w3.org/1999/xlink\">\n <metadata>\n  <rdf:RDF xmlns:cc=\"http://creativecommons.org/ns#\" xmlns:dc=\"http://purl.org/dc/elements/1.1/\" xmlns:rdf=\"http://www.w3.org/1999/02/22-rdf-syntax-ns#\">\n   <cc:Work>\n    <dc:type rdf:resource=\"http://purl.org/dc/dcmitype/StillImage\"/>\n    <dc:date>2021-05-17T00:03:27.041675</dc:date>\n    <dc:format>image/svg+xml</dc:format>\n    <dc:creator>\n     <cc:Agent>\n      <dc:title>Matplotlib v3.4.1, https://matplotlib.org/</dc:title>\n     </cc:Agent>\n    </dc:creator>\n   </cc:Work>\n  </rdf:RDF>\n </metadata>\n <defs>\n  <style type=\"text/css\">*{stroke-linecap:butt;stroke-linejoin:round;}</style>\n </defs>\n <g id=\"figure_1\">\n  <g id=\"patch_1\">\n   <path d=\"M 0 248.518125 \nL 408.053125 248.518125 \nL 408.053125 0 \nL 0 0 \nz\n\" style=\"fill:none;\"/>\n  </g>\n  <g id=\"axes_1\">\n   <g id=\"patch_2\">\n    <path d=\"M 66.053125 224.64 \nL 400.853125 224.64 \nL 400.853125 7.2 \nL 66.053125 7.2 \nz\n\" style=\"fill:#ffffff;\"/>\n   </g>\n   <g id=\"patch_3\">\n    <path clip-path=\"url(#p0816eb5b9d)\" d=\"M 81.271307 224.64 \nL 111.70767 224.64 \nL 111.70767 180.298758 \nL 81.271307 180.298758 \nz\n\" style=\"fill:#1f77b4;\"/>\n   </g>\n   <g id=\"patch_4\">\n    <path clip-path=\"url(#p0816eb5b9d)\" d=\"M 111.70767 224.64 \nL 142.144034 224.64 \nL 142.144034 88.535197 \nL 111.70767 88.535197 \nz\n\" style=\"fill:#1f77b4;\"/>\n   </g>\n   <g id=\"patch_5\">\n    <path clip-path=\"url(#p0816eb5b9d)\" d=\"M 142.144034 224.64 \nL 172.580398 224.64 \nL 172.580398 19.045769 \nL 142.144034 19.045769 \nz\n\" style=\"fill:#1f77b4;\"/>\n   </g>\n   <g id=\"patch_6\">\n    <path clip-path=\"url(#p0816eb5b9d)\" d=\"M 172.580398 224.64 \nL 203.016761 224.64 \nL 203.016761 17.554286 \nL 172.580398 17.554286 \nz\n\" style=\"fill:#1f77b4;\"/>\n   </g>\n   <g id=\"patch_7\">\n    <path clip-path=\"url(#p0816eb5b9d)\" d=\"M 203.016761 224.64 \nL 233.453125 224.64 \nL 233.453125 52.610888 \nL 203.016761 52.610888 \nz\n\" style=\"fill:#1f77b4;\"/>\n   </g>\n   <g id=\"patch_8\">\n    <path clip-path=\"url(#p0816eb5b9d)\" d=\"M 233.453125 224.64 \nL 263.889489 224.64 \nL 263.889489 86.162506 \nL 233.453125 86.162506 \nz\n\" style=\"fill:#1f77b4;\"/>\n   </g>\n   <g id=\"patch_9\">\n    <path clip-path=\"url(#p0816eb5b9d)\" d=\"M 263.889489 224.64 \nL 294.325852 224.64 \nL 294.325852 145.11074 \nL 263.889489 145.11074 \nz\n\" style=\"fill:#1f77b4;\"/>\n   </g>\n   <g id=\"patch_10\">\n    <path clip-path=\"url(#p0816eb5b9d)\" d=\"M 294.325852 224.64 \nL 324.762216 224.64 \nL 324.762216 176.447186 \nL 294.325852 176.447186 \nz\n\" style=\"fill:#1f77b4;\"/>\n   </g>\n   <g id=\"patch_11\">\n    <path clip-path=\"url(#p0816eb5b9d)\" d=\"M 324.762216 224.64 \nL 355.19858 224.64 \nL 355.19858 205.699876 \nL 324.762216 205.699876 \nz\n\" style=\"fill:#1f77b4;\"/>\n   </g>\n   <g id=\"patch_12\">\n    <path clip-path=\"url(#p0816eb5b9d)\" d=\"M 355.19858 224.64 \nL 385.634943 224.64 \nL 385.634943 221.345596 \nL 355.19858 221.345596 \nz\n\" style=\"fill:#1f77b4;\"/>\n   </g>\n   <g id=\"matplotlib.axis_1\">\n    <g id=\"xtick_1\">\n     <g id=\"line2d_1\">\n      <defs>\n       <path d=\"M 0 0 \nL 0 3.5 \n\" id=\"mff74df5126\" style=\"stroke:#000000;stroke-width:0.8;\"/>\n      </defs>\n      <g>\n       <use style=\"stroke:#000000;stroke-width:0.8;\" x=\"73.457087\" xlink:href=\"#mff74df5126\" y=\"224.64\"/>\n      </g>\n     </g>\n     <g id=\"text_1\">\n      <!-- 0 -->\n      <g transform=\"translate(70.275837 239.238437)scale(0.1 -0.1)\">\n       <defs>\n        <path d=\"M 2034 4250 \nQ 1547 4250 1301 3770 \nQ 1056 3291 1056 2328 \nQ 1056 1369 1301 889 \nQ 1547 409 2034 409 \nQ 2525 409 2770 889 \nQ 3016 1369 3016 2328 \nQ 3016 3291 2770 3770 \nQ 2525 4250 2034 4250 \nz\nM 2034 4750 \nQ 2819 4750 3233 4129 \nQ 3647 3509 3647 2328 \nQ 3647 1150 3233 529 \nQ 2819 -91 2034 -91 \nQ 1250 -91 836 529 \nQ 422 1150 422 2328 \nQ 422 3509 836 4129 \nQ 1250 4750 2034 4750 \nz\n\" id=\"DejaVuSans-30\" transform=\"scale(0.015625)\"/>\n       </defs>\n       <use xlink:href=\"#DejaVuSans-30\"/>\n      </g>\n     </g>\n    </g>\n    <g id=\"xtick_2\">\n     <g id=\"line2d_2\">\n      <g>\n       <use style=\"stroke:#000000;stroke-width:0.8;\" x=\"130.878273\" xlink:href=\"#mff74df5126\" y=\"224.64\"/>\n      </g>\n     </g>\n     <g id=\"text_2\">\n      <!-- 1000 -->\n      <g transform=\"translate(118.153273 239.238437)scale(0.1 -0.1)\">\n       <defs>\n        <path d=\"M 794 531 \nL 1825 531 \nL 1825 4091 \nL 703 3866 \nL 703 4441 \nL 1819 4666 \nL 2450 4666 \nL 2450 531 \nL 3481 531 \nL 3481 0 \nL 794 0 \nL 794 531 \nz\n\" id=\"DejaVuSans-31\" transform=\"scale(0.015625)\"/>\n       </defs>\n       <use xlink:href=\"#DejaVuSans-31\"/>\n       <use x=\"63.623047\" xlink:href=\"#DejaVuSans-30\"/>\n       <use x=\"127.246094\" xlink:href=\"#DejaVuSans-30\"/>\n       <use x=\"190.869141\" xlink:href=\"#DejaVuSans-30\"/>\n      </g>\n     </g>\n    </g>\n    <g id=\"xtick_3\">\n     <g id=\"line2d_3\">\n      <g>\n       <use style=\"stroke:#000000;stroke-width:0.8;\" x=\"188.299459\" xlink:href=\"#mff74df5126\" y=\"224.64\"/>\n      </g>\n     </g>\n     <g id=\"text_3\">\n      <!-- 2000 -->\n      <g transform=\"translate(175.574459 239.238437)scale(0.1 -0.1)\">\n       <defs>\n        <path d=\"M 1228 531 \nL 3431 531 \nL 3431 0 \nL 469 0 \nL 469 531 \nQ 828 903 1448 1529 \nQ 2069 2156 2228 2338 \nQ 2531 2678 2651 2914 \nQ 2772 3150 2772 3378 \nQ 2772 3750 2511 3984 \nQ 2250 4219 1831 4219 \nQ 1534 4219 1204 4116 \nQ 875 4013 500 3803 \nL 500 4441 \nQ 881 4594 1212 4672 \nQ 1544 4750 1819 4750 \nQ 2544 4750 2975 4387 \nQ 3406 4025 3406 3419 \nQ 3406 3131 3298 2873 \nQ 3191 2616 2906 2266 \nQ 2828 2175 2409 1742 \nQ 1991 1309 1228 531 \nz\n\" id=\"DejaVuSans-32\" transform=\"scale(0.015625)\"/>\n       </defs>\n       <use xlink:href=\"#DejaVuSans-32\"/>\n       <use x=\"63.623047\" xlink:href=\"#DejaVuSans-30\"/>\n       <use x=\"127.246094\" xlink:href=\"#DejaVuSans-30\"/>\n       <use x=\"190.869141\" xlink:href=\"#DejaVuSans-30\"/>\n      </g>\n     </g>\n    </g>\n    <g id=\"xtick_4\">\n     <g id=\"line2d_4\">\n      <g>\n       <use style=\"stroke:#000000;stroke-width:0.8;\" x=\"245.720645\" xlink:href=\"#mff74df5126\" y=\"224.64\"/>\n      </g>\n     </g>\n     <g id=\"text_4\">\n      <!-- 3000 -->\n      <g transform=\"translate(232.995645 239.238437)scale(0.1 -0.1)\">\n       <defs>\n        <path d=\"M 2597 2516 \nQ 3050 2419 3304 2112 \nQ 3559 1806 3559 1356 \nQ 3559 666 3084 287 \nQ 2609 -91 1734 -91 \nQ 1441 -91 1130 -33 \nQ 819 25 488 141 \nL 488 750 \nQ 750 597 1062 519 \nQ 1375 441 1716 441 \nQ 2309 441 2620 675 \nQ 2931 909 2931 1356 \nQ 2931 1769 2642 2001 \nQ 2353 2234 1838 2234 \nL 1294 2234 \nL 1294 2753 \nL 1863 2753 \nQ 2328 2753 2575 2939 \nQ 2822 3125 2822 3475 \nQ 2822 3834 2567 4026 \nQ 2313 4219 1838 4219 \nQ 1578 4219 1281 4162 \nQ 984 4106 628 3988 \nL 628 4550 \nQ 988 4650 1302 4700 \nQ 1616 4750 1894 4750 \nQ 2613 4750 3031 4423 \nQ 3450 4097 3450 3541 \nQ 3450 3153 3228 2886 \nQ 3006 2619 2597 2516 \nz\n\" id=\"DejaVuSans-33\" transform=\"scale(0.015625)\"/>\n       </defs>\n       <use xlink:href=\"#DejaVuSans-33\"/>\n       <use x=\"63.623047\" xlink:href=\"#DejaVuSans-30\"/>\n       <use x=\"127.246094\" xlink:href=\"#DejaVuSans-30\"/>\n       <use x=\"190.869141\" xlink:href=\"#DejaVuSans-30\"/>\n      </g>\n     </g>\n    </g>\n    <g id=\"xtick_5\">\n     <g id=\"line2d_5\">\n      <g>\n       <use style=\"stroke:#000000;stroke-width:0.8;\" x=\"303.14183\" xlink:href=\"#mff74df5126\" y=\"224.64\"/>\n      </g>\n     </g>\n     <g id=\"text_5\">\n      <!-- 4000 -->\n      <g transform=\"translate(290.41683 239.238437)scale(0.1 -0.1)\">\n       <defs>\n        <path d=\"M 2419 4116 \nL 825 1625 \nL 2419 1625 \nL 2419 4116 \nz\nM 2253 4666 \nL 3047 4666 \nL 3047 1625 \nL 3713 1625 \nL 3713 1100 \nL 3047 1100 \nL 3047 0 \nL 2419 0 \nL 2419 1100 \nL 313 1100 \nL 313 1709 \nL 2253 4666 \nz\n\" id=\"DejaVuSans-34\" transform=\"scale(0.015625)\"/>\n       </defs>\n       <use xlink:href=\"#DejaVuSans-34\"/>\n       <use x=\"63.623047\" xlink:href=\"#DejaVuSans-30\"/>\n       <use x=\"127.246094\" xlink:href=\"#DejaVuSans-30\"/>\n       <use x=\"190.869141\" xlink:href=\"#DejaVuSans-30\"/>\n      </g>\n     </g>\n    </g>\n    <g id=\"xtick_6\">\n     <g id=\"line2d_6\">\n      <g>\n       <use style=\"stroke:#000000;stroke-width:0.8;\" x=\"360.563016\" xlink:href=\"#mff74df5126\" y=\"224.64\"/>\n      </g>\n     </g>\n     <g id=\"text_6\">\n      <!-- 5000 -->\n      <g transform=\"translate(347.838016 239.238437)scale(0.1 -0.1)\">\n       <defs>\n        <path d=\"M 691 4666 \nL 3169 4666 \nL 3169 4134 \nL 1269 4134 \nL 1269 2991 \nQ 1406 3038 1543 3061 \nQ 1681 3084 1819 3084 \nQ 2600 3084 3056 2656 \nQ 3513 2228 3513 1497 \nQ 3513 744 3044 326 \nQ 2575 -91 1722 -91 \nQ 1428 -91 1123 -41 \nQ 819 9 494 109 \nL 494 744 \nQ 775 591 1075 516 \nQ 1375 441 1709 441 \nQ 2250 441 2565 725 \nQ 2881 1009 2881 1497 \nQ 2881 1984 2565 2268 \nQ 2250 2553 1709 2553 \nQ 1456 2553 1204 2497 \nQ 953 2441 691 2322 \nL 691 4666 \nz\n\" id=\"DejaVuSans-35\" transform=\"scale(0.015625)\"/>\n       </defs>\n       <use xlink:href=\"#DejaVuSans-35\"/>\n       <use x=\"63.623047\" xlink:href=\"#DejaVuSans-30\"/>\n       <use x=\"127.246094\" xlink:href=\"#DejaVuSans-30\"/>\n       <use x=\"190.869141\" xlink:href=\"#DejaVuSans-30\"/>\n      </g>\n     </g>\n    </g>\n   </g>\n   <g id=\"matplotlib.axis_2\">\n    <g id=\"ytick_1\">\n     <g id=\"line2d_7\">\n      <defs>\n       <path d=\"M 0 0 \nL -3.5 0 \n\" id=\"m50c89a8118\" style=\"stroke:#000000;stroke-width:0.8;\"/>\n      </defs>\n      <g>\n       <use style=\"stroke:#000000;stroke-width:0.8;\" x=\"66.053125\" xlink:href=\"#m50c89a8118\" y=\"224.64\"/>\n      </g>\n     </g>\n     <g id=\"text_7\">\n      <!-- 0 -->\n      <g transform=\"translate(52.690625 228.439219)scale(0.1 -0.1)\">\n       <use xlink:href=\"#DejaVuSans-30\"/>\n      </g>\n     </g>\n    </g>\n    <g id=\"ytick_2\">\n     <g id=\"line2d_8\">\n      <g>\n       <use style=\"stroke:#000000;stroke-width:0.8;\" x=\"66.053125\" xlink:href=\"#m50c89a8118\" y=\"179.634477\"/>\n      </g>\n     </g>\n     <g id=\"text_8\">\n      <!-- 50000 -->\n      <g transform=\"translate(27.240625 183.433696)scale(0.1 -0.1)\">\n       <use xlink:href=\"#DejaVuSans-35\"/>\n       <use x=\"63.623047\" xlink:href=\"#DejaVuSans-30\"/>\n       <use x=\"127.246094\" xlink:href=\"#DejaVuSans-30\"/>\n       <use x=\"190.869141\" xlink:href=\"#DejaVuSans-30\"/>\n       <use x=\"254.492188\" xlink:href=\"#DejaVuSans-30\"/>\n      </g>\n     </g>\n    </g>\n    <g id=\"ytick_3\">\n     <g id=\"line2d_9\">\n      <g>\n       <use style=\"stroke:#000000;stroke-width:0.8;\" x=\"66.053125\" xlink:href=\"#m50c89a8118\" y=\"134.628954\"/>\n      </g>\n     </g>\n     <g id=\"text_9\">\n      <!-- 100000 -->\n      <g transform=\"translate(20.878125 138.428172)scale(0.1 -0.1)\">\n       <use xlink:href=\"#DejaVuSans-31\"/>\n       <use x=\"63.623047\" xlink:href=\"#DejaVuSans-30\"/>\n       <use x=\"127.246094\" xlink:href=\"#DejaVuSans-30\"/>\n       <use x=\"190.869141\" xlink:href=\"#DejaVuSans-30\"/>\n       <use x=\"254.492188\" xlink:href=\"#DejaVuSans-30\"/>\n       <use x=\"318.115234\" xlink:href=\"#DejaVuSans-30\"/>\n      </g>\n     </g>\n    </g>\n    <g id=\"ytick_4\">\n     <g id=\"line2d_10\">\n      <g>\n       <use style=\"stroke:#000000;stroke-width:0.8;\" x=\"66.053125\" xlink:href=\"#m50c89a8118\" y=\"89.62343\"/>\n      </g>\n     </g>\n     <g id=\"text_10\">\n      <!-- 150000 -->\n      <g transform=\"translate(20.878125 93.422649)scale(0.1 -0.1)\">\n       <use xlink:href=\"#DejaVuSans-31\"/>\n       <use x=\"63.623047\" xlink:href=\"#DejaVuSans-35\"/>\n       <use x=\"127.246094\" xlink:href=\"#DejaVuSans-30\"/>\n       <use x=\"190.869141\" xlink:href=\"#DejaVuSans-30\"/>\n       <use x=\"254.492188\" xlink:href=\"#DejaVuSans-30\"/>\n       <use x=\"318.115234\" xlink:href=\"#DejaVuSans-30\"/>\n      </g>\n     </g>\n    </g>\n    <g id=\"ytick_5\">\n     <g id=\"line2d_11\">\n      <g>\n       <use style=\"stroke:#000000;stroke-width:0.8;\" x=\"66.053125\" xlink:href=\"#m50c89a8118\" y=\"44.617907\"/>\n      </g>\n     </g>\n     <g id=\"text_11\">\n      <!-- 200000 -->\n      <g transform=\"translate(20.878125 48.417126)scale(0.1 -0.1)\">\n       <use xlink:href=\"#DejaVuSans-32\"/>\n       <use x=\"63.623047\" xlink:href=\"#DejaVuSans-30\"/>\n       <use x=\"127.246094\" xlink:href=\"#DejaVuSans-30\"/>\n       <use x=\"190.869141\" xlink:href=\"#DejaVuSans-30\"/>\n       <use x=\"254.492188\" xlink:href=\"#DejaVuSans-30\"/>\n       <use x=\"318.115234\" xlink:href=\"#DejaVuSans-30\"/>\n      </g>\n     </g>\n    </g>\n    <g id=\"text_12\">\n     <!-- Frequency -->\n     <g transform=\"translate(14.798438 141.749687)rotate(-90)scale(0.1 -0.1)\">\n      <defs>\n       <path d=\"M 628 4666 \nL 3309 4666 \nL 3309 4134 \nL 1259 4134 \nL 1259 2759 \nL 3109 2759 \nL 3109 2228 \nL 1259 2228 \nL 1259 0 \nL 628 0 \nL 628 4666 \nz\n\" id=\"DejaVuSans-46\" transform=\"scale(0.015625)\"/>\n       <path d=\"M 2631 2963 \nQ 2534 3019 2420 3045 \nQ 2306 3072 2169 3072 \nQ 1681 3072 1420 2755 \nQ 1159 2438 1159 1844 \nL 1159 0 \nL 581 0 \nL 581 3500 \nL 1159 3500 \nL 1159 2956 \nQ 1341 3275 1631 3429 \nQ 1922 3584 2338 3584 \nQ 2397 3584 2469 3576 \nQ 2541 3569 2628 3553 \nL 2631 2963 \nz\n\" id=\"DejaVuSans-72\" transform=\"scale(0.015625)\"/>\n       <path d=\"M 3597 1894 \nL 3597 1613 \nL 953 1613 \nQ 991 1019 1311 708 \nQ 1631 397 2203 397 \nQ 2534 397 2845 478 \nQ 3156 559 3463 722 \nL 3463 178 \nQ 3153 47 2828 -22 \nQ 2503 -91 2169 -91 \nQ 1331 -91 842 396 \nQ 353 884 353 1716 \nQ 353 2575 817 3079 \nQ 1281 3584 2069 3584 \nQ 2775 3584 3186 3129 \nQ 3597 2675 3597 1894 \nz\nM 3022 2063 \nQ 3016 2534 2758 2815 \nQ 2500 3097 2075 3097 \nQ 1594 3097 1305 2825 \nQ 1016 2553 972 2059 \nL 3022 2063 \nz\n\" id=\"DejaVuSans-65\" transform=\"scale(0.015625)\"/>\n       <path d=\"M 947 1747 \nQ 947 1113 1208 752 \nQ 1469 391 1925 391 \nQ 2381 391 2643 752 \nQ 2906 1113 2906 1747 \nQ 2906 2381 2643 2742 \nQ 2381 3103 1925 3103 \nQ 1469 3103 1208 2742 \nQ 947 2381 947 1747 \nz\nM 2906 525 \nQ 2725 213 2448 61 \nQ 2172 -91 1784 -91 \nQ 1150 -91 751 415 \nQ 353 922 353 1747 \nQ 353 2572 751 3078 \nQ 1150 3584 1784 3584 \nQ 2172 3584 2448 3432 \nQ 2725 3281 2906 2969 \nL 2906 3500 \nL 3481 3500 \nL 3481 -1331 \nL 2906 -1331 \nL 2906 525 \nz\n\" id=\"DejaVuSans-71\" transform=\"scale(0.015625)\"/>\n       <path d=\"M 544 1381 \nL 544 3500 \nL 1119 3500 \nL 1119 1403 \nQ 1119 906 1312 657 \nQ 1506 409 1894 409 \nQ 2359 409 2629 706 \nQ 2900 1003 2900 1516 \nL 2900 3500 \nL 3475 3500 \nL 3475 0 \nL 2900 0 \nL 2900 538 \nQ 2691 219 2414 64 \nQ 2138 -91 1772 -91 \nQ 1169 -91 856 284 \nQ 544 659 544 1381 \nz\nM 1991 3584 \nL 1991 3584 \nz\n\" id=\"DejaVuSans-75\" transform=\"scale(0.015625)\"/>\n       <path d=\"M 3513 2113 \nL 3513 0 \nL 2938 0 \nL 2938 2094 \nQ 2938 2591 2744 2837 \nQ 2550 3084 2163 3084 \nQ 1697 3084 1428 2787 \nQ 1159 2491 1159 1978 \nL 1159 0 \nL 581 0 \nL 581 3500 \nL 1159 3500 \nL 1159 2956 \nQ 1366 3272 1645 3428 \nQ 1925 3584 2291 3584 \nQ 2894 3584 3203 3211 \nQ 3513 2838 3513 2113 \nz\n\" id=\"DejaVuSans-6e\" transform=\"scale(0.015625)\"/>\n       <path d=\"M 3122 3366 \nL 3122 2828 \nQ 2878 2963 2633 3030 \nQ 2388 3097 2138 3097 \nQ 1578 3097 1268 2742 \nQ 959 2388 959 1747 \nQ 959 1106 1268 751 \nQ 1578 397 2138 397 \nQ 2388 397 2633 464 \nQ 2878 531 3122 666 \nL 3122 134 \nQ 2881 22 2623 -34 \nQ 2366 -91 2075 -91 \nQ 1284 -91 818 406 \nQ 353 903 353 1747 \nQ 353 2603 823 3093 \nQ 1294 3584 2113 3584 \nQ 2378 3584 2631 3529 \nQ 2884 3475 3122 3366 \nz\n\" id=\"DejaVuSans-63\" transform=\"scale(0.015625)\"/>\n       <path d=\"M 2059 -325 \nQ 1816 -950 1584 -1140 \nQ 1353 -1331 966 -1331 \nL 506 -1331 \nL 506 -850 \nL 844 -850 \nQ 1081 -850 1212 -737 \nQ 1344 -625 1503 -206 \nL 1606 56 \nL 191 3500 \nL 800 3500 \nL 1894 763 \nL 2988 3500 \nL 3597 3500 \nL 2059 -325 \nz\n\" id=\"DejaVuSans-79\" transform=\"scale(0.015625)\"/>\n      </defs>\n      <use xlink:href=\"#DejaVuSans-46\"/>\n      <use x=\"50.269531\" xlink:href=\"#DejaVuSans-72\"/>\n      <use x=\"89.132812\" xlink:href=\"#DejaVuSans-65\"/>\n      <use x=\"150.65625\" xlink:href=\"#DejaVuSans-71\"/>\n      <use x=\"214.132812\" xlink:href=\"#DejaVuSans-75\"/>\n      <use x=\"277.511719\" xlink:href=\"#DejaVuSans-65\"/>\n      <use x=\"339.035156\" xlink:href=\"#DejaVuSans-6e\"/>\n      <use x=\"402.414062\" xlink:href=\"#DejaVuSans-63\"/>\n      <use x=\"457.394531\" xlink:href=\"#DejaVuSans-79\"/>\n     </g>\n    </g>\n   </g>\n   <g id=\"patch_13\">\n    <path d=\"M 66.053125 224.64 \nL 66.053125 7.2 \n\" style=\"fill:none;stroke:#000000;stroke-linecap:square;stroke-linejoin:miter;stroke-width:0.8;\"/>\n   </g>\n   <g id=\"patch_14\">\n    <path d=\"M 400.853125 224.64 \nL 400.853125 7.2 \n\" style=\"fill:none;stroke:#000000;stroke-linecap:square;stroke-linejoin:miter;stroke-width:0.8;\"/>\n   </g>\n   <g id=\"patch_15\">\n    <path d=\"M 66.053125 224.64 \nL 400.853125 224.64 \n\" style=\"fill:none;stroke:#000000;stroke-linecap:square;stroke-linejoin:miter;stroke-width:0.8;\"/>\n   </g>\n   <g id=\"patch_16\">\n    <path d=\"M 66.053125 7.2 \nL 400.853125 7.2 \n\" style=\"fill:none;stroke:#000000;stroke-linecap:square;stroke-linejoin:miter;stroke-width:0.8;\"/>\n   </g>\n  </g>\n </g>\n <defs>\n  <clipPath id=\"p0816eb5b9d\">\n   <rect height=\"217.44\" width=\"334.8\" x=\"66.053125\" y=\"7.2\"/>\n  </clipPath>\n </defs>\n</svg>\n",
      "image/png": "[encoded data removed]"
     },
     "metadata": {
      "needs_background": "light"
     }
    }
   ],
   "source": [
    "df_train.DEPTH_MD.plot(kind='hist')"
   ]
  },
  {
   "source": [
    "## 3. Coding"
   ],
   "cell_type": "markdown",
   "metadata": {}
  },
  {
   "cell_type": "code",
   "execution_count": 13,
   "metadata": {},
   "outputs": [],
   "source": [
    "#                              TODOS\n",
    "# Terminar de analisar as colunas (todas sao continuas aparentemente)\n",
    "# Fazer um baseline com alguns algoritmos de ML (DecisionTree & RandomForrest)\n",
    "# Rodar o primeiro modelo somente com 1 camada\n",
    "# Rodar o segundo modelo com 2 camadas\n",
    "# Deixar o terceiro modelo mais otimizado\n",
    "# Verificar se ha como usar a SMOTE\n",
    "# Fazer as predições ao final com a hidden.csv"
   ]
  },
  {
   "source": [
    "### 3.1 Split X and Y"
   ],
   "cell_type": "markdown",
   "metadata": {}
  },
  {
   "cell_type": "code",
   "execution_count": 14,
   "metadata": {},
   "outputs": [],
   "source": [
    "X = df_train[['DEPTH_MD', 'X_LOC', 'Y_LOC', 'Z_LOC', 'CALI', 'RSHA', 'RMED', 'RDEP',\n",
    "       'RHOB', 'GR', 'NPHI', 'PEF','DTC', 'SP', 'BS', 'ROP', 'DCAL', 'DRHO',\n",
    "       'MUDWEIGHT', 'RMIC', 'Carbon_Index',\n",
    "       'Normalized_RHOB', 'Normalized_GR', 'Delta_DTC', 'Delta_RHOB',\n",
    "       'Delta_GR', 'Delta_DEPTH_MD', 'Delta_Carbon_Index', 'GROUP_encoded',\n",
    "       'FORMATION_encoded']]\n",
    "Y = df_train[['FORCE_2020_LITHOFACIES_LITHOLOGY_CAT']]"
   ]
  },
  {
   "source": [
    "### 3.2 Train/Test Split (Stratified due to unbalanced dataset per class)"
   ],
   "cell_type": "markdown",
   "metadata": {}
  },
  {
   "cell_type": "code",
   "execution_count": 15,
   "metadata": {},
   "outputs": [],
   "source": [
    "from sklearn.model_selection import train_test_split\n",
    "X_train, X_test, y_train, y_test = train_test_split(X, Y,\n",
    "                                                    stratify=Y, \n",
    "                                                    test_size=0.25)"
   ]
  },
  {
   "source": [
    "### 3.3 Measuring the dataset size per class \n",
    "\n",
    "As we can see, some classes, like Basement and Anhydrite are very poor represented here, which can cause problemas."
   ],
   "cell_type": "markdown",
   "metadata": {}
  },
  {
   "cell_type": "code",
   "execution_count": 16,
   "metadata": {},
   "outputs": [
    {
     "output_type": "execute_result",
     "data": {
      "text/plain": [
       "Shale              540602\n",
       "Sandstone          126702\n",
       "Sandstone/Shale    112841\n",
       "Limestone           42240\n",
       "Marl                24997\n",
       "Tuff                11434\n",
       "Chalk                7885\n",
       "Halite               6160\n",
       "Coal                 2865\n",
       "Dolomite             1266\n",
       "Anhydrite             814\n",
       "Basement               77\n",
       "Name: FORCE_2020_LITHOFACIES_LITHOLOGY_CAT, dtype: int64"
      ]
     },
     "metadata": {},
     "execution_count": 16
    }
   ],
   "source": [
    "y_train.FORCE_2020_LITHOFACIES_LITHOLOGY_CAT.value_counts()"
   ]
  },
  {
   "cell_type": "code",
   "execution_count": 17,
   "metadata": {},
   "outputs": [
    {
     "output_type": "execute_result",
     "data": {
      "text/plain": [
       "Shale              180201\n",
       "Sandstone           42235\n",
       "Sandstone/Shale     37614\n",
       "Limestone           14080\n",
       "Marl                 8332\n",
       "Tuff                 3811\n",
       "Chalk                2628\n",
       "Halite               2053\n",
       "Coal                  955\n",
       "Dolomite              422\n",
       "Anhydrite             271\n",
       "Basement               26\n",
       "Name: FORCE_2020_LITHOFACIES_LITHOLOGY_CAT, dtype: int64"
      ]
     },
     "metadata": {},
     "execution_count": 17
    }
   ],
   "source": [
    "y_test.FORCE_2020_LITHOFACIES_LITHOLOGY_CAT.value_counts()"
   ]
  },
  {
   "source": [
    "### 3.4 Standard Scale\n",
    "\n",
    "As we can see above in Section 2.0, all data are continuous. To avoid problems with different scales, let's standard the data first."
   ],
   "cell_type": "markdown",
   "metadata": {}
  },
  {
   "cell_type": "code",
   "execution_count": 18,
   "metadata": {},
   "outputs": [],
   "source": [
    "from sklearn.preprocessing import StandardScaler\n",
    "\n",
    "std = StandardScaler()\n",
    "X_tranin_transform = std.fit_transform(X_train)\n",
    "X_test_transform = std.transform(X_test)"
   ]
  },
  {
   "source": [
    "### 3.5 Encode Y values"
   ],
   "cell_type": "markdown",
   "metadata": {}
  },
  {
   "cell_type": "code",
   "execution_count": 19,
   "metadata": {},
   "outputs": [],
   "source": [
    "from sklearn.preprocessing import OrdinalEncoder\n",
    "\n",
    "oe = OrdinalEncoder()\n",
    "\n",
    "y_train_enc = oe.fit_transform(y_train)\n",
    "y_test_enc = oe.transform(y_test)"
   ]
  },
  {
   "source": [
    "## 4. Architectures"
   ],
   "cell_type": "markdown",
   "metadata": {}
  },
  {
   "source": [
    "### Baseline with Decision Tree (Unbalanced data)"
   ],
   "cell_type": "markdown",
   "metadata": {}
  },
  {
   "cell_type": "code",
   "execution_count": 20,
   "metadata": {},
   "outputs": [],
   "source": [
    "from sklearn.tree import DecisionTreeClassifier\n",
    "\n",
    "clf = DecisionTreeClassifier(random_state=42)\n",
    "model = clf.fit(X_tranin_transform, y_train_enc)"
   ]
  },
  {
   "cell_type": "code",
   "execution_count": 21,
   "metadata": {},
   "outputs": [
    {
     "output_type": "execute_result",
     "data": {
      "text/plain": [
       "0.9235753243025274"
      ]
     },
     "metadata": {},
     "execution_count": 21
    }
   ],
   "source": [
    "from sklearn.metrics import accuracy_score\n",
    "\n",
    "y_pred = model.predict(X_test_transform)\n",
    "accuracy_score(y_test_enc, y_pred)"
   ]
  },
  {
   "source": [
    "### Rebalancing dataset"
   ],
   "cell_type": "markdown",
   "metadata": {}
  },
  {
   "cell_type": "code",
   "execution_count": 22,
   "metadata": {},
   "outputs": [],
   "source": [
    "from imblearn.over_sampling import SMOTE\n",
    "\n",
    "oversample = SMOTE()\n",
    "X_balanced, y_balanced = oversample.fit_resample(X, Y)"
   ]
  },
  {
   "cell_type": "code",
   "execution_count": 23,
   "metadata": {},
   "outputs": [
    {
     "output_type": "execute_result",
     "data": {
      "text/plain": [
       "Halite             720803\n",
       "Tuff               720803\n",
       "Shale              720803\n",
       "Marl               720803\n",
       "Chalk              720803\n",
       "Anhydrite          720803\n",
       "Sandstone          720803\n",
       "Basement           720803\n",
       "Coal               720803\n",
       "Sandstone/Shale    720803\n",
       "Dolomite           720803\n",
       "Limestone          720803\n",
       "Name: FORCE_2020_LITHOFACIES_LITHOLOGY_CAT, dtype: int64"
      ]
     },
     "metadata": {},
     "execution_count": 23
    }
   ],
   "source": [
    "y_balanced.FORCE_2020_LITHOFACIES_LITHOLOGY_CAT.value_counts()"
   ]
  },
  {
   "source": [
    "### Retrying baseline with oversampled data"
   ],
   "cell_type": "markdown",
   "metadata": {}
  },
  {
   "cell_type": "code",
   "execution_count": 25,
   "metadata": {},
   "outputs": [
    {
     "output_type": "execute_result",
     "data": {
      "text/plain": [
       "0.9888374493446892"
      ]
     },
     "metadata": {},
     "execution_count": 25
    }
   ],
   "source": [
    "from sklearn.preprocessing import StandardScaler\n",
    "from sklearn.preprocessing import OrdinalEncoder\n",
    "from sklearn.tree import DecisionTreeClassifier\n",
    "from sklearn.model_selection import train_test_split\n",
    "\n",
    "std = StandardScaler()\n",
    "oe = OrdinalEncoder()\n",
    "clf = DecisionTreeClassifier(random_state=42)\n",
    "\n",
    "X_train_balanced, X_test_balanced, y_train_balanced, y_test_balanced = train_test_split(X_balanced, y_balanced,\n",
    "                                                    stratify=y_balanced, \n",
    "                                                    test_size=0.25)\n",
    "\n",
    "X_train_transform_balanced = std.fit_transform(X_train_balanced)\n",
    "X_test_transform_balanced = std.transform(X_test_balanced)\n",
    "\n",
    "y_train_enc_balanced = oe.fit_transform(y_train_balanced)\n",
    "y_test_enc_balanced = oe.transform(y_test_balanced)\n",
    "\n",
    "model_balanced = clf.fit(X_train_transform_balanced, y_train_enc_balanced)\n",
    "y_pred_balanced = model_balanced.predict(X_test_transform_balanced)\n",
    "accuracy_score(y_test_enc_balanced, y_pred_balanced)"
   ]
  }
 ]
}